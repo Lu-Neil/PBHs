{
 "cells": [
  {
   "cell_type": "code",
   "execution_count": 4,
   "id": "73ace270",
   "metadata": {},
   "outputs": [],
   "source": [
    "import numpy as np\n",
    "import matplotlib.pyplot as pl\n",
    "from scipy.integrate import quad"
   ]
  },
  {
   "cell_type": "code",
   "execution_count": 5,
   "id": "e7876653",
   "metadata": {},
   "outputs": [],
   "source": [
    "def ra_to_rad(hours, mins, secs): # taken from footnote 1 from https://physics.stackexchange.com/questions/224950/how-can-i-convert-right-ascension-and-declination-to-distances\n",
    "    return (hours*15 + mins/4 + secs/240)*np.pi/180\n",
    "    \n",
    "def dec_to_rad(degrees, mins, secs):\n",
    "    return (degrees + mins/60 + secs/3600)*np.pi/180"
   ]
  },
  {
   "cell_type": "code",
   "execution_count": 6,
   "id": "802820aa",
   "metadata": {},
   "outputs": [],
   "source": [
    "ra = ra_to_rad(17, 45, 40.04)\n",
    "dec = dec_to_rad(-29, 0, 28.1)\n",
    "lambdaL = 30.56*180/np.pi\n",
    "gammaL = 243.0*180/np.pi\n",
    "OmegaR = 7.292*1e-5"
   ]
  },
  {
   "cell_type": "code",
   "execution_count": 16,
   "id": "477289e0",
   "metadata": {},
   "outputs": [
    {
     "data": {
      "text/plain": [
       "0.3490658503988659"
      ]
     },
     "execution_count": 16,
     "metadata": {},
     "output_type": "execute_result"
    }
   ],
   "source": [
    "dec_to_rad(20, 0, 0)"
   ]
  },
  {
   "cell_type": "code",
   "execution_count": 7,
   "id": "e3b7dcf0",
   "metadata": {},
   "outputs": [],
   "source": [
    "def a(t, gamma, lambda_, delta, alpha, Omega):\n",
    "    temp0 = 1/16*np.sin(2*gamma)*(3-np.cos(2*lambda_))*\\\n",
    "            (3-np.cos(2*delta))*np.cos(2*(alpha-Omega*t))\n",
    "    temp1 = -1/4*np.cos(2*gamma)*np.sin(lambda_)*\\\n",
    "            (3-np.cos(2*delta))*np.sin(2*(alpha-Omega*t))\n",
    "    temp2 = 1/4*np.sin(2*gamma)*np.sin(2*lambda_)*\\\n",
    "            np.sin(2*delta)*np.cos(alpha-Omega*t)\n",
    "    temp3 = -1/2*np.cos(2*gamma)*np.cos(lambda_)*\\\n",
    "            np.sin(2*delta)*np.sin(alpha-Omega*t)\n",
    "    temp4 = 3/4*np.sin(2*gamma)*np.cos(lambda_)**2*np.cos(delta)**2\n",
    "    return temp0 + temp1 + temp2 + temp3 + temp4\n",
    "\n",
    "def b(t, gamma, lambda_, delta, alpha, Omega):\n",
    "    temp0 = np.cos(2*gamma)*np.sin(lambda_)*\\\n",
    "            np.sin(delta)*np.cos(2*(alpha-Omega*t))\n",
    "    temp1 = 1/4*np.sin(2*gamma)*(3-np.cos(2*lambda_))*\\\n",
    "            np.sin(delta)*np.sin(2*(alpha-Omega*t))\n",
    "    temp2 = np.cos(2*gamma)*np.cos(lambda_)*\\\n",
    "            np.cos(delta)*np.cos(alpha-Omega*t)\n",
    "    temp3 = 1/2*np.sin(2*gamma)*np.sin(2*lambda_)*\\\n",
    "            np.cos(delta)*np.sin(alpha-Omega*t)\n",
    "    return temp0+temp1+temp2+temp3\n",
    "\n",
    "def integrate_func(t, gamma, lambda_, delta, alpha, Omega):\n",
    "    return a(t, gamma, lambda_, delta, alpha, Omega)**2 + \\\n",
    "            b(t, gamma, lambda_, delta, alpha, Omega)**2"
   ]
  },
  {
   "cell_type": "code",
   "execution_count": 8,
   "id": "f475ae1f",
   "metadata": {},
   "outputs": [
    {
     "data": {
      "text/plain": [
       "[<matplotlib.lines.Line2D at 0x7f756c96da10>]"
      ]
     },
     "execution_count": 8,
     "metadata": {},
     "output_type": "execute_result"
    },
    {
     "data": {
      "image/png": "[encoded data removed]",
      "text/plain": [
       "<Figure size 432x288 with 1 Axes>"
      ]
     },
     "metadata": {
      "needs_background": "light"
     },
     "output_type": "display_data"
    }
   ],
   "source": [
    "t_space = np.linspace(0, 1e5, 1000)\n",
    "pl.plot(t_space, a(t_space, gammaL, lambdaL, dec, ra, OmegaR))\n",
    "pl.plot(t_space, b(t_space, gammaL, lambdaL, dec, ra, OmegaR))"
   ]
  },
  {
   "cell_type": "code",
   "execution_count": 14,
   "id": "cd0effac",
   "metadata": {},
   "outputs": [
    {
     "name": "stderr",
     "output_type": "stream",
     "text": [
      "/home/neil/anaconda3/envs/PBHs/lib/python3.7/site-packages/ipykernel_launcher.py:3: IntegrationWarning: The maximum number of subdivisions (50) has been achieved.\n",
      "  If increasing the limit yields no improvement it is advised to analyze \n",
      "  the integrand in order to determine the difficulties.  If the position of a \n",
      "  local difficulty can be determined (singularity, discontinuity) one will \n",
      "  probably gain from splitting up the interval and calling the integrator \n",
      "  on the subranges.  Perhaps a special-purpose integrator should be used.\n",
      "  This is separate from the ipykernel package so we can avoid doing imports until\n"
     ]
    },
    {
     "data": {
      "text/plain": [
       "0.34179005792679323"
      ]
     },
     "execution_count": 14,
     "metadata": {},
     "output_type": "execute_result"
    }
   ],
   "source": [
    "time = 1e8\n",
    "\n",
    "1/time*quad(integrate_func, 0, time, args=(gammaL, lambdaL, dec, ra, OmegaR))[0]"
   ]
  },
  {
   "cell_type": "code",
   "execution_count": null,
   "id": "dda13ff5",
   "metadata": {},
   "outputs": [],
   "source": []
  }
 ],
 "metadata": {
  "kernelspec": {
   "display_name": "Python 3 (ipykernel)",
   "language": "python",
   "name": "python3"
  },
  "language_info": {
   "codemirror_mode": {
    "name": "ipython",
    "version": 3
   },
   "file_extension": ".py",
   "mimetype": "text/x-python",
   "name": "python",
   "nbconvert_exporter": "python",
   "pygments_lexer": "ipython3",
   "version": "3.7.11"
  }
 },
 "nbformat": 4,
 "nbformat_minor": 5
}
