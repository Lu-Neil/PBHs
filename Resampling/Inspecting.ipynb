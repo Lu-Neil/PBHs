{
 "cells": [
  {
   "cell_type": "code",
   "execution_count": 2,
   "id": "4b22cf1b",
   "metadata": {},
   "outputs": [],
   "source": [
    "import numpy as np\n",
    "import matplotlib.pyplot as pl\n",
    "import time"
   ]
  },
  {
   "cell_type": "code",
   "execution_count": 3,
   "id": "953d877e",
   "metadata": {},
   "outputs": [],
   "source": [
    "from varname import nameof, argname\n",
    "def copier(arg):\n",
    "    og_name = argname('arg')\n",
    "    new_name = og_name + '_copy'\n",
    "    globals()[new_name] = arg"
   ]
  },
  {
   "cell_type": "code",
   "execution_count": 4,
   "id": "2b105ed7",
   "metadata": {},
   "outputs": [],
   "source": [
    "c = 3e8\n",
    "G = 6.67e-11\n",
    "pi = np.pi\n",
    "const = 96/5*pi**(8/3)*(G/c**3)**(5/3)"
   ]
  },
  {
   "cell_type": "markdown",
   "id": "d9674712",
   "metadata": {},
   "source": [
    "Specific arguments"
   ]
  },
  {
   "cell_type": "code",
   "execution_count": 34,
   "id": "6522e7f1",
   "metadata": {},
   "outputs": [],
   "source": [
    "f0 = 120\n",
    "Mc = 3e-4* 2e30\n",
    "f_max = 200\n",
    "T_obs = 1e4\n",
    "beta = const*f0**(8/3)*Mc**(5/3)\n",
    "\n",
    "f_signal = 40*f_max\n",
    "nt = round(f_signal*T_obs)\n",
    "t = np.arange(nt)/f_signal"
   ]
  },
  {
   "cell_type": "code",
   "execution_count": 35,
   "id": "4de70539",
   "metadata": {},
   "outputs": [
    {
     "data": {
      "text/plain": [
       "2.7439303219997145e-07"
      ]
     },
     "execution_count": 35,
     "metadata": {},
     "output_type": "execute_result"
    }
   ],
   "source": [
    "beta"
   ]
  },
  {
   "cell_type": "markdown",
   "id": "92e663f2",
   "metadata": {},
   "source": [
    "Generating signal and adding noise"
   ]
  },
  {
   "cell_type": "code",
   "execution_count": 36,
   "id": "11b8e7ef",
   "metadata": {},
   "outputs": [],
   "source": [
    "phi = -6*pi/5*f0*(1-8./3.*beta*t)**(5/8)/beta\n",
    "phi = np.mod(phi,2*pi)\n",
    "signal = 1*np.exp(1j*phi)\n",
    "\n",
    "nh = 50\n",
    "noise = nh*np.random.normal(size = nt)\n",
    "data = signal + noise"
   ]
  },
  {
   "cell_type": "code",
   "execution_count": 37,
   "id": "e830c3cd",
   "metadata": {},
   "outputs": [],
   "source": [
    "# np.savez('./Realisations/beta=%.2e_Realisation0' % beta, data)"
   ]
  },
  {
   "cell_type": "code",
   "execution_count": 38,
   "id": "19fc77c6",
   "metadata": {},
   "outputs": [],
   "source": [
    "beta = 2.74e-07\n",
    "data = np.load('./Realisations/beta=%.2e_Realisation0.npz' % beta)['arr_0']"
   ]
  },
  {
   "cell_type": "code",
   "execution_count": 39,
   "id": "aba45eeb",
   "metadata": {},
   "outputs": [],
   "source": [
    "%reset_selective -f \"^signal$\"\n",
    "# %reset_selective -f noise\n",
    "%reset_selective -f phi"
   ]
  },
  {
   "cell_type": "code",
   "execution_count": 40,
   "id": "cda95201",
   "metadata": {},
   "outputs": [],
   "source": [
    "# freqs = np.fft.fftshift(np.fft.fftfreq(len(t), d=t[1]-t[0]))\n",
    "# fft = np.fft.fftshift(np.fft.fft(data))\n",
    "# freqs = freqs[len(freqs)//2:]\n",
    "# fft = fft[len(fft)//2:]"
   ]
  },
  {
   "cell_type": "code",
   "execution_count": 41,
   "id": "d71969e6",
   "metadata": {},
   "outputs": [],
   "source": [
    "# pl.plot(freqs, np.abs(fft)/nt)\n",
    "# pl.xlim(0, 200)"
   ]
  },
  {
   "cell_type": "code",
   "execution_count": 42,
   "id": "fcd186f3",
   "metadata": {},
   "outputs": [],
   "source": [
    "def strobo(beta, data, f_ratio):\n",
    "    new_t = -3/5*(1-8/3*beta*t)**(5/8)/beta\n",
    "    f_new = f_signal/f_ratio\n",
    "    \n",
    "    new_t *= f_new #changes the frequency to the new downsampled frequency (approximately, not exactly)\n",
    "    floor_t = np.floor(new_t) #For some reason floor works better than round. Take it to the nearest time index which are integers\n",
    "    idx = np.nonzero(np.diff(floor_t)) #The step that downsamples\n",
    "    resampled = data[idx]\n",
    "    t_out = (new_t[idx]-new_t[0])/f_new\n",
    "    return (resampled, t_out)"
   ]
  },
  {
   "cell_type": "code",
   "execution_count": 43,
   "id": "befe1206",
   "metadata": {},
   "outputs": [],
   "source": [
    "f_ratio = 25\n",
    "out, t_out = strobo(beta, data, f_ratio)\n",
    "corrected = np.fft.fftshift(np.fft.fft(out))\n",
    "freq_corrected = np.fft.fftshift(np.fft.fftfreq(len(t_out), d=t_out[1]-t_out[0]))\n",
    "corrected = corrected[len(corrected)//2:]\n",
    "freq_corrected = freq_corrected[len(freq_corrected)//2:]\n",
    "nt_new = len(out)"
   ]
  },
  {
   "cell_type": "code",
   "execution_count": 47,
   "id": "218a6bc8",
   "metadata": {
    "scrolled": true
   },
   "outputs": [
    {
     "data": {
      "text/plain": [
       "[<matplotlib.lines.Line2D at 0x7f62412de7d0>]"
      ]
     },
     "execution_count": 47,
     "metadata": {},
     "output_type": "execute_result"
    },
    {
     "data": {
      "image/png": "[encoded data removed]",
      "text/plain": [
       "<Figure size 432x288 with 1 Axes>"
      ]
     },
     "metadata": {
      "needs_background": "light"
     },
     "output_type": "display_data"
    }
   ],
   "source": [
    "pl.plot(freq_corrected, np.abs(corrected/nt_new)**2)"
   ]
  },
  {
   "cell_type": "markdown",
   "id": "f32fbb44",
   "metadata": {},
   "source": [
    "## Numerically estimating error"
   ]
  },
  {
   "cell_type": "code",
   "execution_count": 104,
   "id": "f4139893",
   "metadata": {},
   "outputs": [],
   "source": [
    "def power_calc(beta):\n",
    "    new_t = -3/5*(1-8/3*beta*t)**(5/8)/beta\n",
    "    out, t_out = strobo(beta, data, f_ratio)\n",
    "    corrected = np.fft.fftshift(np.fft.fft(out))\n",
    "    freq_corrected = np.fft.fftshift(np.fft.fftfreq(len(t_out), d=t_out[1]-t_out[0]))\n",
    "    corrected = corrected[len(corrected)//2:]\n",
    "    freq_corrected = freq_corrected[len(freq_corrected)//2:]\n",
    "    resampled_power = np.abs(corrected/len(out))**2\n",
    "    \n",
    "    arg_max = np.argmax(resampled_power)\n",
    "    peak_freq = freq_corrected[arg_max]\n",
    "    peak_power = resampled_power[arg_max]\n",
    "    return peak_freq, peak_power"
   ]
  },
  {
   "cell_type": "code",
   "execution_count": 105,
   "id": "bd3190b7",
   "metadata": {},
   "outputs": [
    {
     "data": {
      "text/plain": [
       "(119.99961121475691, 0.06918189266874951)"
      ]
     },
     "execution_count": 105,
     "metadata": {},
     "output_type": "execute_result"
    }
   ],
   "source": [
    "ref_freq, ref_power = power_calc(beta)\n",
    "power_calc((1+1e-2)*beta)"
   ]
  },
  {
   "cell_type": "code",
   "execution_count": 101,
   "id": "64a5cc24",
   "metadata": {},
   "outputs": [],
   "source": [
    "def inspecting(beta):\n",
    "    new_t = -3/5*(1-8/3*beta*t)**(5/8)/beta\n",
    "    out, t_out = strobo(beta, data, f_ratio)\n",
    "    corrected = np.fft.fftshift(np.fft.fft(out))\n",
    "    freq_corrected = np.fft.fftshift(np.fft.fftfreq(len(t_out), d=t_out[1]-t_out[0]))\n",
    "    corrected = corrected[len(corrected)//2:]\n",
    "    freq_corrected = freq_corrected[len(freq_corrected)//2:]\n",
    "    resampled_power = np.abs(corrected/len(out))**2\n",
    "    \n",
    "    arg_max = np.argmax(resampled_amplitudes)\n",
    "    peak_freq = freq_corrected[arg_max]\n",
    "    peak_power = resampled_power[arg_max]\n",
    "    return freq_corrected, resampled_power"
   ]
  },
  {
   "cell_type": "code",
   "execution_count": 102,
   "id": "67ea2019",
   "metadata": {},
   "outputs": [],
   "source": [
    "freq_corrected, resampled_power = inspecting((1+1e-2)*beta)"
   ]
  },
  {
   "cell_type": "code",
   "execution_count": 103,
   "id": "5b40b966",
   "metadata": {},
   "outputs": [
    {
     "data": {
      "text/plain": [
       "(119.9, 120.1)"
      ]
     },
     "execution_count": 103,
     "metadata": {},
     "output_type": "execute_result"
    },
    {
     "data": {
      "image/png": "[encoded data removed]",
      "text/plain": [
       "<Figure size 432x288 with 1 Axes>"
      ]
     },
     "metadata": {
      "needs_background": "light"
     },
     "output_type": "display_data"
    }
   ],
   "source": [
    "pl.plot(freq_corrected, resampled_amplitudes)\n",
    "pl.xlim(119.9, 120.1)"
   ]
  },
  {
   "cell_type": "code",
   "execution_count": 49,
   "id": "3bc273a0",
   "metadata": {},
   "outputs": [
    {
     "name": "stdout",
     "output_type": "stream",
     "text": [
      "1.3332523266474405\n"
     ]
    }
   ],
   "source": [
    "tic = time.time()\n",
    "offset_arr = np.logspace(-8, -7, 20)\n",
    "ref_freq, ref_power = power_calc(beta)\n",
    "\n",
    "offset_results = np.array([power_calc(beta+i*beta) for i in offset_arr])\n",
    "toc = time.time()\n",
    "print((toc-tic)/60)"
   ]
  },
  {
   "cell_type": "code",
   "execution_count": 53,
   "id": "5e6451e1",
   "metadata": {},
   "outputs": [
    {
     "data": {
      "text/plain": [
       "<matplotlib.lines.Line2D at 0x7f62417f4310>"
      ]
     },
     "execution_count": 53,
     "metadata": {},
     "output_type": "execute_result"
    },
    {
     "data": {
      "image/png": "[encoded data removed]",
      "text/plain": [
       "<Figure size 432x288 with 1 Axes>"
      ]
     },
     "metadata": {
      "needs_background": "light"
     },
     "output_type": "display_data"
    }
   ],
   "source": [
    "pl.semilogx(offset_arr, offset_results[:,1]/ref_power)\n",
    "pl.xlabel(r'$\\Delta \\beta / \\beta$')\n",
    "pl.ylabel('power ratio')\n",
    "pl.title(r'$\\beta_{exact} = %.1E$' % beta)\n",
    "# pl.axvline(offset_arr[16], c='r')\n",
    "\n",
    "#Large jump between index 15 and 16"
   ]
  },
  {
   "cell_type": "code",
   "execution_count": 106,
   "id": "bba2a040",
   "metadata": {},
   "outputs": [],
   "source": [
    "freq_ref, power_ref = inspecting(beta)\n",
    "freq_corrected0, resampled_power0 = inspecting((1+offset_arr[15])*beta)\n",
    "freq_corrected1, resampled_power1 = inspecting((1+offset_arr[16])*beta)\n",
    "freq_incorrect, power_incorrect = inspecting(10*beta)"
   ]
  },
  {
   "cell_type": "code",
   "execution_count": 107,
   "id": "cc9a9ddc",
   "metadata": {},
   "outputs": [
    {
     "name": "stdout",
     "output_type": "stream",
     "text": [
      "0.24 0.24\n",
      "These are the identified indices with the jump\n"
     ]
    }
   ],
   "source": [
    "print('%.2f' % max(resampled_power/ref_power), '%.2f' % max(resampled_power/ref_power))\n",
    "print(\"These are the identified indices with the jump\")"
   ]
  },
  {
   "cell_type": "code",
   "execution_count": 1,
   "id": "da3b0981",
   "metadata": {},
   "outputs": [
    {
     "ename": "NameError",
     "evalue": "name 'pl' is not defined",
     "output_type": "error",
     "traceback": [
      "\u001b[0;31m---------------------------------------------------------------------------\u001b[0m",
      "\u001b[0;31mNameError\u001b[0m                                 Traceback (most recent call last)",
      "\u001b[0;32m/tmp/ipykernel_41369/1724842446.py\u001b[0m in \u001b[0;36m<module>\u001b[0;34m\u001b[0m\n\u001b[0;32m----> 1\u001b[0;31m \u001b[0mpl\u001b[0m\u001b[0;34m.\u001b[0m\u001b[0mplot\u001b[0m\u001b[0;34m(\u001b[0m\u001b[0mfreq_ref\u001b[0m\u001b[0;34m,\u001b[0m \u001b[0mpower_ref\u001b[0m\u001b[0;34m,\u001b[0m \u001b[0mlabel\u001b[0m \u001b[0;34m=\u001b[0m \u001b[0;34m'exact beta'\u001b[0m\u001b[0;34m)\u001b[0m\u001b[0;34m\u001b[0m\u001b[0;34m\u001b[0m\u001b[0m\n\u001b[0m\u001b[1;32m      2\u001b[0m \u001b[0mpl\u001b[0m\u001b[0;34m.\u001b[0m\u001b[0mplot\u001b[0m\u001b[0;34m(\u001b[0m\u001b[0mfreq_corrected1\u001b[0m\u001b[0;34m,\u001b[0m \u001b[0mresampled_power1\u001b[0m\u001b[0;34m,\u001b[0m \u001b[0mlabel\u001b[0m \u001b[0;34m=\u001b[0m \u001b[0;34m'incorrect beta 1'\u001b[0m\u001b[0;34m)\u001b[0m\u001b[0;34m\u001b[0m\u001b[0;34m\u001b[0m\u001b[0m\n\u001b[1;32m      3\u001b[0m \u001b[0mpl\u001b[0m\u001b[0;34m.\u001b[0m\u001b[0mplot\u001b[0m\u001b[0;34m(\u001b[0m\u001b[0mfreq_corrected0\u001b[0m\u001b[0;34m,\u001b[0m \u001b[0mresampled_power0\u001b[0m\u001b[0;34m)\u001b[0m\u001b[0;34m\u001b[0m\u001b[0;34m\u001b[0m\u001b[0m\n\u001b[1;32m      4\u001b[0m \u001b[0mpl\u001b[0m\u001b[0;34m.\u001b[0m\u001b[0mplot\u001b[0m\u001b[0;34m(\u001b[0m\u001b[0mfreq_incorrect\u001b[0m\u001b[0;34m,\u001b[0m \u001b[0mpower_incorrect\u001b[0m\u001b[0;34m)\u001b[0m\u001b[0;34m\u001b[0m\u001b[0;34m\u001b[0m\u001b[0m\n\u001b[1;32m      5\u001b[0m \u001b[0mpl\u001b[0m\u001b[0;34m.\u001b[0m\u001b[0maxvline\u001b[0m\u001b[0;34m(\u001b[0m\u001b[0mfreq_corrected0\u001b[0m\u001b[0;34m[\u001b[0m\u001b[0mnp\u001b[0m\u001b[0;34m.\u001b[0m\u001b[0margmax\u001b[0m\u001b[0;34m(\u001b[0m\u001b[0mresampled_power0\u001b[0m\u001b[0;34m)\u001b[0m\u001b[0;34m]\u001b[0m\u001b[0;34m,\u001b[0m \u001b[0mc\u001b[0m\u001b[0;34m=\u001b[0m\u001b[0;34m'r'\u001b[0m\u001b[0;34m)\u001b[0m\u001b[0;34m\u001b[0m\u001b[0;34m\u001b[0m\u001b[0m\n",
      "\u001b[0;31mNameError\u001b[0m: name 'pl' is not defined"
     ]
    }
   ],
   "source": [
    "pl.plot(freq_ref, power_ref, label = 'exact beta')\n",
    "pl.plot(freq_corrected1, resampled_power1, label = 'incorrect beta 1')\n",
    "pl.plot(freq_corrected0, resampled_power0)\n",
    "pl.plot(freq_incorrect, power_incorrect)\n",
    "pl.axvline(freq_corrected0[np.argmax(resampled_power0)], c='r')\n",
    "\n",
    "pl.xlim(119.999, 120.001)"
   ]
  },
  {
   "cell_type": "code",
   "execution_count": 109,
   "id": "d989dee5",
   "metadata": {},
   "outputs": [
    {
     "data": {
      "text/plain": [
       "1252.0276455122973"
      ]
     },
     "execution_count": 109,
     "metadata": {},
     "output_type": "execute_result"
    }
   ],
   "source": [
    "np.sum(resampled_power1)"
   ]
  },
  {
   "cell_type": "code",
   "execution_count": 110,
   "id": "ced8cdcd",
   "metadata": {},
   "outputs": [
    {
     "data": {
      "text/plain": [
       "1250.6411912582025"
      ]
     },
     "execution_count": 110,
     "metadata": {},
     "output_type": "execute_result"
    }
   ],
   "source": [
    "np.sum(resampled_power0)"
   ]
  },
  {
   "cell_type": "code",
   "execution_count": 111,
   "id": "8cef70a3",
   "metadata": {},
   "outputs": [
    {
     "data": {
      "text/plain": [
       "1251.860990375777"
      ]
     },
     "execution_count": 111,
     "metadata": {},
     "output_type": "execute_result"
    }
   ],
   "source": [
    "np.sum(power_ref)"
   ]
  },
  {
   "cell_type": "code",
   "execution_count": 112,
   "id": "3ae37ab5",
   "metadata": {},
   "outputs": [
    {
     "data": {
      "text/plain": [
       "1251.3902467814187"
      ]
     },
     "execution_count": 112,
     "metadata": {},
     "output_type": "execute_result"
    }
   ],
   "source": [
    "np.sum(power_incorrect)"
   ]
  },
  {
   "cell_type": "code",
   "execution_count": null,
   "id": "b0ea2ae0",
   "metadata": {},
   "outputs": [],
   "source": []
  }
 ],
 "metadata": {
  "kernelspec": {
   "display_name": "Python 3 (ipykernel)",
   "language": "python",
   "name": "python3"
  },
  "language_info": {
   "codemirror_mode": {
    "name": "ipython",
    "version": 3
   },
   "file_extension": ".py",
   "mimetype": "text/x-python",
   "name": "python",
   "nbconvert_exporter": "python",
   "pygments_lexer": "ipython3",
   "version": "3.7.11"
  }
 },
 "nbformat": 4,
 "nbformat_minor": 5
}
