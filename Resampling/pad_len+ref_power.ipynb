{
 "cells": [
  {
   "cell_type": "code",
   "execution_count": 37,
   "id": "4b22cf1b",
   "metadata": {},
   "outputs": [],
   "source": [
    "import numpy as np\n",
    "import matplotlib.pyplot as pl\n",
    "import time\n",
    "from joblib import Parallel, delayed\n",
    "import pyfftw"
   ]
  },
  {
   "cell_type": "code",
   "execution_count": 38,
   "id": "2b105ed7",
   "metadata": {},
   "outputs": [],
   "source": [
    "c = 3e8\n",
    "G = 6.67e-11\n",
    "pi = np.pi\n",
    "const = 96/5*pi**(8/3)*(G/c**3)**(5/3)"
   ]
  },
  {
   "cell_type": "markdown",
   "id": "d9674712",
   "metadata": {},
   "source": [
    "Specific arguments"
   ]
  },
  {
   "cell_type": "code",
   "execution_count": 39,
   "id": "6522e7f1",
   "metadata": {},
   "outputs": [],
   "source": [
    "f0 = 20\n",
    "Mc = 1e-3* 2e30\n",
    "f_max = 200\n",
    "T_obs = 1e4\n",
    "pad_len0 = int(340.0*T_obs) #~0.01 added length to resampled data\n",
    "beta = const*f0**(8/3)*Mc**(5/3)\n",
    "\n",
    "f_signal = 40*f_max\n",
    "nt = round(f_signal*T_obs)\n",
    "t = np.arange(nt)/f_signal\n",
    "f_ratio = 25"
   ]
  },
  {
   "cell_type": "code",
   "execution_count": 40,
   "id": "4de70539",
   "metadata": {},
   "outputs": [
    {
     "data": {
      "text/plain": [
       "1.7169895555741805e-08"
      ]
     },
     "execution_count": 40,
     "metadata": {},
     "output_type": "execute_result"
    }
   ],
   "source": [
    "beta"
   ]
  },
  {
   "cell_type": "code",
   "execution_count": 41,
   "id": "0d82c5cd",
   "metadata": {},
   "outputs": [],
   "source": [
    "def M_calc(beta, f0):\n",
    "    return (beta/(const*f0**8/3))**3/5"
   ]
  },
  {
   "cell_type": "markdown",
   "id": "92e663f2",
   "metadata": {},
   "source": [
    "Generating signal and adding noise"
   ]
  },
  {
   "cell_type": "code",
   "execution_count": 42,
   "id": "11b8e7ef",
   "metadata": {},
   "outputs": [],
   "source": [
    "phi = -6*pi/5*f0*(1-8./3.*beta*t)**(5/8)/beta\n",
    "phi = np.mod(phi,2*pi)\n",
    "signal = 1*np.exp(1j*phi)\n",
    "\n",
    "nh = 0\n",
    "noise = nh*np.random.normal(size = nt)\n",
    "data = signal + noise"
   ]
  },
  {
   "cell_type": "code",
   "execution_count": 43,
   "id": "3835253b",
   "metadata": {},
   "outputs": [],
   "source": [
    "# add real Gaussian noise and take real phase\n",
    "# correct with known exact beta\n",
    "# with some offsets"
   ]
  },
  {
   "cell_type": "code",
   "execution_count": 44,
   "id": "aba45eeb",
   "metadata": {},
   "outputs": [],
   "source": [
    "%reset_selective -f \"^signal$\"\n",
    "%reset_selective -f noise\n",
    "%reset_selective -f phi"
   ]
  },
  {
   "cell_type": "code",
   "execution_count": 45,
   "id": "fcd186f3",
   "metadata": {},
   "outputs": [],
   "source": [
    "def strobo(beta, data, f_ratio):\n",
    "    new_t = -3/5*(1-8/3*beta*t)**(5/8)/beta\n",
    "    f_new = f_signal/f_ratio\n",
    "    \n",
    "    new_t *= f_new #changes the frequency to the new downsampled frequency (approximately, not exactly)\n",
    "    floor_t = np.floor(new_t) #For some reason floor works better than round. Take it to the nearest time index which are integers\n",
    "    idx = np.nonzero(np.diff(floor_t)) #The step that downsamples\n",
    "    resampled = data[idx]\n",
    "    t_out = (new_t[idx]-new_t[0])/f_new\n",
    "    return (resampled, t_out)"
   ]
  },
  {
   "cell_type": "code",
   "execution_count": 49,
   "id": "befe1206",
   "metadata": {},
   "outputs": [],
   "source": [
    "f_ratio = 25\n",
    "out, t_out = strobo(beta, data, f_ratio)\n",
    "padded = np.zeros(pad_len0, dtype = np.complex128)\n",
    "padded[:len(out)] = out\n",
    "corrected = np.fft.fftshift(np.fft.fft(padded))\n",
    "freq_corrected = np.fft.fftshift(np.fft.fftfreq(pad_len0, d=t_out[1]-t_out[0]))\n",
    "corrected = corrected[len(corrected)//2:]\n",
    "resampled_power = np.abs(corrected/len(out))**2\n",
    "\n",
    "freq_corrected = freq_corrected[len(freq_corrected)//2:]\n",
    "nt_new = len(out)"
   ]
  },
  {
   "cell_type": "code",
   "execution_count": 50,
   "id": "218a6bc8",
   "metadata": {
    "scrolled": true
   },
   "outputs": [
    {
     "data": {
      "text/plain": [
       "[<matplotlib.lines.Line2D at 0x7ff210b83dd0>]"
      ]
     },
     "execution_count": 50,
     "metadata": {},
     "output_type": "execute_result"
    },
    {
     "data": {
      "image/png": "[encoded data removed]",
      "text/plain": [
       "<Figure size 432x288 with 1 Axes>"
      ]
     },
     "metadata": {
      "needs_background": "light"
     },
     "output_type": "display_data"
    }
   ],
   "source": [
    "pl.plot(freq_corrected, resampled_power, 'o')\n",
    "# pl.xlim(119.995, 120.005)"
   ]
  },
  {
   "cell_type": "code",
   "execution_count": 51,
   "id": "db920674",
   "metadata": {},
   "outputs": [],
   "source": [
    "arg_max = np.argmax(resampled_power)\n",
    "peak_freq = freq_corrected[arg_max]\n",
    "peak_power = resampled_power[arg_max]"
   ]
  },
  {
   "cell_type": "code",
   "execution_count": 52,
   "id": "1d7f71c1",
   "metadata": {},
   "outputs": [
    {
     "data": {
      "text/plain": [
       "0.9999794555566719"
      ]
     },
     "execution_count": 52,
     "metadata": {},
     "output_type": "execute_result"
    }
   ],
   "source": [
    "peak_power"
   ]
  },
  {
   "cell_type": "markdown",
   "id": "c8115b15",
   "metadata": {},
   "source": [
    "## Pad_len vs beta"
   ]
  },
  {
   "cell_type": "code",
   "execution_count": 13,
   "id": "d41c3ac8",
   "metadata": {},
   "outputs": [],
   "source": [
    "def len_calc(beta):\n",
    "    new_t = -3/5*(1-8/3*beta*t)**(5/8)/beta\n",
    "    f_new = f_signal/f_ratio\n",
    "    \n",
    "    new_t *= f_new #changes the frequency to the new downsampled frequency (approximately, not exactly)\n",
    "    floor_t = np.floor(new_t) #For some reason floor works better than round. Take it to the nearest time index which are integers\n",
    "    idx = np.nonzero(np.diff(floor_t)) #The step that downsamples\n",
    "    return len(idx[0])"
   ]
  },
  {
   "cell_type": "code",
   "execution_count": 14,
   "id": "f25c329c",
   "metadata": {},
   "outputs": [],
   "source": [
    "beta_arr = np.logspace(-11, -5, 20)\n",
    "len_arr = [len_calc(i) for i in beta_arr]"
   ]
  },
  {
   "cell_type": "code",
   "execution_count": 15,
   "id": "7714186e",
   "metadata": {},
   "outputs": [
    {
     "data": {
      "text/plain": [
       "[<matplotlib.lines.Line2D at 0x7ff211f5a690>]"
      ]
     },
     "execution_count": 15,
     "metadata": {},
     "output_type": "execute_result"
    },
    {
     "data": {
      "image/png": "[encoded data removed]",
      "text/plain": [
       "<Figure size 432x288 with 1 Axes>"
      ]
     },
     "metadata": {
      "needs_background": "light"
     },
     "output_type": "display_data"
    }
   ],
   "source": [
    "pl.plot(beta_arr, len_arr)"
   ]
  },
  {
   "cell_type": "code",
   "execution_count": 16,
   "id": "3645dca2",
   "metadata": {},
   "outputs": [
    {
     "data": {
      "text/plain": [
       "array([1.80717749e+10, 3.19948196e+06])"
      ]
     },
     "execution_count": 16,
     "metadata": {},
     "output_type": "execute_result"
    }
   ],
   "source": [
    "np.polyfit(beta_arr, len_arr, deg = 1)"
   ]
  },
  {
   "cell_type": "code",
   "execution_count": 17,
   "id": "bef2843b",
   "metadata": {},
   "outputs": [],
   "source": [
    "# Conclusion: 3.4e6 is longer enough for any beta we might consider\n",
    "# To be fancier you can interpolate the length based on beta using\n",
    "# the polyfit equation"
   ]
  },
  {
   "cell_type": "markdown",
   "id": "7fbed8cf",
   "metadata": {},
   "source": [
    "## Does reference power change?"
   ]
  },
  {
   "cell_type": "code",
   "execution_count": 62,
   "id": "0a072811",
   "metadata": {},
   "outputs": [],
   "source": [
    "def power_calc(beta, f0):\n",
    "    phi = -6*pi/5*f0*(1-8./3.*beta*t)**(5/8)/beta\n",
    "    phi = np.mod(phi,2*pi)\n",
    "    signal = 1*np.exp(1j*phi)\n",
    "    data = signal\n",
    "    \n",
    "    out, t_out = strobo(beta, data, f_ratio)\n",
    "    padded = np.zeros(pad_len0, dtype = np.complex128)\n",
    "    padded[:len(out)] = out\n",
    "    corrected = np.fft.fftshift(np.fft.fft(padded))\n",
    "    freq_corrected = np.fft.fftshift(np.fft.fftfreq(pad_len0, d=t_out[1]-t_out[0]))\n",
    "    corrected = corrected[len(corrected)//2:]\n",
    "    resampled_power = np.abs(corrected/len(out))**2\n",
    "    return max(resampled_power)"
   ]
  },
  {
   "cell_type": "code",
   "execution_count": null,
   "id": "5166eb07",
   "metadata": {},
   "outputs": [],
   "source": [
    "# No single f0 spans the entire beta space in the mass space we consider\n",
    "# see POC + understanding analytics\n",
    "# We can use f0=20 for beta = 1e-11 - 1e-8\n",
    "# and f0 = 150 for beta = 1e-8 - 1e-5"
   ]
  },
  {
   "cell_type": "code",
   "execution_count": 63,
   "id": "e2119fa5",
   "metadata": {},
   "outputs": [],
   "source": [
    "beta_arr = np.logspace(-11, -7, 5)\n",
    "ref_power = [power_calc(i, 20) for i in beta_arr]"
   ]
  },
  {
   "cell_type": "code",
   "execution_count": 64,
   "id": "f3aa5c84",
   "metadata": {},
   "outputs": [
    {
     "data": {
      "text/plain": [
       "[<matplotlib.lines.Line2D at 0x7ff20f4ed9d0>]"
      ]
     },
     "execution_count": 64,
     "metadata": {},
     "output_type": "execute_result"
    },
    {
     "data": {
      "image/png": "[encoded data removed]",
      "text/plain": [
       "<Figure size 432x288 with 1 Axes>"
      ]
     },
     "metadata": {
      "needs_background": "light"
     },
     "output_type": "display_data"
    }
   ],
   "source": [
    "pl.semilogx(beta_arr, ref_power)"
   ]
  },
  {
   "cell_type": "code",
   "execution_count": 65,
   "id": "d7b289c7",
   "metadata": {},
   "outputs": [],
   "source": [
    "beta_arr = np.logspace(-8, -5, 10)\n",
    "ref_power = [power_calc(i, 150) for i in beta_arr]"
   ]
  },
  {
   "cell_type": "code",
   "execution_count": 66,
   "id": "c670d5dc",
   "metadata": {},
   "outputs": [
    {
     "data": {
      "text/plain": [
       "[<matplotlib.lines.Line2D at 0x7ff2106e4b90>]"
      ]
     },
     "execution_count": 66,
     "metadata": {},
     "output_type": "execute_result"
    },
    {
     "data": {
      "image/png": "[encoded data removed]",
      "text/plain": [
       "<Figure size 432x288 with 1 Axes>"
      ]
     },
     "metadata": {
      "needs_background": "light"
     },
     "output_type": "display_data"
    }
   ],
   "source": [
    "pl.semilogx(beta_arr, ref_power)"
   ]
  },
  {
   "cell_type": "code",
   "execution_count": null,
   "id": "6bf5065e",
   "metadata": {},
   "outputs": [],
   "source": []
  }
 ],
 "metadata": {
  "kernelspec": {
   "display_name": "Python 3 (ipykernel)",
   "language": "python",
   "name": "python3"
  },
  "language_info": {
   "codemirror_mode": {
    "name": "ipython",
    "version": 3
   },
   "file_extension": ".py",
   "mimetype": "text/x-python",
   "name": "python",
   "nbconvert_exporter": "python",
   "pygments_lexer": "ipython3",
   "version": "3.7.11"
  }
 },
 "nbformat": 4,
 "nbformat_minor": 5
}
