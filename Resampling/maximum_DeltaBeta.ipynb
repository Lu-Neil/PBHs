{
 "cells": [
  {
   "cell_type": "markdown",
   "id": "bce4a841",
   "metadata": {},
   "source": [
    "### See the related Mathematica notebook \"Dephasing.nb\" for the derivations of expressions used here"
   ]
  },
  {
   "cell_type": "code",
   "execution_count": 3,
   "id": "4b22cf1b",
   "metadata": {},
   "outputs": [],
   "source": [
    "import numpy as np\n",
    "import matplotlib.pyplot as pl\n",
    "import time\n",
    "from joblib import Parallel, delayed"
   ]
  },
  {
   "cell_type": "code",
   "execution_count": 4,
   "id": "2b105ed7",
   "metadata": {},
   "outputs": [],
   "source": [
    "c = 3e8\n",
    "G = 6.67e-11\n",
    "pi = np.pi\n",
    "const = 96/5*pi**(8/3)*(G/c**3)**(5/3)"
   ]
  },
  {
   "cell_type": "code",
   "execution_count": 5,
   "id": "d5fca7e2",
   "metadata": {},
   "outputs": [],
   "source": [
    "def strobo(beta, data, f_ratio):\n",
    "    new_t = -3/5*(1-8/3*beta*t)**(5/8)/beta\n",
    "    f_new = f_signal/f_ratio\n",
    "    \n",
    "    new_t *= f_new #changes the frequency to the new downsampled frequency (approximately, not exactly)\n",
    "    floor_t = np.floor(new_t) #For some reason floor works better than round. Take it to the nearest time index which are integers\n",
    "    idx = np.nonzero(np.diff(floor_t)) #The step that downsamples\n",
    "    resampled = data[idx]\n",
    "    t_out = (new_t[idx])/f_new\n",
    "    return (resampled, t_out)"
   ]
  },
  {
   "cell_type": "markdown",
   "id": "d9674712",
   "metadata": {},
   "source": [
    "Specific arguments"
   ]
  },
  {
   "cell_type": "code",
   "execution_count": 6,
   "id": "6522e7f1",
   "metadata": {},
   "outputs": [],
   "source": [
    "f0 = 20\n",
    "Mc = 3e-4* 2e30\n",
    "f_max = 200\n",
    "T_obs = 1e4\n",
    "pad_len = int(340*T_obs) #~0.01 added length to resampled data\n",
    "beta = const*f0**(8/3)*Mc**(5/3)\n",
    "\n",
    "f_signal = 5*f_max\n",
    "nt = round(f_signal*T_obs)\n",
    "t = np.arange(nt)/f_signal\n",
    "f_ratio = 25"
   ]
  },
  {
   "cell_type": "code",
   "execution_count": 7,
   "id": "4de70539",
   "metadata": {},
   "outputs": [
    {
     "data": {
      "text/plain": [
       "2.308357543241762e-09"
      ]
     },
     "execution_count": 7,
     "metadata": {},
     "output_type": "execute_result"
    }
   ],
   "source": [
    "beta"
   ]
  },
  {
   "cell_type": "markdown",
   "id": "66ea9cb7",
   "metadata": {},
   "source": [
    "## Exact dephasing"
   ]
  },
  {
   "cell_type": "code",
   "execution_count": 8,
   "id": "c962e39f",
   "metadata": {},
   "outputs": [],
   "source": [
    "def tMax_calc(f0, beta, f_max):\n",
    "    temp0 = 0.375/beta\n",
    "    temp1 = 1-(f0/f_max)**(8/3)\n",
    "    return temp0*temp1\n",
    "\n",
    "def btMax_calc(f0, fMax):\n",
    "    return 3/8*(1-(f0/fMax)**(8/3))\n",
    "\n",
    "def thresh_calc(f0, fMax, thresh=pi/4):\n",
    "    bt = btMax_calc(f0, fMax)\n",
    "    temp0 = 5*thresh/(6*pi*f0)\n",
    "    temp1 = (-1+bt)/(1-8/3*bt)**(3/8)+1\n",
    "    return -temp0*temp1**(-1)\n",
    "\n",
    "def thresh_calc1(f0, fMax, phi_thresh=pi/4):\n",
    "    temp0 = f0/fMax\n",
    "    temp1 = 5*phi_thresh/(6*pi*f0)\n",
    "    temp2 = ((-5/8-3/8*temp0**(8/3))/temp0)+1\n",
    "    return -temp1*temp2**(-1)"
   ]
  },
  {
   "cell_type": "code",
   "execution_count": 9,
   "id": "7673fd54",
   "metadata": {},
   "outputs": [
    {
     "data": {
      "text/plain": [
       "True"
      ]
     },
     "execution_count": 9,
     "metadata": {},
     "output_type": "execute_result"
    }
   ],
   "source": [
    "np.isclose(thresh_calc(f0, f_max),thresh_calc1(f0, f_max))"
   ]
  },
  {
   "cell_type": "code",
   "execution_count": 10,
   "id": "746c095c",
   "metadata": {},
   "outputs": [],
   "source": [
    "tMax = max(tMax_calc(f0, beta, 200), 5e7)\n",
    "beta_thresh = abs(thresh_calc(f0, f_max))"
   ]
  },
  {
   "cell_type": "code",
   "execution_count": 11,
   "id": "e2b22bc1",
   "metadata": {},
   "outputs": [],
   "source": [
    "delta_beta = -beta_thresh*beta**2\n",
    "\n",
    "phi_exact = -6*pi/5*f0*(1-8./3.*(beta)*tMax)**(5/8)/beta\n",
    "phi_exact0 = -6*pi/5*f0*(1-8./3.*(beta)*0)**(5/8)/beta\n",
    "phi_offset = -6*pi/5*f0*(1-8./3.*(beta+delta_beta)*tMax)**(5/8)/(beta+delta_beta)\n",
    "phi_offset0 = -6*pi/5*f0*(1-8./3.*(beta+delta_beta)*0)**(5/8)/(beta+delta_beta)\n",
    "dephasing = (phi_offset-phi_offset0) - (phi_exact-phi_exact0)"
   ]
  },
  {
   "cell_type": "code",
   "execution_count": 12,
   "id": "9c13590b",
   "metadata": {},
   "outputs": [
    {
     "data": {
      "text/plain": [
       "True"
      ]
     },
     "execution_count": 12,
     "metadata": {},
     "output_type": "execute_result"
    }
   ],
   "source": [
    "np.isclose(np.abs(dephasing), pi/4, rtol=1e-4)"
   ]
  },
  {
   "cell_type": "markdown",
   "id": "357b9fbc",
   "metadata": {},
   "source": [
    "## Comparing to approx_dephasing"
   ]
  },
  {
   "cell_type": "code",
   "execution_count": 13,
   "id": "bae38b48",
   "metadata": {},
   "outputs": [],
   "source": [
    "def approx_dephasing(t, f0, beta, delta_beta):\n",
    "    temp0 = 6*f0*pi*(-1+beta*t)*delta_beta\n",
    "    temp1 = 5*(beta**2*np.power(1-8/3*t*beta, 3/8))\n",
    "    return -temp0 / temp1"
   ]
  },
  {
   "cell_type": "code",
   "execution_count": 14,
   "id": "1465639e",
   "metadata": {},
   "outputs": [
    {
     "data": {
      "text/plain": [
       "True"
      ]
     },
     "execution_count": 14,
     "metadata": {},
     "output_type": "execute_result"
    }
   ],
   "source": [
    "approx = approx_dephasing(tMax, f0, beta, delta_beta) - \\\n",
    "         approx_dephasing(0, f0, beta, delta_beta)\n",
    "np.isclose(dephasing, approx, rtol=1e-4)"
   ]
  },
  {
   "cell_type": "markdown",
   "id": "83edc46a",
   "metadata": {},
   "source": [
    "## Grid size"
   ]
  },
  {
   "cell_type": "code",
   "execution_count": 15,
   "id": "e4ac2131",
   "metadata": {},
   "outputs": [],
   "source": [
    "def integrated(thresh, step, x0):\n",
    "    return x0/(x0*thresh*step+1)\n",
    "\n",
    "def integrated1(thresh, step, x0):\n",
    "    return 1/(thresh*step+1/x0)"
   ]
  },
  {
   "cell_type": "code",
   "execution_count": 16,
   "id": "0f5e8693",
   "metadata": {},
   "outputs": [],
   "source": [
    "beta0 = np.longdouble(1e-2)\n",
    "beta_thresh = thresh_calc(f0, f_max)"
   ]
  },
  {
   "cell_type": "code",
   "execution_count": 17,
   "id": "be35b316",
   "metadata": {},
   "outputs": [
    {
     "data": {
      "text/plain": [
       "True"
      ]
     },
     "execution_count": 17,
     "metadata": {},
     "output_type": "execute_result"
    }
   ],
   "source": [
    "np.isclose(integrated(beta_thresh, 1e6, beta0),\n",
    "           integrated1(beta_thresh, 1e6, beta0))"
   ]
  },
  {
   "cell_type": "code",
   "execution_count": 24,
   "id": "99098043",
   "metadata": {},
   "outputs": [
    {
     "data": {
      "text/plain": [
       "0.00048052011378249134407"
      ]
     },
     "execution_count": 24,
     "metadata": {},
     "output_type": "execute_result"
    },
    {
     "data": {
      "image/png": "[encoded data removed]",
      "text/plain": [
       "<Figure size 432x288 with 1 Axes>"
      ]
     },
     "metadata": {
      "needs_background": "light"
     },
     "output_type": "display_data"
    }
   ],
   "source": [
    "steps = np.logspace(0,6,100) \n",
    "pl.plot(steps,integrated(beta_thresh, steps, beta0))\n",
    "last_beta = integrated(beta_thresh, steps[-1],beta0)\n",
    "last_beta"
   ]
  },
  {
   "cell_type": "code",
   "execution_count": 20,
   "id": "5d1cc2b0",
   "metadata": {},
   "outputs": [],
   "source": [
    "# A million steps is a lower limit of the number of steps needed\n",
    "# between beta(0) and beta(steps[-1])\n",
    "# Here that is: 5e-4, 1e-2"
   ]
  },
  {
   "cell_type": "code",
   "execution_count": 25,
   "id": "f51e7983",
   "metadata": {},
   "outputs": [],
   "source": [
    "delta_beta = beta_thresh*last_beta**2\n",
    "beta_dist = beta0 - last_beta"
   ]
  },
  {
   "cell_type": "code",
   "execution_count": 26,
   "id": "a6dfc8a0",
   "metadata": {},
   "outputs": [
    {
     "data": {
      "text/plain": [
       "20810783.384868933355"
      ]
     },
     "execution_count": 26,
     "metadata": {},
     "output_type": "execute_result"
    }
   ],
   "source": [
    "beta_dist / delta_beta"
   ]
  },
  {
   "cell_type": "code",
   "execution_count": 27,
   "id": "8b01d555",
   "metadata": {},
   "outputs": [],
   "source": [
    "# An upper limit of the number of steps needed is 20 million "
   ]
  },
  {
   "cell_type": "markdown",
   "id": "418a6bc6",
   "metadata": {},
   "source": [
    "## Computing the grid points"
   ]
  },
  {
   "cell_type": "code",
   "execution_count": null,
   "id": "f4770e8f",
   "metadata": {},
   "outputs": [],
   "source": [
    "# beta=1e-4\n",
    "# f0=20\n",
    "# count = 0\n",
    "\n",
    "# while beta<1e-6:\n",
    "#     beta_thresh = thresh_calc(f0, f_max)\n",
    "#     delta_beta = beta_thresh*beta**2\n",
    "#     beta += delta_beta\n",
    "#     count+=1"
   ]
  }
 ],
 "metadata": {
  "kernelspec": {
   "display_name": "Python 3 (ipykernel)",
   "language": "python",
   "name": "python3"
  },
  "language_info": {
   "codemirror_mode": {
    "name": "ipython",
    "version": 3
   },
   "file_extension": ".py",
   "mimetype": "text/x-python",
   "name": "python",
   "nbconvert_exporter": "python",
   "pygments_lexer": "ipython3",
   "version": "3.7.11"
  }
 },
 "nbformat": 4,
 "nbformat_minor": 5
}
