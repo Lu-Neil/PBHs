{
 "cells": [
  {
   "cell_type": "code",
   "execution_count": 3,
   "id": "4b22cf1b",
   "metadata": {},
   "outputs": [],
   "source": [
    "import numpy as np\n",
    "import matplotlib.pyplot as pl"
   ]
  },
  {
   "cell_type": "code",
   "execution_count": 4,
   "id": "2b105ed7",
   "metadata": {},
   "outputs": [],
   "source": [
    "c = 3e8\n",
    "G = 6.67e-11\n",
    "pi = np.pi\n",
    "const = 96/5*pi**(8/3)*(G/c**3)**(5/3)"
   ]
  },
  {
   "cell_type": "markdown",
   "id": "d9674712",
   "metadata": {},
   "source": [
    "Specific arguments"
   ]
  },
  {
   "cell_type": "code",
   "execution_count": 5,
   "id": "6522e7f1",
   "metadata": {},
   "outputs": [],
   "source": [
    "f0 = 20\n",
    "Mc = 1e-5 * 2e30\n",
    "\n",
    "f_max = 200\n",
    "T_obs = 1e4"
   ]
  },
  {
   "cell_type": "code",
   "execution_count": 6,
   "id": "052b13db",
   "metadata": {},
   "outputs": [],
   "source": [
    "dt = 1/(40*f_max)\n",
    "nt = int(T_obs/dt)\n",
    "\n",
    "beta = const*f0**(8/3)*Mc**(5/3)\n",
    "t = np.linspace(0, T_obs, nt)"
   ]
  },
  {
   "cell_type": "markdown",
   "id": "92e663f2",
   "metadata": {},
   "source": [
    "Generating signal and adding noise"
   ]
  },
  {
   "cell_type": "code",
   "execution_count": 5,
   "id": "097e2e19",
   "metadata": {},
   "outputs": [],
   "source": [
    "# phi = -6*pi/5*f0*(1-8./3.*beta*t)**(5/8)/beta\n",
    "# pl.plot(t, phi)"
   ]
  },
  {
   "cell_type": "code",
   "execution_count": 6,
   "id": "11b8e7ef",
   "metadata": {},
   "outputs": [],
   "source": [
    "phi = -6*pi/5*f0*(1-8./3.*beta*t)**(5/8)/beta\n",
    "phi = np.mod(phi,2*pi)\n",
    "signal = 1*np.exp(1j*phi)\n",
    "\n",
    "nh = 50\n",
    "noise = nh * np.random.normal(size = nt)\n",
    "data = signal + noise"
   ]
  },
  {
   "cell_type": "code",
   "execution_count": 7,
   "id": "cda95201",
   "metadata": {},
   "outputs": [],
   "source": [
    "freqs = np.fft.fftshift(np.fft.fftfreq(len(t), d=t[1]-t[0]))\n",
    "fft = np.fft.fftshift(np.fft.fft(data))"
   ]
  },
  {
   "cell_type": "code",
   "execution_count": 8,
   "id": "f8cd70d2",
   "metadata": {},
   "outputs": [
    {
     "data": {
      "text/plain": [
       "(0.0, 200.0)"
      ]
     },
     "execution_count": 8,
     "metadata": {},
     "output_type": "execute_result"
    },
    {
     "data": {
      "image/png": "[encoded data removed]",
      "text/plain": [
       "<Figure size 432x288 with 1 Axes>"
      ]
     },
     "metadata": {
      "needs_background": "light"
     },
     "output_type": "display_data"
    }
   ],
   "source": [
    "pl.plot(freqs[int(len(freqs)/2):-1], (np.abs(fft)**2)[int(len(freqs)/2):-1])\n",
    "pl.xlim(0, 200)\n",
    "#Why is it not symmetric?"
   ]
  },
  {
   "cell_type": "code",
   "execution_count": 9,
   "id": "fcd186f3",
   "metadata": {},
   "outputs": [],
   "source": [
    "def strobo(x, tt, dt_out, t_off):\n",
    "    tt /= dt_out\n",
    "    tt1 = np.floor(tt)\n",
    "    ii = np.nonzero(np.diff(tt1))\n",
    "    out = x[ii]\n",
    "    iout = tt[ii[0]]*dt_out-t_off\n",
    "    return (out, iout)"
   ]
  },
  {
   "cell_type": "code",
   "execution_count": 10,
   "id": "d1509274",
   "metadata": {},
   "outputs": [],
   "source": [
    "toff = 0\n",
    "dt_out = dt*30\n",
    "x = data\n",
    "\n",
    "tt = -3/5*(1-8/3*beta*t)**(5/8)/beta\n",
    "tt_new = tt/dt_out\n",
    "tt1 = np.floor(tt_new)\n",
    "ii = np.nonzero(np.diff(tt1))[0]\n",
    "out = x[ii]"
   ]
  },
  {
   "cell_type": "code",
   "execution_count": 11,
   "id": "a2434852",
   "metadata": {},
   "outputs": [],
   "source": [
    "nt = len(out)\n",
    "corrected = np.fft.fft(out)\n",
    "freq_corrected = np.fft.fftshift(np.fft.fftfreq(len(tt), d=tt[1]-tt[0]))\n",
    "\n",
    "P2 = abs(corrected/nt)\n",
    "P1 = P2[:int(nt/2)]\n",
    "P1[1:-2] = 2*P1[1:-2]\n",
    "freq = 1/(dt_out)*np.arange(int(nt/2))/nt"
   ]
  },
  {
   "cell_type": "code",
   "execution_count": 12,
   "id": "fb8cf767",
   "metadata": {},
   "outputs": [
    {
     "data": {
      "text/plain": [
       "[<matplotlib.lines.Line2D at 0x7f542b691250>]"
      ]
     },
     "execution_count": 12,
     "metadata": {},
     "output_type": "execute_result"
    },
    {
     "data": {
      "image/png": "[encoded data removed]",
      "text/plain": [
       "<Figure size 432x288 with 1 Axes>"
      ]
     },
     "metadata": {
      "needs_background": "light"
     },
     "output_type": "display_data"
    }
   ],
   "source": [
    "pl.plot(freq, P1)"
   ]
  },
  {
   "cell_type": "code",
   "execution_count": 13,
   "id": "1e039857",
   "metadata": {},
   "outputs": [],
   "source": [
    "df_thresh = freq[1] - freq[0]"
   ]
  },
  {
   "cell_type": "code",
   "execution_count": 14,
   "id": "88b2642d",
   "metadata": {},
   "outputs": [
    {
     "data": {
      "text/plain": [
       "9.999998750000157e-05"
      ]
     },
     "execution_count": 14,
     "metadata": {},
     "output_type": "execute_result"
    }
   ],
   "source": [
    "df_thresh"
   ]
  },
  {
   "cell_type": "markdown",
   "id": "20a9842f",
   "metadata": {},
   "source": [
    "## Delta Beta"
   ]
  },
  {
   "cell_type": "code",
   "execution_count": 15,
   "id": "1d37c273",
   "metadata": {},
   "outputs": [
    {
     "data": {
      "text/plain": [
       "7.969559548582883e-12"
      ]
     },
     "execution_count": 15,
     "metadata": {},
     "output_type": "execute_result"
    }
   ],
   "source": [
    "beta"
   ]
  },
  {
   "cell_type": "code",
   "execution_count": 16,
   "id": "0eafa0cf",
   "metadata": {},
   "outputs": [],
   "source": [
    "dPhi_thresh = 1\n",
    "alpha = (1-8/3*beta*T_obs)\n",
    "temp0 = dPhi_thresh/(2*pi*f0)\n",
    "temp1 = alpha**(-5/8)\n",
    "temp2 = (beta**(-1)+5/3*T_obs*alpha**(-1))**(-1)\n",
    "dBeta_frac = temp0*temp1*temp2"
   ]
  },
  {
   "cell_type": "code",
   "execution_count": 17,
   "id": "f4fdeb2e",
   "metadata": {},
   "outputs": [
    {
     "data": {
      "text/plain": [
       "6.341973982110865e-14"
      ]
     },
     "execution_count": 17,
     "metadata": {},
     "output_type": "execute_result"
    }
   ],
   "source": [
    "dBeta_frac"
   ]
  },
  {
   "cell_type": "markdown",
   "id": "5786969d",
   "metadata": {},
   "source": [
    "## Verifying TE"
   ]
  },
  {
   "cell_type": "code",
   "execution_count": 18,
   "id": "87905eb6",
   "metadata": {},
   "outputs": [],
   "source": [
    "dBeta_arr = beta*np.linspace(0, 0.01, 100)\n",
    "analytic = (1-8/3*(beta+dBeta_arr)*T_obs)**(5/8)/(beta+dBeta_arr)\n",
    "TE = alpha**(5/8)/beta - dBeta_arr/beta*alpha**(5/8)*(beta**(-1)+5/3*T_obs*alpha**(-1))"
   ]
  },
  {
   "cell_type": "code",
   "execution_count": 19,
   "id": "9693e211",
   "metadata": {},
   "outputs": [
    {
     "data": {
      "text/plain": [
       "Text(0.5, 0, 'dBeta')"
      ]
     },
     "execution_count": 19,
     "metadata": {},
     "output_type": "execute_result"
    },
    {
     "data": {
      "image/png": "[encoded data removed]",
      "text/plain": [
       "<Figure size 432x288 with 1 Axes>"
      ]
     },
     "metadata": {
      "needs_background": "light"
     },
     "output_type": "display_data"
    }
   ],
   "source": [
    "pl.plot(dBeta_arr, analytic, label = 'analytic')\n",
    "pl.plot(dBeta_arr, TE, label = \"Taylor Expansion\")\n",
    "pl.xlabel(\"dBeta\")"
   ]
  },
  {
   "cell_type": "markdown",
   "id": "e87c4839",
   "metadata": {},
   "source": [
    "## What if beta is a small offset away?"
   ]
  },
  {
   "cell_type": "code",
   "execution_count": 20,
   "id": "65b7b4f3",
   "metadata": {
    "scrolled": true
   },
   "outputs": [],
   "source": [
    "beta_wrong = 1.01*beta"
   ]
  },
  {
   "cell_type": "code",
   "execution_count": 21,
   "id": "ab279321",
   "metadata": {},
   "outputs": [],
   "source": [
    "tt = -3/5*(1-8/3*beta_wrong*t)**(5/8)/beta_wrong\n",
    "tt_new = tt/dt_out\n",
    "tt1 = np.floor(tt_new)\n",
    "ii = np.nonzero(np.diff(tt1))[0]\n",
    "out = x[ii]\n",
    "nt = len(out)\n",
    "corrected = np.fft.fft(out)\n",
    "freq_corrected = np.fft.fftshift(np.fft.fftfreq(len(tt), d=tt[1]-tt[0]))\n",
    "\n",
    "P2 = abs(corrected/nt)\n",
    "P1 = P2[:int(nt/2)]\n",
    "P1[1:-2] = 2*P1[1:-2]\n",
    "freq = 1/(dt_out)*np.arange(int(nt/2))/nt"
   ]
  },
  {
   "cell_type": "code",
   "execution_count": 22,
   "id": "432c99d7",
   "metadata": {},
   "outputs": [
    {
     "data": {
      "text/plain": [
       "[<matplotlib.lines.Line2D at 0x7f542b55a050>]"
      ]
     },
     "execution_count": 22,
     "metadata": {},
     "output_type": "execute_result"
    },
    {
     "data": {
      "image/png": "[encoded data removed]",
      "text/plain": [
       "<Figure size 432x288 with 1 Axes>"
      ]
     },
     "metadata": {
      "needs_background": "light"
     },
     "output_type": "display_data"
    }
   ],
   "source": [
    "pl.plot(freq, P1)\n",
    "#Why is the peak higher?"
   ]
  },
  {
   "cell_type": "markdown",
   "id": "821d72a7",
   "metadata": {},
   "source": [
    "## Parameter space"
   ]
  },
  {
   "cell_type": "code",
   "execution_count": 7,
   "id": "382a9f9a",
   "metadata": {},
   "outputs": [],
   "source": [
    "def beta_calc(f, M):\n",
    "    M_temp = M*2e30\n",
    "    return const*f**(8/3)*M_temp**(5/3)"
   ]
  },
  {
   "cell_type": "code",
   "execution_count": 13,
   "id": "856074a6",
   "metadata": {},
   "outputs": [],
   "source": [
    "fspace = np.linspace(20, 2000, 1000)\n",
    "Mspace = np.logspace(-5, -3, 1000)\n",
    "\n",
    "[fgrid, Mgrid] = np.meshgrid(fspace, Mspace)\n",
    "betaGrid = beta_calc(fgrid, Mgrid)"
   ]
  },
  {
   "cell_type": "code",
   "execution_count": 14,
   "id": "4d1ca846",
   "metadata": {},
   "outputs": [
    {
     "data": {
      "text/plain": [
       "Text(0, 0.5, '$M_c$ ($M_\\\\odot$)')"
      ]
     },
     "execution_count": 14,
     "metadata": {},
     "output_type": "execute_result"
    },
    {
     "data": {
      "image/png": "[encoded data removed]",
      "text/plain": [
       "<Figure size 432x288 with 2 Axes>"
      ]
     },
     "metadata": {
      "needs_background": "light"
     },
     "output_type": "display_data"
    }
   ],
   "source": [
    "pl.contourf(fspace, np.log10(Mspace), np.log10(betaGrid))\n",
    "pl.colorbar()\n",
    "pl.title(r'$log(\\beta)$')\n",
    "pl.xlabel(\"Frequency (Hz)\")\n",
    "pl.ylabel(r'$M_c$ ($M_\\odot$)')"
   ]
  },
  {
   "cell_type": "code",
   "execution_count": 15,
   "id": "dc3e3bd8",
   "metadata": {},
   "outputs": [],
   "source": [
    "def t_max_calc(f0, M, f_max):\n",
    "    temp0 = (M/1e-2)**(-5/3)\n",
    "    temp1 = (f0/200)**(-8/3) - (f_max/200)**(-8/3)\n",
    "    return 1e3*temp0*temp1\n",
    "\n",
    "def t_max_calc1(f0, beta, f_max):\n",
    "    temp0 = 0.37/beta\n",
    "    temp1 = 1-(f0/f_max)**(8/3)\n",
    "    return temp0*temp1"
   ]
  },
  {
   "cell_type": "code",
   "execution_count": 16,
   "id": "e52a4a4d",
   "metadata": {},
   "outputs": [],
   "source": [
    "tMax_grid = t_max_calc(fgrid, Mgrid, 2000)\n",
    "tMax_grid[tMax_grid>3e7] = 3e7"
   ]
  },
  {
   "cell_type": "code",
   "execution_count": 17,
   "id": "40dd28fa",
   "metadata": {},
   "outputs": [
    {
     "name": "stderr",
     "output_type": "stream",
     "text": [
      "/home/neil/anaconda3/envs/PBHs/lib/python3.7/site-packages/ipykernel_launcher.py:1: RuntimeWarning: divide by zero encountered in log10\n",
      "  \"\"\"Entry point for launching an IPython kernel.\n"
     ]
    },
    {
     "data": {
      "text/plain": [
       "Text(0, 0.5, '$M_c$ ($M_\\\\odot$)')"
      ]
     },
     "execution_count": 17,
     "metadata": {},
     "output_type": "execute_result"
    },
    {
     "data": {
      "image/png": "[encoded data removed]",
      "text/plain": [
       "<Figure size 432x288 with 2 Axes>"
      ]
     },
     "metadata": {
      "needs_background": "light"
     },
     "output_type": "display_data"
    }
   ],
   "source": [
    "pl.contourf(fspace, np.log10(Mspace), np.log10(tMax_grid))\n",
    "pl.colorbar()\n",
    "pl.title(\"t_max\")\n",
    "pl.xlabel(\"Frequency (Hz)\")\n",
    "pl.ylabel(r'$M_c$ ($M_\\odot$)')"
   ]
  },
  {
   "cell_type": "code",
   "execution_count": 124,
   "id": "8bc36181",
   "metadata": {},
   "outputs": [
    {
     "name": "stderr",
     "output_type": "stream",
     "text": [
      "/home/neil/anaconda3/lib/python3.7/site-packages/ipykernel_launcher.py:1: RuntimeWarning: divide by zero encountered in log10\n",
      "  \"\"\"Entry point for launching an IPython kernel.\n"
     ]
    },
    {
     "data": {
      "text/plain": [
       "Text(0, 0.5, '$M_c$ ($M_\\\\odot$)')"
      ]
     },
     "execution_count": 124,
     "metadata": {},
     "output_type": "execute_result"
    },
    {
     "data": {
      "image/png": "[encoded data removed]",
      "text/plain": [
       "<Figure size 432x288 with 2 Axes>"
      ]
     },
     "metadata": {
      "needs_background": "light"
     },
     "output_type": "display_data"
    }
   ],
   "source": [
    "pl.contourf(fspace, np.log10(Mspace), np.log10(tMax_grid*betaGrid))\n",
    "pl.colorbar()\n",
    "pl.title(r'$\\beta t_{max}$')\n",
    "pl.xlabel(\"Frequency (Hz)\")\n",
    "pl.ylabel(r'$M_c$ ($M_\\odot$)')"
   ]
  },
  {
   "cell_type": "code",
   "execution_count": 29,
   "id": "73d357ea",
   "metadata": {},
   "outputs": [],
   "source": [
    "tMax_grid1 = t_max_calc1(fgrid, betaGrid, 2000)\n",
    "tMax_grid1[tMax_grid1>3e7] = 3e7"
   ]
  },
  {
   "cell_type": "code",
   "execution_count": 30,
   "id": "85268d4a",
   "metadata": {},
   "outputs": [
    {
     "name": "stderr",
     "output_type": "stream",
     "text": [
      "/home/neil/anaconda3/lib/python3.7/site-packages/ipykernel_launcher.py:1: RuntimeWarning: divide by zero encountered in log10\n",
      "  \"\"\"Entry point for launching an IPython kernel.\n"
     ]
    },
    {
     "data": {
      "text/plain": [
       "Text(0, 0.5, '$M_c$ ($M_\\\\odot$)')"
      ]
     },
     "execution_count": 30,
     "metadata": {},
     "output_type": "execute_result"
    },
    {
     "data": {
      "image/png": "[encoded data removed]",
      "text/plain": [
       "<Figure size 432x288 with 2 Axes>"
      ]
     },
     "metadata": {
      "needs_background": "light"
     },
     "output_type": "display_data"
    }
   ],
   "source": [
    "pl.contourf(fspace, np.log10(Mspace), np.log10(tMax_grid1))\n",
    "pl.colorbar()\n",
    "pl.title(\"t_max\")\n",
    "pl.xlabel(\"Frequency (Hz)\")\n",
    "pl.ylabel(r'$M_c$ ($M_\\odot$)')"
   ]
  },
  {
   "cell_type": "code",
   "execution_count": 31,
   "id": "267ece3d",
   "metadata": {},
   "outputs": [],
   "source": [
    "beta_space = np.logspace(-12, -1, 1000)\n",
    "beta_small = 1e-7\n",
    "beta_big = 1e-6\n",
    "t_space = np.linspace(0, 1e4, int(1e3))\n",
    "t_new_big = (1-8/3*beta_big*t_space)**(5/8)/beta_big\n",
    "t_new_small = (1-8/3*beta_small*t_space)**(5/8)/beta_small"
   ]
  },
  {
   "cell_type": "markdown",
   "id": "16559099",
   "metadata": {},
   "source": [
    "## With constant phase term"
   ]
  },
  {
   "cell_type": "code",
   "execution_count": 32,
   "id": "2614749c",
   "metadata": {},
   "outputs": [
    {
     "name": "stderr",
     "output_type": "stream",
     "text": [
      "/home/neil/anaconda3/lib/python3.7/site-packages/ipykernel_launcher.py:3: RuntimeWarning: invalid value encountered in power\n",
      "  This is separate from the ipykernel package so we can avoid doing imports until\n"
     ]
    }
   ],
   "source": [
    "t = 1e5\n",
    "beta_space = np.logspace(-12, -3, 100)\n",
    "new_t = -3/(5*beta_space)*((1-8/3*beta_space*t)**(5/8) - 1)"
   ]
  },
  {
   "cell_type": "code",
   "execution_count": 33,
   "id": "f64fc3be",
   "metadata": {},
   "outputs": [
    {
     "data": {
      "text/plain": [
       "[<matplotlib.lines.Line2D at 0x7f55837b5a50>]"
      ]
     },
     "execution_count": 33,
     "metadata": {},
     "output_type": "execute_result"
    },
    {
     "data": {
      "image/png": "[encoded data removed]",
      "text/plain": [
       "<Figure size 432x288 with 1 Axes>"
      ]
     },
     "metadata": {
      "needs_background": "light"
     },
     "output_type": "display_data"
    }
   ],
   "source": [
    "pl.semilogx(beta_space, new_t/t)"
   ]
  },
  {
   "cell_type": "code",
   "execution_count": 65,
   "id": "b5c25773",
   "metadata": {},
   "outputs": [],
   "source": [
    "beta = 1e-9\n",
    "t=1e5\n",
    "\n",
    "alpha = (1-8/3*beta*t)\n",
    "alpha0 = 1\n",
    "dphi_thr = 1\n",
    "f0 = 20"
   ]
  },
  {
   "cell_type": "code",
   "execution_count": null,
   "id": "948bf3e3",
   "metadata": {},
   "outputs": [],
   "source": [
    "def percent_step_calc(beta, t, dphi_thr=1, f0=20, alpha0=1):\n",
    "    alpha = (1-8/3*beta*t)\n",
    "    temp = 5/3*dphi_thr/(2*pi*f0)*(alpha**(5/8)*(beta**(-1)+5/3*alpha**(-1)*t) - alpha0**(5/8)*(beta**(-1)+5/3*alpha0**(-1)*t))**(-1)\n",
    "    return -temp"
   ]
  },
  {
   "cell_type": "code",
   "execution_count": 84,
   "id": "f9068f96",
   "metadata": {},
   "outputs": [],
   "source": [
    "percent_step = 5/3*dphi_thr/(2*pi*f0)*(alpha**(5/8)*(beta**(-1)+5/3*alpha**(-1)*t) - alpha0**(5/8)*(beta**(-1)+5/3*alpha0**(-1)*t))**(-1)"
   ]
  },
  {
   "cell_type": "code",
   "execution_count": 103,
   "id": "c2c4be31",
   "metadata": {},
   "outputs": [
    {
     "name": "stderr",
     "output_type": "stream",
     "text": [
      "/home/neil/anaconda3/lib/python3.7/site-packages/ipykernel_launcher.py:3: RuntimeWarning: invalid value encountered in power\n",
      "  This is separate from the ipykernel package so we can avoid doing imports until\n"
     ]
    },
    {
     "data": {
      "text/plain": [
       "1.4853586422949943e-07"
      ]
     },
     "execution_count": 103,
     "metadata": {},
     "output_type": "execute_result"
    }
   ],
   "source": [
    "max(percent_step_calc(beta_space, 1e5))"
   ]
  },
  {
   "cell_type": "code",
   "execution_count": 116,
   "id": "c04f24b5",
   "metadata": {},
   "outputs": [
    {
     "name": "stderr",
     "output_type": "stream",
     "text": [
      "/home/neil/anaconda3/lib/python3.7/site-packages/ipykernel_launcher.py:3: RuntimeWarning: invalid value encountered in power\n",
      "  This is separate from the ipykernel package so we can avoid doing imports until\n",
      "/home/neil/anaconda3/lib/python3.7/site-packages/ipykernel_launcher.py:3: RuntimeWarning: invalid value encountered in power\n",
      "  This is separate from the ipykernel package so we can avoid doing imports until\n"
     ]
    },
    {
     "data": {
      "text/plain": [
       "[<matplotlib.lines.Line2D at 0x7f557e011b90>]"
      ]
     },
     "execution_count": 116,
     "metadata": {},
     "output_type": "execute_result"
    },
    {
     "data": {
      "image/png": "[encoded data removed]",
      "text/plain": [
       "<Figure size 432x288 with 1 Axes>"
      ]
     },
     "metadata": {
      "needs_background": "light"
     },
     "output_type": "display_data"
    }
   ],
   "source": [
    "beta_space = np.logspace(-12, -4, 100)\n",
    "pl.loglog(beta_space, percent_step_calc(beta_space, 1e6))\n",
    "\n",
    "pl.semilogx(beta_space, percent_step_calc(beta_space, 1e5))"
   ]
  },
  {
   "cell_type": "code",
   "execution_count": 120,
   "id": "038bab6a",
   "metadata": {
    "scrolled": false
   },
   "outputs": [
    {
     "name": "stderr",
     "output_type": "stream",
     "text": [
      "/home/neil/anaconda3/lib/python3.7/site-packages/ipykernel_launcher.py:3: RuntimeWarning: invalid value encountered in power\n",
      "  This is separate from the ipykernel package so we can avoid doing imports until\n",
      "/home/neil/anaconda3/lib/python3.7/site-packages/ipykernel_launcher.py:3: RuntimeWarning: invalid value encountered in power\n",
      "  This is separate from the ipykernel package so we can avoid doing imports until\n",
      "/home/neil/anaconda3/lib/python3.7/site-packages/ipykernel_launcher.py:3: RuntimeWarning: invalid value encountered in power\n",
      "  This is separate from the ipykernel package so we can avoid doing imports until\n"
     ]
    },
    {
     "data": {
      "text/plain": [
       "Text(0.5, 0, '$\\\\beta$')"
      ]
     },
     "execution_count": 120,
     "metadata": {},
     "output_type": "execute_result"
    },
    {
     "data": {
      "image/png": "[encoded data removed]",
      "text/plain": [
       "<Figure size 432x288 with 1 Axes>"
      ]
     },
     "metadata": {
      "needs_background": "light"
     },
     "output_type": "display_data"
    }
   ],
   "source": [
    "beta_space = np.logspace(-12, -4, 100)\n",
    "pl.loglog(beta_space, percent_step_calc(beta_space, 1e6), label = 't=1e6')\n",
    "pl.loglog(beta_space, percent_step_calc(beta_space, 1e5), label = 't=1e5')\n",
    "pl.loglog(beta_space, percent_step_calc(beta_space, 1e4), label = 't=1e4')\n",
    "pl.legend()\n",
    "pl.ylabel(r'$\\Delta \\beta/\\beta$')\n",
    "pl.xlabel(r'$\\beta$')\n",
    "# pl.xlim(1e-7, 1e-4)\n",
    "# pl.axvline(10**(-6.5))\n",
    "# pl.axvline(10**(-5.5))\n",
    "# pl.axvline(10**(-4.5))\n",
    "#Almost independent of \\beta until divergency at 1e-6.2?"
   ]
  },
  {
   "cell_type": "code",
   "execution_count": 114,
   "id": "79c8bb27",
   "metadata": {},
   "outputs": [
    {
     "data": {
      "text/plain": [
       "Text(0.5, 0, '$t$')"
      ]
     },
     "execution_count": 114,
     "metadata": {},
     "output_type": "execute_result"
    },
    {
     "data": {
      "image/png": "[encoded data removed]",
      "text/plain": [
       "<Figure size 432x288 with 1 Axes>"
      ]
     },
     "metadata": {
      "needs_background": "light"
     },
     "output_type": "display_data"
    }
   ],
   "source": [
    "t_space = np.logspace(3, 6, 100)\n",
    "pl.loglog(t_space, percent_step_calc(1e-9, t_space))\n",
    "pl.ylabel(r'$\\Delta \\beta/\\beta$')\n",
    "pl.xlabel(r'$t$')\n",
    "#Conclusion percent_step \\propto -t^{-1}"
   ]
  },
  {
   "cell_type": "code",
   "execution_count": 63,
   "id": "f8df732c",
   "metadata": {},
   "outputs": [
    {
     "data": {
      "text/plain": [
       "1677533.805819273"
      ]
     },
     "execution_count": 63,
     "metadata": {},
     "output_type": "execute_result"
    }
   ],
   "source": [
    "alpha**(-5/8)*(beta**(-1)+5/3*alpha**(-1)*t) - alpha0**(-5/8)*(beta**(-1)+5/3*alpha0**(-1)*t)"
   ]
  },
  {
   "cell_type": "code",
   "execution_count": 64,
   "id": "675df47e",
   "metadata": {},
   "outputs": [
    {
     "data": {
      "text/plain": [
       "1670286.224116683"
      ]
     },
     "execution_count": 64,
     "metadata": {},
     "output_type": "execute_result"
    }
   ],
   "source": [
    "alpha**(-5/8)*(beta**(-1)) - alpha0**(-5/8)*(beta**(-1))"
   ]
  },
  {
   "cell_type": "code",
   "execution_count": null,
   "id": "8e8c819a",
   "metadata": {},
   "outputs": [],
   "source": []
  }
 ],
 "metadata": {
  "kernelspec": {
   "display_name": "Python 3 (ipykernel)",
   "language": "python",
   "name": "python3"
  },
  "language_info": {
   "codemirror_mode": {
    "name": "ipython",
    "version": 3
   },
   "file_extension": ".py",
   "mimetype": "text/x-python",
   "name": "python",
   "nbconvert_exporter": "python",
   "pygments_lexer": "ipython3",
   "version": "3.7.11"
  }
 },
 "nbformat": 4,
 "nbformat_minor": 5
}
