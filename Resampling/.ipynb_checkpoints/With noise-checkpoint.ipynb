{
 "cells": [
  {
   "cell_type": "code",
   "execution_count": 1,
   "id": "4b22cf1b",
   "metadata": {},
   "outputs": [],
   "source": [
    "import numpy as np\n",
    "import matplotlib.pyplot as pl\n",
    "import time\n",
    "from joblib import Parallel, delayed"
   ]
  },
  {
   "cell_type": "code",
   "execution_count": 2,
   "id": "a18dda0d",
   "metadata": {},
   "outputs": [],
   "source": [
    "import matplotlib as mpl\n",
    "# mpl.rcParams['figure.dpi'] = 600"
   ]
  },
  {
   "cell_type": "code",
   "execution_count": 3,
   "id": "2b105ed7",
   "metadata": {},
   "outputs": [],
   "source": [
    "c = 3e8\n",
    "G = 6.67e-11\n",
    "pi = np.pi\n",
    "const = 96/5*pi**(8/3)*(G/c**3)**(5/3)"
   ]
  },
  {
   "cell_type": "markdown",
   "id": "d9674712",
   "metadata": {},
   "source": [
    "Specific arguments"
   ]
  },
  {
   "cell_type": "code",
   "execution_count": 4,
   "id": "6522e7f1",
   "metadata": {},
   "outputs": [],
   "source": [
    "f0 = 20\n",
    "Mc = 3e-3* 2e30\n",
    "f_max = 200\n",
    "T_obs = 1e4\n",
    "pad_len = int(323.4*T_obs) #~0.01 added length to resampled data\n",
    "beta = const*f0**(8/3)*Mc**(5/3)\n",
    "\n",
    "f_signal = 40*f_max\n",
    "nt = round(f_signal*T_obs)\n",
    "t = np.arange(nt)/f_signal\n",
    "f_ratio = 25"
   ]
  },
  {
   "cell_type": "code",
   "execution_count": 5,
   "id": "4de70539",
   "metadata": {},
   "outputs": [
    {
     "data": {
      "text/plain": [
       "1.0714446596696796e-07"
      ]
     },
     "execution_count": 5,
     "metadata": {},
     "output_type": "execute_result"
    }
   ],
   "source": [
    "beta"
   ]
  },
  {
   "cell_type": "markdown",
   "id": "92e663f2",
   "metadata": {},
   "source": [
    "Generating signal and adding noise"
   ]
  },
  {
   "cell_type": "code",
   "execution_count": 6,
   "id": "11b8e7ef",
   "metadata": {},
   "outputs": [],
   "source": [
    "phi = -6*pi/5*f0*(1-8./3.*beta*t)**(5/8)/beta\n",
    "phi = np.mod(phi,2*pi)\n",
    "signal = 1*np.exp(1j*phi)\n",
    "\n",
    "nh = 0\n",
    "noise = nh*np.random.normal(size = nt)\n",
    "data = signal + noise"
   ]
  },
  {
   "cell_type": "code",
   "execution_count": 7,
   "id": "3835253b",
   "metadata": {},
   "outputs": [],
   "source": [
    "# add real Gaussian noise and take real phase\n",
    "# correct with known exact beta\n",
    "# with some offsets"
   ]
  },
  {
   "cell_type": "code",
   "execution_count": 8,
   "id": "aba45eeb",
   "metadata": {},
   "outputs": [],
   "source": [
    "# %reset_selective -f \"^signal$\"\n",
    "# %reset_selective -f noise\n",
    "%reset_selective -f phi"
   ]
  },
  {
   "cell_type": "code",
   "execution_count": 8,
   "id": "fcd186f3",
   "metadata": {},
   "outputs": [],
   "source": [
    "def strobo(beta, data, f_ratio):\n",
    "    new_t = -3/5*(1-8/3*beta*t)**(5/8)/beta\n",
    "    f_new = f_signal/f_ratio\n",
    "    \n",
    "    new_t *= f_new #changes the frequency to the new downsampled frequency (approximately, not exactly)\n",
    "    floor_t = np.floor(new_t) #For some reason floor works better than round. Take it to the nearest time index which are integers\n",
    "    idx = np.nonzero(np.diff(floor_t)) #The step that downsamples\n",
    "    resampled = data[idx]\n",
    "    t_out = (new_t[idx]-new_t[0])/f_new\n",
    "    return (resampled, t_out)"
   ]
  },
  {
   "cell_type": "code",
   "execution_count": 10,
   "id": "4b34f405",
   "metadata": {},
   "outputs": [],
   "source": [
    "def fft_plotter(data_temp, temp_time, xlim = [119.995, 120.005]):\n",
    "    freqs = np.fft.fftshift(np.fft.fftfreq(len(temp_time), d=temp_time[1]-temp_time[0]))\n",
    "    spec = np.fft.fftshift(np.fft.fft(data_temp))\n",
    "    power_spec = np.abs(spec/len(temp_time))**2\n",
    "    pl.plot(freqs[len(data_temp)//2:], power_spec[len(data_temp)//2:], alpha=0.7)\n",
    "    pl.xlim(xlim[0], xlim[1])"
   ]
  },
  {
   "cell_type": "code",
   "execution_count": 22,
   "id": "9a123d7d",
   "metadata": {},
   "outputs": [],
   "source": [
    "noise_arr = [0, 10000]\n",
    "freq_arr = []\n",
    "spectrum_arr = []\n",
    "\n",
    "for i in noise_arr:\n",
    "    real_noise = np.random.normal(0, np.sqrt(i/2), nt)\n",
    "    imag_noise = np.random.normal(0, np.sqrt(i/2), nt)\n",
    "    noise = real_noise + 1j*imag_noise\n",
    "    data = noise + signal\n",
    "    \n",
    "    freqs = np.fft.fftshift(np.fft.fftfreq(len(t), d=t[1]-t[0]))\n",
    "    spec = np.fft.fftshift(np.fft.fft(data))\n",
    "    power_spec = np.abs(spec/len(t))**2\n",
    "    \n",
    "    freq_arr.append(freqs[len(data)//2 : int(1.1*len(data)//2)])\n",
    "    spectrum_arr.append(power_spec[len(data)//2 : int(1.1*len(data)//2)])\n",
    "    \n",
    "#     fft_plotter(data, t, xlim = [119.9, 121.1])\n",
    "# pl.plot(data[0:1000], 'oz"
   ]
  },
  {
   "cell_type": "code",
   "execution_count": 23,
   "id": "52035110",
   "metadata": {},
   "outputs": [
    {
     "data": {
      "text/plain": [
       "(19.95, 20.05)"
      ]
     },
     "execution_count": 23,
     "metadata": {},
     "output_type": "execute_result"
    },
    {
     "data": {
      "image/png": "[encoded data removed]",
      "text/plain": [
       "<Figure size 432x288 with 1 Axes>"
      ]
     },
     "metadata": {
      "needs_background": "light"
     },
     "output_type": "display_data"
    }
   ],
   "source": [
    "pl.plot(freq_arr[1], spectrum_arr[1])\n",
    "pl.xlim(19.95, 20.05)"
   ]
  },
  {
   "cell_type": "code",
   "execution_count": 10,
   "id": "ec35fee3",
   "metadata": {},
   "outputs": [],
   "source": [
    "noise_arr = [0, 10000]\n",
    "\n",
    "freq_arr = []\n",
    "spectrum_arr = []\n",
    "rs_freq_arr = []\n",
    "rs_spectrum_arr = []\n",
    "\n",
    "phi = -6*pi/5*f0*(1-8./3.*beta*t)**(5/8)/beta\n",
    "phi = np.mod(phi,2*pi)\n",
    "signal = 1*np.exp(1j*phi)\n",
    "\n",
    "for i in noise_arr:\n",
    "    real_noise = np.random.normal(0, np.sqrt(i/2), nt)\n",
    "    imag_noise = np.random.normal(0, np.sqrt(i/2), nt)\n",
    "    noise = real_noise + 1j*imag_noise\n",
    "    data = signal + noise\n",
    "    \n",
    "#     freqs = np.fft.fftshift(np.fft.fftfreq(len(t), d=t[1]-t[0]))\n",
    "#     spec = np.fft.fftshift(np.fft.fft(data))\n",
    "#     power_spec = np.abs(spec/len(t))**2\n",
    "#     freq_arr.append(freqs[len(data)//2 : int(1.2*len(data)//2)])\n",
    "#     spectrum_arr.append(power_spec[len(data)//2 : int(1.2*len(data)//2)])\n",
    "    \n",
    "    f_ratio = 25\n",
    "    out, t_out = strobo(beta, data, f_ratio)\n",
    "    corrected = np.fft.fftshift(np.fft.fft(out))\n",
    "    freq_corrected = np.fft.fftshift(np.fft.fftfreq(len(t_out), d=t_out[1]-t_out[0]))\n",
    "    freq_corrected = freq_corrected[len(freq_corrected)//2 : int(1.1*len(data)//2)]\n",
    "    corrected = corrected[len(corrected)//2 : int(1.1*len(data)//2)]\n",
    "    resampled_power = np.abs(corrected/len(out))**2\n",
    "    \n",
    "    rs_freq_arr.append(freq_corrected)\n",
    "    rs_spectrum_arr.append(resampled_power)"
   ]
  },
  {
   "cell_type": "code",
   "execution_count": 15,
   "id": "7c5548ec",
   "metadata": {},
   "outputs": [
    {
     "data": {
      "text/plain": [
       "<matplotlib.legend.Legend at 0x7fa704a41450>"
      ]
     },
     "execution_count": 15,
     "metadata": {},
     "output_type": "execute_result"
    },
    {
     "data": {
      "image/png": "[encoded data removed]",
      "text/plain": [
       "<Figure size 432x288 with 1 Axes>"
      ]
     },
     "metadata": {
      "needs_background": "light"
     },
     "output_type": "display_data"
    }
   ],
   "source": [
    "for i, val in enumerate(noise_arr):\n",
    "    pl.plot(rs_freq_arr[i], rs_spectrum_arr[i], 'o', label = \"noise = %.E\" % val)\n",
    "    pl.xlim(19.995, 20.005)\n",
    "    \n",
    "pl.legend()"
   ]
  },
  {
   "cell_type": "code",
   "execution_count": 15,
   "id": "de7b94de",
   "metadata": {},
   "outputs": [
    {
     "name": "stdout",
     "output_type": "stream",
     "text": [
      "For noise amplitude = 0E+00 the height ratio of signal:noise is 1.5E+06\n",
      "For noise amplitude = 1E+02 the height ratio of signal:noise is 3.0E+04\n",
      "For noise amplitude = 1E+03 the height ratio of signal:noise is 3.1E+03\n"
     ]
    }
   ],
   "source": [
    "height_ratio = np.max(spectrum_arr, axis = 1) / np.mean(spectrum_arr, axis = 1)\n",
    "for i,val in enumerate(height_ratio):\n",
    "    print(\"For noise amplitude = %.E the height ratio of signal:noise is %.1E\" % (noise_arr[i], val))"
   ]
  },
  {
   "cell_type": "code",
   "execution_count": 9,
   "id": "c371a71a",
   "metadata": {},
   "outputs": [],
   "source": [
    "noise_arr = [0, 10000]\n",
    "\n",
    "freq_arr = []\n",
    "spectrum_arr = []\n",
    "rs_freq_arr = []\n",
    "rs_spectrum_arr = []\n",
    "\n",
    "phi = -6*pi/5*f0*(1-8./3.*beta*t)**(5/8)/beta\n",
    "phi = np.mod(phi,2*pi)\n",
    "signal = 1*np.exp(1j*phi)\n",
    "\n",
    "for i in noise_arr:\n",
    "    real_noise = np.random.normal(0, np.sqrt(i/2), nt)\n",
    "    imag_noise = np.random.normal(0, np.sqrt(i/2), nt)\n",
    "    noise = real_noise + 1j*imag_noise\n",
    "    data = signal + noise\n",
    "    \n",
    "    freqs = np.fft.fftshift(np.fft.fftfreq(len(t), d=t[1]-t[0]))\n",
    "    spec = np.fft.fftshift(np.fft.fft(data))\n",
    "    power_spec = np.abs(spec/len(t))**2\n",
    "    freq_arr.append(freqs[len(data)//2 : int(1.1*len(data)//2)])\n",
    "    spectrum_arr.append(power_spec[len(data)//2 : int(1.1*len(data)//2)])\n",
    "    \n",
    "    f_ratio = 25\n",
    "    out, t_out = strobo(beta, data, f_ratio)\n",
    "    corrected = np.fft.fftshift(np.fft.fft(out))\n",
    "    freq_corrected = np.fft.fftshift(np.fft.fftfreq(len(t_out), d=t_out[1]-t_out[0]))\n",
    "    freq_corrected = freq_corrected[len(freq_corrected)//2 : int(1.1*len(data)//2)]\n",
    "    corrected = corrected[len(corrected)//2 : int(1.1*len(data)//2)]\n",
    "    resampled_power = np.abs(corrected/len(out))**2\n",
    "    \n",
    "    rs_freq_arr.append(freq_corrected)\n",
    "    rs_spectrum_arr.append(resampled_power)"
   ]
  },
  {
   "cell_type": "code",
   "execution_count": 10,
   "id": "41240cc2",
   "metadata": {},
   "outputs": [
    {
     "data": {
      "text/plain": [
       "Text(0, 0.5, 'Power')"
      ]
     },
     "execution_count": 10,
     "metadata": {},
     "output_type": "execute_result"
    },
    {
     "data": {
      "image/png": "[encoded data removed]",
      "text/plain": [
       "<Figure size 432x288 with 4 Axes>"
      ]
     },
     "metadata": {
      "needs_background": "light"
     },
     "output_type": "display_data"
    }
   ],
   "source": [
    "fig, axs = pl.subplots(2,2, sharex = True)\n",
    "\n",
    "axs[0,0].plot(freq_arr[0], spectrum_arr[0])\n",
    "axs[0,0].set_xlim(19.995, 20.025)\n",
    "\n",
    "axs[0,1].plot(rs_freq_arr[0], rs_spectrum_arr[0])\n",
    "axs[0,1].set_xlim(19.995, 20.025)\n",
    "\n",
    "axs[1,0].plot(freq_arr[1], spectrum_arr[1], c='tab:orange')\n",
    "axs[1,0].set_xlim(19.995, 20.025)\n",
    "\n",
    "axs[1,1].plot(rs_freq_arr[1], rs_spectrum_arr[1], c='tab:orange')\n",
    "axs[1,1].set_xlim(19.995, 20.025)\n",
    "\n",
    "axs[1,0].set_xlabel(\"Frequency [Hz]\")\n",
    "axs[1,1].set_xlabel(\"Frequency [Hz]\")\n",
    "axs[0,0].set_ylabel(\"Power\")\n",
    "axs[1,0].set_ylabel(\"Power\")"
   ]
  },
  {
   "cell_type": "code",
   "execution_count": null,
   "id": "f1177a0d",
   "metadata": {},
   "outputs": [],
   "source": []
  },
  {
   "cell_type": "markdown",
   "id": "7fbed8cf",
   "metadata": {},
   "source": [
    "## Padding the data"
   ]
  },
  {
   "cell_type": "code",
   "execution_count": 18,
   "id": "0a072811",
   "metadata": {},
   "outputs": [],
   "source": [
    "def pad_calc(beta):\n",
    "#     print(pad_len)\n",
    "    new_t = -3/5*(1-8/3*beta*t)**(5/8)/beta\n",
    "    out, t_out = strobo(beta, data, f_ratio)\n",
    "    pad_frac = (pad_len - len(out)) / len(out)\n",
    "    padded = np.full(pad_len, 0, dtype = complex)\n",
    "    padded[:len(out)] = out\n",
    "    pad_corrected = np.fft.fftshift(np.fft.fft(padded))\n",
    "    pad_freq_corrected = np.fft.fftshift(np.fft.fftfreq(len(padded), d=t_out[1]-t_out[0]))\n",
    "    pad_resampled_power = np.abs(pad_corrected/len(padded))**2\n",
    "    \n",
    "    arg_max = np.argmax(pad_resampled_power)\n",
    "    peak_freq = pad_freq_corrected[arg_max]\n",
    "    peak_power = pad_resampled_power[arg_max]\n",
    "    return np.array([peak_freq, peak_power, pad_frac])"
   ]
  },
  {
   "cell_type": "code",
   "execution_count": 19,
   "id": "2ab17b61",
   "metadata": {
    "scrolled": true
   },
   "outputs": [
    {
     "data": {
      "text/plain": [
       "array([-1.20000014e+02,  2.22244984e-01,  9.23540900e-03])"
      ]
     },
     "execution_count": 19,
     "metadata": {},
     "output_type": "execute_result"
    }
   ],
   "source": [
    "pad_len = int(323.4*T_obs) #~0.01 added length to resampled data\n",
    "pad_calc(beta+1e-4*beta)"
   ]
  },
  {
   "cell_type": "code",
   "execution_count": null,
   "id": "562f9c92",
   "metadata": {},
   "outputs": [],
   "source": []
  },
  {
   "cell_type": "code",
   "execution_count": 20,
   "id": "758ab0ce",
   "metadata": {},
   "outputs": [
    {
     "data": {
      "text/plain": [
       "array([-1.20000014e+02,  2.07864087e-01,  4.35631440e-02])"
      ]
     },
     "execution_count": 20,
     "metadata": {},
     "output_type": "execute_result"
    }
   ],
   "source": [
    "pad_len = int(334.4*T_obs) #~0.01 added length to resampled data\n",
    "pad_calc(beta+1e-4*beta)"
   ]
  },
  {
   "cell_type": "code",
   "execution_count": 21,
   "id": "7d5b19eb",
   "metadata": {},
   "outputs": [],
   "source": [
    "%reset_selective -f new_t\n",
    "%reset_selective -f padded\n",
    "%reset_selective -f phi"
   ]
  },
  {
   "cell_type": "code",
   "execution_count": 31,
   "id": "16c36bd9",
   "metadata": {},
   "outputs": [
    {
     "data": {
      "text/plain": [
       "[<matplotlib.lines.Line2D at 0x7fb71015b510>]"
      ]
     },
     "execution_count": 31,
     "metadata": {},
     "output_type": "execute_result"
    },
    {
     "data": {
      "image/png": "[encoded data removed]",
      "text/plain": [
       "<Figure size 432x288 with 1 Axes>"
      ]
     },
     "metadata": {
      "needs_background": "light"
     },
     "output_type": "display_data"
    }
   ],
   "source": []
  },
  {
   "cell_type": "code",
   "execution_count": 22,
   "id": "bcf113f5",
   "metadata": {},
   "outputs": [
    {
     "ename": "KeyboardInterrupt",
     "evalue": "",
     "output_type": "error",
     "traceback": [
      "\u001b[0;31m---------------------------------------------------------------------------\u001b[0m",
      "\u001b[0;31mKeyboardInterrupt\u001b[0m                         Traceback (most recent call last)",
      "\u001b[0;32m/tmp/ipykernel_17159/144015664.py\u001b[0m in \u001b[0;36m<module>\u001b[0;34m\u001b[0m\n\u001b[1;32m      6\u001b[0m \u001b[0mref_freq_0\u001b[0m\u001b[0;34m,\u001b[0m \u001b[0mref_power_0\u001b[0m\u001b[0;34m,\u001b[0m \u001b[0m_\u001b[0m \u001b[0;34m=\u001b[0m \u001b[0mpad_calc\u001b[0m\u001b[0;34m(\u001b[0m\u001b[0mbeta\u001b[0m\u001b[0;34m)\u001b[0m\u001b[0;34m\u001b[0m\u001b[0;34m\u001b[0m\u001b[0m\n\u001b[1;32m      7\u001b[0m \u001b[0;34m\u001b[0m\u001b[0m\n\u001b[0;32m----> 8\u001b[0;31m \u001b[0mresult_0\u001b[0m \u001b[0;34m=\u001b[0m \u001b[0mnp\u001b[0m\u001b[0;34m.\u001b[0m\u001b[0marray\u001b[0m\u001b[0;34m(\u001b[0m\u001b[0mParallel\u001b[0m\u001b[0;34m(\u001b[0m\u001b[0;36m4\u001b[0m\u001b[0;34m)\u001b[0m\u001b[0;34m(\u001b[0m\u001b[0mdelayed\u001b[0m\u001b[0;34m(\u001b[0m\u001b[0mpad_calc\u001b[0m\u001b[0;34m)\u001b[0m\u001b[0;34m(\u001b[0m\u001b[0mbeta\u001b[0m\u001b[0;34m+\u001b[0m\u001b[0mi\u001b[0m\u001b[0;34m*\u001b[0m\u001b[0mbeta\u001b[0m\u001b[0;34m)\u001b[0m \u001b[0;32mfor\u001b[0m \u001b[0mi\u001b[0m \u001b[0;32min\u001b[0m \u001b[0moffset_arr\u001b[0m\u001b[0;34m)\u001b[0m\u001b[0;34m)\u001b[0m\u001b[0;34m\u001b[0m\u001b[0;34m\u001b[0m\u001b[0m\n\u001b[0m\u001b[1;32m      9\u001b[0m \u001b[0mtoc\u001b[0m \u001b[0;34m=\u001b[0m \u001b[0mtime\u001b[0m\u001b[0;34m.\u001b[0m\u001b[0mtime\u001b[0m\u001b[0;34m(\u001b[0m\u001b[0;34m)\u001b[0m\u001b[0;34m\u001b[0m\u001b[0;34m\u001b[0m\u001b[0m\n\u001b[1;32m     10\u001b[0m \u001b[0mprint\u001b[0m\u001b[0;34m(\u001b[0m\u001b[0;34m(\u001b[0m\u001b[0mtoc\u001b[0m\u001b[0;34m-\u001b[0m\u001b[0mtic\u001b[0m\u001b[0;34m)\u001b[0m\u001b[0;34m/\u001b[0m\u001b[0;36m60\u001b[0m\u001b[0;34m)\u001b[0m\u001b[0;34m\u001b[0m\u001b[0;34m\u001b[0m\u001b[0m\n",
      "\u001b[0;32m~/anaconda3/envs/PBHs/lib/python3.7/site-packages/joblib/parallel.py\u001b[0m in \u001b[0;36m__call__\u001b[0;34m(self, iterable)\u001b[0m\n\u001b[1;32m   1054\u001b[0m \u001b[0;34m\u001b[0m\u001b[0m\n\u001b[1;32m   1055\u001b[0m             \u001b[0;32mwith\u001b[0m \u001b[0mself\u001b[0m\u001b[0;34m.\u001b[0m\u001b[0m_backend\u001b[0m\u001b[0;34m.\u001b[0m\u001b[0mretrieval_context\u001b[0m\u001b[0;34m(\u001b[0m\u001b[0;34m)\u001b[0m\u001b[0;34m:\u001b[0m\u001b[0;34m\u001b[0m\u001b[0;34m\u001b[0m\u001b[0m\n\u001b[0;32m-> 1056\u001b[0;31m                 \u001b[0mself\u001b[0m\u001b[0;34m.\u001b[0m\u001b[0mretrieve\u001b[0m\u001b[0;34m(\u001b[0m\u001b[0;34m)\u001b[0m\u001b[0;34m\u001b[0m\u001b[0;34m\u001b[0m\u001b[0m\n\u001b[0m\u001b[1;32m   1057\u001b[0m             \u001b[0;31m# Make sure that we get a last message telling us we are done\u001b[0m\u001b[0;34m\u001b[0m\u001b[0;34m\u001b[0m\u001b[0;34m\u001b[0m\u001b[0m\n\u001b[1;32m   1058\u001b[0m             \u001b[0melapsed_time\u001b[0m \u001b[0;34m=\u001b[0m \u001b[0mtime\u001b[0m\u001b[0;34m.\u001b[0m\u001b[0mtime\u001b[0m\u001b[0;34m(\u001b[0m\u001b[0;34m)\u001b[0m \u001b[0;34m-\u001b[0m \u001b[0mself\u001b[0m\u001b[0;34m.\u001b[0m\u001b[0m_start_time\u001b[0m\u001b[0;34m\u001b[0m\u001b[0;34m\u001b[0m\u001b[0m\n",
      "\u001b[0;32m~/anaconda3/envs/PBHs/lib/python3.7/site-packages/joblib/parallel.py\u001b[0m in \u001b[0;36mretrieve\u001b[0;34m(self)\u001b[0m\n\u001b[1;32m    933\u001b[0m             \u001b[0;32mtry\u001b[0m\u001b[0;34m:\u001b[0m\u001b[0;34m\u001b[0m\u001b[0;34m\u001b[0m\u001b[0m\n\u001b[1;32m    934\u001b[0m                 \u001b[0;32mif\u001b[0m \u001b[0mgetattr\u001b[0m\u001b[0;34m(\u001b[0m\u001b[0mself\u001b[0m\u001b[0;34m.\u001b[0m\u001b[0m_backend\u001b[0m\u001b[0;34m,\u001b[0m \u001b[0;34m'supports_timeout'\u001b[0m\u001b[0;34m,\u001b[0m \u001b[0;32mFalse\u001b[0m\u001b[0;34m)\u001b[0m\u001b[0;34m:\u001b[0m\u001b[0;34m\u001b[0m\u001b[0;34m\u001b[0m\u001b[0m\n\u001b[0;32m--> 935\u001b[0;31m                     \u001b[0mself\u001b[0m\u001b[0;34m.\u001b[0m\u001b[0m_output\u001b[0m\u001b[0;34m.\u001b[0m\u001b[0mextend\u001b[0m\u001b[0;34m(\u001b[0m\u001b[0mjob\u001b[0m\u001b[0;34m.\u001b[0m\u001b[0mget\u001b[0m\u001b[0;34m(\u001b[0m\u001b[0mtimeout\u001b[0m\u001b[0;34m=\u001b[0m\u001b[0mself\u001b[0m\u001b[0;34m.\u001b[0m\u001b[0mtimeout\u001b[0m\u001b[0;34m)\u001b[0m\u001b[0;34m)\u001b[0m\u001b[0;34m\u001b[0m\u001b[0;34m\u001b[0m\u001b[0m\n\u001b[0m\u001b[1;32m    936\u001b[0m                 \u001b[0;32melse\u001b[0m\u001b[0;34m:\u001b[0m\u001b[0;34m\u001b[0m\u001b[0;34m\u001b[0m\u001b[0m\n\u001b[1;32m    937\u001b[0m                     \u001b[0mself\u001b[0m\u001b[0;34m.\u001b[0m\u001b[0m_output\u001b[0m\u001b[0;34m.\u001b[0m\u001b[0mextend\u001b[0m\u001b[0;34m(\u001b[0m\u001b[0mjob\u001b[0m\u001b[0;34m.\u001b[0m\u001b[0mget\u001b[0m\u001b[0;34m(\u001b[0m\u001b[0;34m)\u001b[0m\u001b[0;34m)\u001b[0m\u001b[0;34m\u001b[0m\u001b[0;34m\u001b[0m\u001b[0m\n",
      "\u001b[0;32m~/anaconda3/envs/PBHs/lib/python3.7/site-packages/joblib/_parallel_backends.py\u001b[0m in \u001b[0;36mwrap_future_result\u001b[0;34m(future, timeout)\u001b[0m\n\u001b[1;32m    540\u001b[0m         AsyncResults.get from multiprocessing.\"\"\"\n\u001b[1;32m    541\u001b[0m         \u001b[0;32mtry\u001b[0m\u001b[0;34m:\u001b[0m\u001b[0;34m\u001b[0m\u001b[0;34m\u001b[0m\u001b[0m\n\u001b[0;32m--> 542\u001b[0;31m             \u001b[0;32mreturn\u001b[0m \u001b[0mfuture\u001b[0m\u001b[0;34m.\u001b[0m\u001b[0mresult\u001b[0m\u001b[0;34m(\u001b[0m\u001b[0mtimeout\u001b[0m\u001b[0;34m=\u001b[0m\u001b[0mtimeout\u001b[0m\u001b[0;34m)\u001b[0m\u001b[0;34m\u001b[0m\u001b[0;34m\u001b[0m\u001b[0m\n\u001b[0m\u001b[1;32m    543\u001b[0m         \u001b[0;32mexcept\u001b[0m \u001b[0mCfTimeoutError\u001b[0m \u001b[0;32mas\u001b[0m \u001b[0me\u001b[0m\u001b[0;34m:\u001b[0m\u001b[0;34m\u001b[0m\u001b[0;34m\u001b[0m\u001b[0m\n\u001b[1;32m    544\u001b[0m             \u001b[0;32mraise\u001b[0m \u001b[0mTimeoutError\u001b[0m \u001b[0;32mfrom\u001b[0m \u001b[0me\u001b[0m\u001b[0;34m\u001b[0m\u001b[0;34m\u001b[0m\u001b[0m\n",
      "\u001b[0;32m~/anaconda3/envs/PBHs/lib/python3.7/concurrent/futures/_base.py\u001b[0m in \u001b[0;36mresult\u001b[0;34m(self, timeout)\u001b[0m\n\u001b[1;32m    428\u001b[0m                 \u001b[0;32mreturn\u001b[0m \u001b[0mself\u001b[0m\u001b[0;34m.\u001b[0m\u001b[0m__get_result\u001b[0m\u001b[0;34m(\u001b[0m\u001b[0;34m)\u001b[0m\u001b[0;34m\u001b[0m\u001b[0;34m\u001b[0m\u001b[0m\n\u001b[1;32m    429\u001b[0m \u001b[0;34m\u001b[0m\u001b[0m\n\u001b[0;32m--> 430\u001b[0;31m             \u001b[0mself\u001b[0m\u001b[0;34m.\u001b[0m\u001b[0m_condition\u001b[0m\u001b[0;34m.\u001b[0m\u001b[0mwait\u001b[0m\u001b[0;34m(\u001b[0m\u001b[0mtimeout\u001b[0m\u001b[0;34m)\u001b[0m\u001b[0;34m\u001b[0m\u001b[0;34m\u001b[0m\u001b[0m\n\u001b[0m\u001b[1;32m    431\u001b[0m \u001b[0;34m\u001b[0m\u001b[0m\n\u001b[1;32m    432\u001b[0m             \u001b[0;32mif\u001b[0m \u001b[0mself\u001b[0m\u001b[0;34m.\u001b[0m\u001b[0m_state\u001b[0m \u001b[0;32min\u001b[0m \u001b[0;34m[\u001b[0m\u001b[0mCANCELLED\u001b[0m\u001b[0;34m,\u001b[0m \u001b[0mCANCELLED_AND_NOTIFIED\u001b[0m\u001b[0;34m]\u001b[0m\u001b[0;34m:\u001b[0m\u001b[0;34m\u001b[0m\u001b[0;34m\u001b[0m\u001b[0m\n",
      "\u001b[0;32m~/anaconda3/envs/PBHs/lib/python3.7/threading.py\u001b[0m in \u001b[0;36mwait\u001b[0;34m(self, timeout)\u001b[0m\n\u001b[1;32m    294\u001b[0m         \u001b[0;32mtry\u001b[0m\u001b[0;34m:\u001b[0m    \u001b[0;31m# restore state no matter what (e.g., KeyboardInterrupt)\u001b[0m\u001b[0;34m\u001b[0m\u001b[0;34m\u001b[0m\u001b[0m\n\u001b[1;32m    295\u001b[0m             \u001b[0;32mif\u001b[0m \u001b[0mtimeout\u001b[0m \u001b[0;32mis\u001b[0m \u001b[0;32mNone\u001b[0m\u001b[0;34m:\u001b[0m\u001b[0;34m\u001b[0m\u001b[0;34m\u001b[0m\u001b[0m\n\u001b[0;32m--> 296\u001b[0;31m                 \u001b[0mwaiter\u001b[0m\u001b[0;34m.\u001b[0m\u001b[0macquire\u001b[0m\u001b[0;34m(\u001b[0m\u001b[0;34m)\u001b[0m\u001b[0;34m\u001b[0m\u001b[0;34m\u001b[0m\u001b[0m\n\u001b[0m\u001b[1;32m    297\u001b[0m                 \u001b[0mgotit\u001b[0m \u001b[0;34m=\u001b[0m \u001b[0;32mTrue\u001b[0m\u001b[0;34m\u001b[0m\u001b[0;34m\u001b[0m\u001b[0m\n\u001b[1;32m    298\u001b[0m             \u001b[0;32melse\u001b[0m\u001b[0;34m:\u001b[0m\u001b[0;34m\u001b[0m\u001b[0;34m\u001b[0m\u001b[0m\n",
      "\u001b[0;31mKeyboardInterrupt\u001b[0m: "
     ]
    }
   ],
   "source": [
    "tic = time.time()\n",
    "\n",
    "pad_len = int(323.4*T_obs) #~0.01 added length to resampled data\n",
    "pad_len_0 = pad_len\n",
    "offset_arr = np.logspace(-8, -1, 100)\n",
    "ref_freq_0, ref_power_0, _ = pad_calc(beta)\n",
    "\n",
    "result_0 = np.array(Parallel(4)(delayed(pad_calc)(beta+i*beta) for i in offset_arr))\n",
    "toc = time.time()\n",
    "print((toc-tic)/60)"
   ]
  },
  {
   "cell_type": "code",
   "execution_count": null,
   "id": "a9511404",
   "metadata": {},
   "outputs": [],
   "source": [
    "tic = time.time()\n",
    "\n",
    "pad_len = int(502.4*T_obs) #~0.01 added length to resampled data\n",
    "pad_len_1 = pad_len\n",
    "offset_arr = np.logspace(-8, -1, 100)\n",
    "ref_freq_1, ref_power_1, _ = pad_calc(beta)\n",
    "\n",
    "result_1 = np.array(Parallel(4)(delayed(pad_calc)(beta+i*beta) for i in offset_arr))\n",
    "toc = time.time()\n",
    "print((toc-tic)/60)"
   ]
  },
  {
   "cell_type": "code",
   "execution_count": null,
   "id": "8c8dce94",
   "metadata": {},
   "outputs": [],
   "source": [
    "# pl.plot(offset_arr, offset_results[:,0]/ref_freq)\n",
    "# pl.show()\n",
    "pl.semilogx(offset_arr, result_0[:,1]/ref_power_0, 'o', label = 'pad_frac=%.1F %%' % (100*result_0[0,2]))\n",
    "pl.semilogx(offset_arr, result_1[:,1]/ref_power_1, 'o', label = 'pad_frac=%.1F %%' % (100*result_1[0,2]))\n",
    "pl.xlabel(r'$\\Delta \\beta / \\beta$')\n",
    "pl.ylabel('Power ratio')\n",
    "pl.title(r'$\\beta_{exact} = %.1E$' % beta)\n",
    "pl.legend()\n",
    "# pl.axvline(offset_arr[-40])\n",
    "pl.show()"
   ]
  },
  {
   "cell_type": "code",
   "execution_count": null,
   "id": "1b4cc861",
   "metadata": {},
   "outputs": [],
   "source": []
  }
 ],
 "metadata": {
  "kernelspec": {
   "display_name": "Python 3 (ipykernel)",
   "language": "python",
   "name": "python3"
  },
  "language_info": {
   "codemirror_mode": {
    "name": "ipython",
    "version": 3
   },
   "file_extension": ".py",
   "mimetype": "text/x-python",
   "name": "python",
   "nbconvert_exporter": "python",
   "pygments_lexer": "ipython3",
   "version": "3.7.11"
  }
 },
 "nbformat": 4,
 "nbformat_minor": 5
}
