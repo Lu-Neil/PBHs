{
 "cells": [
  {
   "cell_type": "code",
   "execution_count": 75,
   "id": "4b22cf1b",
   "metadata": {},
   "outputs": [],
   "source": [
    "import numpy as np\n",
    "import matplotlib.pyplot as pl\n",
    "import time"
   ]
  },
  {
   "cell_type": "code",
   "execution_count": 79,
   "id": "cded0210",
   "metadata": {},
   "outputs": [
    {
     "name": "stdout",
     "output_type": "stream",
     "text": [
      "The line_profiler extension is already loaded. To reload it, use:\n",
      "  %reload_ext line_profiler\n"
     ]
    }
   ],
   "source": [
    "%load_ext line_profiler"
   ]
  },
  {
   "cell_type": "code",
   "execution_count": 4,
   "id": "2b105ed7",
   "metadata": {},
   "outputs": [],
   "source": [
    "c = 3e8\n",
    "G = 6.67e-11\n",
    "pi = np.pi\n",
    "const = 96/5*pi**(8/3)*(G/c**3)**(5/3)"
   ]
  },
  {
   "cell_type": "markdown",
   "id": "d9674712",
   "metadata": {},
   "source": [
    "Specific arguments"
   ]
  },
  {
   "cell_type": "code",
   "execution_count": 5,
   "id": "6522e7f1",
   "metadata": {},
   "outputs": [],
   "source": [
    "f0 = 120\n",
    "Mc = 3e-4* 2e30\n",
    "f_max = 200\n",
    "T_obs = 1e3\n",
    "beta = const*f0**(8/3)*Mc**(5/3)\n",
    "\n",
    "f_signal = 40*f_max\n",
    "nt = round(f_signal*T_obs)\n",
    "t = np.arange(nt)/f_signal"
   ]
  },
  {
   "cell_type": "markdown",
   "id": "92e663f2",
   "metadata": {},
   "source": [
    "Generating signal and adding noise"
   ]
  },
  {
   "cell_type": "code",
   "execution_count": 7,
   "id": "11b8e7ef",
   "metadata": {},
   "outputs": [],
   "source": [
    "phi = -6*pi/5*f0*(1-8./3.*beta*t)**(5/8)/beta\n",
    "phi = np.mod(phi,2*pi)\n",
    "signal = 1*np.exp(1j*phi)\n",
    "\n",
    "nh = 0\n",
    "noise = nh*np.random.normal(size = nt)\n",
    "data = signal + noise"
   ]
  },
  {
   "cell_type": "code",
   "execution_count": 77,
   "id": "fcd186f3",
   "metadata": {},
   "outputs": [],
   "source": [
    "def strobo(beta, data, f_ratio):\n",
    "    new_t = -3/5*(1-8/3*beta*t)**(5/8)/beta\n",
    "    f_new = f_signal/f_ratio\n",
    "    \n",
    "    new_t *= f_new \n",
    "    floor_t = np.floor(new_t) \n",
    "    idx = np.nonzero(np.diff(floor_t))\n",
    "    resampled = data[idx]\n",
    "    t_out = (new_t[idx]-new_t[0])/f_new\n",
    "    return (resampled, t_out)"
   ]
  },
  {
   "cell_type": "code",
   "execution_count": 80,
   "id": "d55fb95f",
   "metadata": {},
   "outputs": [],
   "source": [
    "# strobo(beta, data, f_ratio)"
   ]
  },
  {
   "cell_type": "code",
   "execution_count": 81,
   "id": "fceece89",
   "metadata": {},
   "outputs": [],
   "source": [
    "%lprun -f strobo strobo(beta, data, f_ratio)"
   ]
  },
  {
   "cell_type": "code",
   "execution_count": 31,
   "id": "9fdb1c0d",
   "metadata": {},
   "outputs": [],
   "source": [
    "# strobo dominated by new_t definition and idx calculation\n",
    "# using np operations for new_t definition has negligible effect"
   ]
  },
  {
   "cell_type": "code",
   "execution_count": 10,
   "id": "befe1206",
   "metadata": {},
   "outputs": [],
   "source": [
    "f_ratio = 25\n",
    "out, t_out = strobo(beta, data, f_ratio)\n",
    "corrected = np.fft.fftshift(np.fft.fft(out))\n",
    "freq_corrected = np.fft.fftshift(np.fft.fftfreq(len(t_out), d=t_out[1]-t_out[0]))\n",
    "corrected = corrected[len(corrected)//2:]\n",
    "resampled_power = np.abs(corrected/len(out))**2\n",
    "\n",
    "freq_corrected = freq_corrected[len(freq_corrected)//2:]\n",
    "nt_new = len(out)"
   ]
  },
  {
   "cell_type": "code",
   "execution_count": 11,
   "id": "218a6bc8",
   "metadata": {
    "scrolled": true
   },
   "outputs": [
    {
     "data": {
      "text/plain": [
       "(119.995, 120.005)"
      ]
     },
     "execution_count": 11,
     "metadata": {},
     "output_type": "execute_result"
    },
    {
     "data": {
      "image/png": "[encoded data removed]",
      "text/plain": [
       "<Figure size 432x288 with 1 Axes>"
      ]
     },
     "metadata": {
      "needs_background": "light"
     },
     "output_type": "display_data"
    }
   ],
   "source": [
    "pl.plot(freq_corrected, np.abs(resampled_power), 'o')\n",
    "pl.xlim(119.995, 120.005)"
   ]
  },
  {
   "cell_type": "code",
   "execution_count": 12,
   "id": "81e2b26b",
   "metadata": {},
   "outputs": [],
   "source": [
    "padded = np.full(3234000, 0, dtype = complex)\n",
    "padded[:len(out)] = out\n",
    "pad_corrected = np.fft.fftshift(np.fft.fft(padded))\n",
    "pad_freq_corrected = np.fft.fftshift(np.fft.fftfreq(len(padded), d=t_out[1]-t_out[0]))\n",
    "pad_resampled_power = np.abs(pad_corrected/len(padded))**2"
   ]
  },
  {
   "cell_type": "code",
   "execution_count": 13,
   "id": "c06abf01",
   "metadata": {},
   "outputs": [
    {
     "data": {
      "text/plain": [
       "(119.995, 120.005)"
      ]
     },
     "execution_count": 13,
     "metadata": {},
     "output_type": "execute_result"
    },
    {
     "data": {
      "image/png": "[encoded data removed]",
      "text/plain": [
       "<Figure size 432x288 with 1 Axes>"
      ]
     },
     "metadata": {
      "needs_background": "light"
     },
     "output_type": "display_data"
    }
   ],
   "source": [
    "pl.plot(pad_freq_corrected, pad_resampled_power, 'o')\n",
    "pl.xlim(119.995, 120.005)"
   ]
  },
  {
   "cell_type": "markdown",
   "id": "e2a6e09b",
   "metadata": {},
   "source": [
    "## With an offset"
   ]
  },
  {
   "cell_type": "code",
   "execution_count": 14,
   "id": "53b5d1d2",
   "metadata": {},
   "outputs": [],
   "source": [
    "def inspecting(beta):\n",
    "    new_t = -3/5*(1-8/3*beta*t)**(5/8)/beta\n",
    "    out, t_out = strobo(beta, data, f_ratio)\n",
    "    corrected = np.fft.fftshift(np.fft.fft(out))\n",
    "    freq_corrected = np.fft.fftshift(np.fft.fftfreq(len(t_out), d=t_out[1]-t_out[0]))\n",
    "#     corrected = corrected[len(corrected)//2:]\n",
    "#     freq_corrected = freq_corrected[len(freq_corrected)//2:] # there is a bug here, isn't same length as resampled_power if even or odd\n",
    "    resampled_power = np.abs(corrected/len(out))**2\n",
    "    \n",
    "    arg_max = np.argmax(resampled_power)\n",
    "    peak_freq = freq_corrected[arg_max]\n",
    "    peak_power = resampled_power[arg_max]\n",
    "    return freq_corrected, resampled_power"
   ]
  },
  {
   "cell_type": "code",
   "execution_count": 15,
   "id": "ef80bbd8",
   "metadata": {},
   "outputs": [],
   "source": [
    "temp_beta = (1+1e-3)*beta\n",
    "new_t = -3/5*(1-8/3*temp_beta*t)**(5/8)/temp_beta\n",
    "out, t_out = strobo(temp_beta, data, f_ratio)\n",
    "corrected = np.fft.fftshift(np.fft.fft(out))\n",
    "freq_corrected = np.fft.fftshift(np.fft.fftfreq(len(t_out), d=t_out[1]-t_out[0]))\n",
    "#     corrected = corrected[len(corrected)//2:]\n",
    "#     freq_corrected = freq_corrected[len(freq_corrected)//2:] # there is a bug here, isn't same length as resampled_power if even or odd\n",
    "resampled_power = np.abs(corrected/len(out))**2\n",
    "\n",
    "arg_max = np.argmax(resampled_power)\n",
    "peak_freq = freq_corrected[arg_max]\n",
    "peak_power = resampled_power[arg_max]"
   ]
  },
  {
   "cell_type": "code",
   "execution_count": 16,
   "id": "504d8e00",
   "metadata": {},
   "outputs": [
    {
     "data": {
      "text/plain": [
       "[<matplotlib.lines.Line2D at 0x7f05e750ecd0>]"
      ]
     },
     "execution_count": 16,
     "metadata": {},
     "output_type": "execute_result"
    },
    {
     "data": {
      "image/png": "[encoded data removed]",
      "text/plain": [
       "<Figure size 432x288 with 1 Axes>"
      ]
     },
     "metadata": {
      "needs_background": "light"
     },
     "output_type": "display_data"
    }
   ],
   "source": [
    "pl.plot(freq_corrected, resampled_power, 'o')\n",
    "# pl.xlim(119.999, 120.001)"
   ]
  },
  {
   "cell_type": "code",
   "execution_count": 17,
   "id": "a62e90bc",
   "metadata": {},
   "outputs": [
    {
     "data": {
      "text/plain": [
       "0.0009998626381104714"
      ]
     },
     "execution_count": 17,
     "metadata": {},
     "output_type": "execute_result"
    }
   ],
   "source": [
    "freq_corrected[1] - freq_corrected[0] "
   ]
  },
  {
   "cell_type": "code",
   "execution_count": 18,
   "id": "2d6ce1c4",
   "metadata": {},
   "outputs": [
    {
     "data": {
      "text/plain": [
       "0.001"
      ]
     },
     "execution_count": 18,
     "metadata": {},
     "output_type": "execute_result"
    }
   ],
   "source": [
    "f_signal / len(data)"
   ]
  },
  {
   "cell_type": "markdown",
   "id": "7fbed8cf",
   "metadata": {},
   "source": [
    "## Padding the data"
   ]
  },
  {
   "cell_type": "code",
   "execution_count": 19,
   "id": "0a072811",
   "metadata": {},
   "outputs": [],
   "source": [
    "def pad_calc(beta):\n",
    "    new_t = -3/5*(1-8/3*beta*t)**(5/8)/beta\n",
    "    out, t_out = strobo(beta, data, f_ratio)\n",
    "    padded = np.full(3234000, 0, dtype = complex)\n",
    "    padded[:len(out)] = out\n",
    "    pad_corrected = np.fft.fftshift(np.fft.fft(padded))\n",
    "    pad_freq_corrected = np.fft.fftshift(np.fft.fftfreq(len(padded), d=t_out[1]-t_out[0]))\n",
    "    pad_resampled_power = np.abs(pad_corrected/len(padded))**2\n",
    "    \n",
    "    arg_max = np.argmax(pad_resampled_power)\n",
    "    peak_freq = pad_freq_corrected[arg_max]\n",
    "    peak_power = pad_resampled_power[arg_max]\n",
    "    return peak_freq, peak_power"
   ]
  },
  {
   "cell_type": "code",
   "execution_count": 41,
   "id": "bcf113f5",
   "metadata": {},
   "outputs": [
    {
     "name": "stdout",
     "output_type": "stream",
     "text": [
      "1.0324544191360474\n"
     ]
    }
   ],
   "source": [
    "tic = time.time()\n",
    "offset_arr = np.logspace(-8, -1, 100)\n",
    "ref_freq, ref_power = pad_calc(beta)\n",
    "\n",
    "offset_results = np.array([pad_calc(beta+i*beta) for i in offset_arr])\n",
    "toc = time.time()\n",
    "print((toc-tic)/60)"
   ]
  },
  {
   "cell_type": "code",
   "execution_count": 42,
   "id": "8c8dce94",
   "metadata": {},
   "outputs": [
    {
     "data": {
      "image/png": "[encoded data removed]",
      "text/plain": [
       "<Figure size 432x288 with 1 Axes>"
      ]
     },
     "metadata": {
      "needs_background": "light"
     },
     "output_type": "display_data"
    }
   ],
   "source": [
    "# pl.plot(offset_arr, offset_results[:,0]/ref_freq)\n",
    "# pl.show()\n",
    "pl.semilogx(offset_arr, offset_results[:,1]/ref_power, 'o')\n",
    "pl.xlabel(r'$\\Delta \\beta / \\beta$')\n",
    "pl.ylabel('Power ratio')\n",
    "pl.title(r'$\\beta_{exact} = %.1E$' % beta)\n",
    "pl.axvline(offset_arr[-10])\n",
    "pl.show()"
   ]
  },
  {
   "cell_type": "code",
   "execution_count": null,
   "id": "938e398a",
   "metadata": {},
   "outputs": [],
   "source": []
  },
  {
   "cell_type": "markdown",
   "id": "233b2fd2",
   "metadata": {},
   "source": [
    "## Inspecting the jump"
   ]
  },
  {
   "cell_type": "code",
   "execution_count": 43,
   "id": "f7d367c5",
   "metadata": {},
   "outputs": [],
   "source": [
    "temp_beta = (1+offset_arr[-6])*beta\n",
    "new_t = -3/5*(1-8/3*temp_beta*t)**(5/8)/temp_beta\n",
    "out, t_out = strobo(temp_beta, data, f_ratio)\n",
    "padded = np.full(3234000, 0, dtype = complex)\n",
    "padded[:len(out)] = out\n",
    "pad_corrected = np.fft.fftshift(np.fft.fft(padded))\n",
    "pad_freq_corrected = np.fft.fftshift(np.fft.fftfreq(len(padded), d=t_out[1]-t_out[0]))\n",
    "pad_resampled_power = np.abs(pad_corrected/len(padded))**2\n",
    "\n",
    "arg_max = np.argmax(pad_resampled_power)\n",
    "peak_freq = pad_freq_corrected[arg_max]\n",
    "peak_power = pad_resampled_power[arg_max]"
   ]
  },
  {
   "cell_type": "code",
   "execution_count": 44,
   "id": "72104356",
   "metadata": {},
   "outputs": [
    {
     "data": {
      "text/plain": [
       "(119.995, 120.005)"
      ]
     },
     "execution_count": 44,
     "metadata": {},
     "output_type": "execute_result"
    },
    {
     "data": {
      "image/png": "[encoded data removed]",
      "text/plain": [
       "<Figure size 432x288 with 1 Axes>"
      ]
     },
     "metadata": {
      "needs_background": "light"
     },
     "output_type": "display_data"
    }
   ],
   "source": [
    "pl.plot(pad_freq_corrected, pad_resampled_power, 'o')\n",
    "pl.xlim(119.995, 120.005)"
   ]
  },
  {
   "cell_type": "code",
   "execution_count": 45,
   "id": "f25ad459",
   "metadata": {},
   "outputs": [],
   "source": [
    "temp_beta = (1+offset_arr[-12])*beta\n",
    "new_t = -3/5*(1-8/3*temp_beta*t)**(5/8)/temp_beta\n",
    "out, t_out = strobo(temp_beta, data, f_ratio)\n",
    "padded = np.full(3234000, 0, dtype = complex)\n",
    "padded[:len(out)] = out\n",
    "pad_corrected = np.fft.fftshift(np.fft.fft(padded))\n",
    "pad_freq_corrected = np.fft.fftshift(np.fft.fftfreq(len(padded), d=t_out[1]-t_out[0]))\n",
    "pad_resampled_power = np.abs(pad_corrected/len(padded))**2\n",
    "\n",
    "arg_max = np.argmax(pad_resampled_power)\n",
    "peak_freq = pad_freq_corrected[arg_max]\n",
    "peak_power = pad_resampled_power[arg_max]"
   ]
  },
  {
   "cell_type": "code",
   "execution_count": 46,
   "id": "2f00c6c5",
   "metadata": {},
   "outputs": [
    {
     "data": {
      "text/plain": [
       "(119.995, 120.005)"
      ]
     },
     "execution_count": 46,
     "metadata": {},
     "output_type": "execute_result"
    },
    {
     "data": {
      "image/png": "[encoded data removed]",
      "text/plain": [
       "<Figure size 432x288 with 1 Axes>"
      ]
     },
     "metadata": {
      "needs_background": "light"
     },
     "output_type": "display_data"
    }
   ],
   "source": [
    "pl.plot(pad_freq_corrected, pad_resampled_power, 'o')\n",
    "pl.xlim(119.995, 120.005)"
   ]
  },
  {
   "cell_type": "code",
   "execution_count": null,
   "id": "c8afdd74",
   "metadata": {},
   "outputs": [],
   "source": []
  }
 ],
 "metadata": {
  "kernelspec": {
   "display_name": "Python 3 (ipykernel)",
   "language": "python",
   "name": "python3"
  },
  "language_info": {
   "codemirror_mode": {
    "name": "ipython",
    "version": 3
   },
   "file_extension": ".py",
   "mimetype": "text/x-python",
   "name": "python",
   "nbconvert_exporter": "python",
   "pygments_lexer": "ipython3",
   "version": "3.7.11"
  }
 },
 "nbformat": 4,
 "nbformat_minor": 5
}
