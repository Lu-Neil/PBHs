{
 "cells": [
  {
   "cell_type": "code",
   "execution_count": 53,
   "id": "4b22cf1b",
   "metadata": {},
   "outputs": [],
   "source": [
    "import numpy as np\n",
    "import matplotlib.pyplot as pl\n",
    "import time"
   ]
  },
  {
   "cell_type": "code",
   "execution_count": 54,
   "id": "953d877e",
   "metadata": {},
   "outputs": [],
   "source": [
    "from varname import nameof, argname\n",
    "def copier(arg):\n",
    "    og_name = argname('arg')\n",
    "    new_name = og_name + '_copy'\n",
    "    globals()[new_name] = arg"
   ]
  },
  {
   "cell_type": "code",
   "execution_count": 55,
   "id": "2b105ed7",
   "metadata": {},
   "outputs": [],
   "source": [
    "c = 3e8\n",
    "G = 6.67e-11\n",
    "pi = np.pi\n",
    "const = 96/5*pi**(8/3)*(G/c**3)**(5/3)"
   ]
  },
  {
   "cell_type": "markdown",
   "id": "d9674712",
   "metadata": {},
   "source": [
    "Specific arguments"
   ]
  },
  {
   "cell_type": "code",
   "execution_count": 56,
   "id": "6522e7f1",
   "metadata": {},
   "outputs": [],
   "source": [
    "f0 = 120\n",
    "Mc = 3e-4* 2e30\n",
    "f_max = 200\n",
    "T_obs = 1e4\n",
    "beta = const*f0**(8/3)*Mc**(5/3)\n",
    "\n",
    "f_signal = 40*f_max\n",
    "nt = round(f_signal*T_obs)\n",
    "t = np.arange(nt)/f_signal"
   ]
  },
  {
   "cell_type": "code",
   "execution_count": 57,
   "id": "4de70539",
   "metadata": {},
   "outputs": [
    {
     "data": {
      "text/plain": [
       "2.7439303219997145e-07"
      ]
     },
     "execution_count": 57,
     "metadata": {},
     "output_type": "execute_result"
    }
   ],
   "source": [
    "beta"
   ]
  },
  {
   "cell_type": "markdown",
   "id": "92e663f2",
   "metadata": {},
   "source": [
    "Generating signal and adding noise"
   ]
  },
  {
   "cell_type": "code",
   "execution_count": 58,
   "id": "11b8e7ef",
   "metadata": {},
   "outputs": [],
   "source": [
    "phi = -6*pi/5*f0*(1-8./3.*beta*t)**(5/8)/beta\n",
    "phi = np.mod(phi,2*pi)\n",
    "signal = 1*np.exp(1j*phi)\n",
    "\n",
    "nh = 50\n",
    "noise = nh*np.random.normal(size = nt)\n",
    "data = signal + noise"
   ]
  },
  {
   "cell_type": "code",
   "execution_count": 59,
   "id": "aba45eeb",
   "metadata": {},
   "outputs": [],
   "source": [
    "%reset_selective -f \"^signal$\"\n",
    "%reset_selective -f noise\n",
    "%reset_selective -f phi"
   ]
  },
  {
   "cell_type": "code",
   "execution_count": 60,
   "id": "cda95201",
   "metadata": {},
   "outputs": [],
   "source": [
    "# freqs = np.fft.fftshift(np.fft.fftfreq(len(t), d=t[1]-t[0]))\n",
    "# fft = np.fft.fftshift(np.fft.fft(data))\n",
    "# freqs = freqs[len(freqs)//2:]\n",
    "# fft = fft[len(fft)//2:]"
   ]
  },
  {
   "cell_type": "code",
   "execution_count": 61,
   "id": "d71969e6",
   "metadata": {},
   "outputs": [],
   "source": [
    "# pl.plot(freqs, np.abs(fft)/nt)\n",
    "# pl.xlim(0, 200)"
   ]
  },
  {
   "cell_type": "code",
   "execution_count": 62,
   "id": "fcd186f3",
   "metadata": {},
   "outputs": [],
   "source": [
    "def strobo(beta, data, f_ratio):\n",
    "    new_t = -3/5*(1-8/3*beta*t)**(5/8)/beta\n",
    "    f_new = f_signal/f_ratio\n",
    "    \n",
    "    new_t *= f_new #changes the frequency to the new downsampled frequency (approximately, not exactly)\n",
    "    floor_t = np.floor(new_t) #For some reason floor works better than round. Take it to the nearest time index which are integers\n",
    "    idx = np.nonzero(np.diff(floor_t)) #The step that downsamples\n",
    "    resampled = data[idx]\n",
    "    t_out = (new_t[idx]-new_t[0])/f_new\n",
    "    return (resampled, t_out)\n",
    "\n",
    "def strobo_parallel(beta, data, f_ratio):\n",
    "    new_t = -3/5*(1-8/3*np.outer(beta, t))**(5/8)/beta\n",
    "    f_new = f_signal/f_ratio\n",
    "    \n",
    "    new_t *= f_new #changes the frequency to the new downsampled frequency (approximately, not exactly)\n",
    "    floor_t = np.floor(new_t) #For some reason floor works better than round. Take it to the nearest time index which are integers\n",
    "    idx = np.nonzero(np.diff(floor_t)) #The step that downsamples\n",
    "    resampled = data[idx]\n",
    "    t_out = (new_t[idx]-new_t[0])/f_new\n",
    "    return (resampled, t_out)"
   ]
  },
  {
   "cell_type": "code",
   "execution_count": 63,
   "id": "befe1206",
   "metadata": {},
   "outputs": [],
   "source": [
    "f_ratio = 25\n",
    "out, t_out = strobo(beta, data, f_ratio)\n",
    "corrected = np.fft.fftshift(np.fft.fft(out))\n",
    "freq_corrected = np.fft.fftshift(np.fft.fftfreq(len(t_out), d=t_out[1]-t_out[0]))\n",
    "corrected = corrected[len(corrected)//2:]\n",
    "freq_corrected = freq_corrected[len(freq_corrected)//2:]\n",
    "nt_new = len(out)"
   ]
  },
  {
   "cell_type": "code",
   "execution_count": 64,
   "id": "218a6bc8",
   "metadata": {
    "scrolled": true
   },
   "outputs": [
    {
     "data": {
      "text/plain": [
       "[<matplotlib.lines.Line2D at 0x7f40bd8b29d0>]"
      ]
     },
     "execution_count": 64,
     "metadata": {},
     "output_type": "execute_result"
    },
    {
     "data": {
      "image/png": "[encoded data removed]",
      "text/plain": [
       "<Figure size 432x288 with 1 Axes>"
      ]
     },
     "metadata": {
      "needs_background": "light"
     },
     "output_type": "display_data"
    }
   ],
   "source": [
    "pl.plot(freq_corrected, np.abs(corrected/nt_new))"
   ]
  },
  {
   "cell_type": "markdown",
   "id": "f32fbb44",
   "metadata": {},
   "source": [
    "## Numerically estimating error"
   ]
  },
  {
   "cell_type": "code",
   "execution_count": 65,
   "id": "f4139893",
   "metadata": {},
   "outputs": [],
   "source": [
    "def height_calc(beta):\n",
    "    new_t = -3/5*(1-8/3*beta*t)**(5/8)/beta\n",
    "    out, t_out = strobo(beta, data, f_ratio)\n",
    "    corrected = np.fft.fftshift(np.fft.fft(out))\n",
    "    freq_corrected = np.fft.fftshift(np.fft.fftfreq(len(t_out), d=t_out[1]-t_out[0]))\n",
    "    corrected = corrected[len(corrected)//2:]\n",
    "    freq_corrected = freq_corrected[len(freq_corrected)//2:]\n",
    "    nt_new = len(out)\n",
    "    resampled_amplitudes = np.abs(corrected/nt_new)\n",
    "    \n",
    "    arg_max = np.argmax(resampled_amplitudes)\n",
    "    peak_freq = freq_corrected[arg_max]\n",
    "    peak_height = resampled_amplitudes[arg_max]\n",
    "    return peak_freq, peak_height"
   ]
  },
  {
   "cell_type": "code",
   "execution_count": 66,
   "id": "3bc273a0",
   "metadata": {},
   "outputs": [
    {
     "name": "stdout",
     "output_type": "stream",
     "text": [
      "3.751860507329305\n"
     ]
    }
   ],
   "source": [
    "tic = time.time()\n",
    "\n",
    "offset_arr = np.logspace(-6, -3, 60)\n",
    "ref_freq, ref_height = height_calc(beta)\n",
    "\n",
    "offset_results = np.array([height_calc(beta+i*beta) for i in offset_arr])\n",
    "toc = time.time()\n",
    "print((toc-tic)/60)"
   ]
  },
  {
   "cell_type": "code",
   "execution_count": 67,
   "id": "5e6451e1",
   "metadata": {},
   "outputs": [
    {
     "data": {
      "image/png": "[encoded data removed]",
      "text/plain": [
       "<Figure size 432x288 with 1 Axes>"
      ]
     },
     "metadata": {
      "needs_background": "light"
     },
     "output_type": "display_data"
    }
   ],
   "source": [
    "# pl.plot(offset_arr, offset_results[:,0]/ref_freq)\n",
    "# pl.show()\n",
    "pl.semilogx(offset_arr, offset_results[:,1]/ref_height)\n",
    "pl.xlabel(r'$\\Delta \\beta / \\beta$')\n",
    "pl.ylabel('Height ratio')\n",
    "pl.title(r'$\\beta_{exact} = %.1E$' % beta)\n",
    "pl.show()"
   ]
  },
  {
   "cell_type": "code",
   "execution_count": 22,
   "id": "2a73e2ff",
   "metadata": {},
   "outputs": [
    {
     "name": "stdout",
     "output_type": "stream",
     "text": [
      "6.760220487912496\n"
     ]
    }
   ],
   "source": [
    "tic = time.time()\n",
    "beta = 1e-7\n",
    "offset_arr = np.logspace(-8, -3, 100)\n",
    "ref_freq, ref_height = height_calc(beta)\n",
    "\n",
    "offset_results = np.array([height_calc(beta+i*beta) for i in offset_arr])\n",
    "toc = time.time()\n",
    "print((toc-tic)/60)"
   ]
  },
  {
   "cell_type": "code",
   "execution_count": 23,
   "id": "b14b34cb",
   "metadata": {},
   "outputs": [
    {
     "data": {
      "image/png": "[encoded data removed]",
      "text/plain": [
       "<Figure size 432x288 with 1 Axes>"
      ]
     },
     "metadata": {
      "needs_background": "light"
     },
     "output_type": "display_data"
    }
   ],
   "source": [
    "# pl.plot(offset_arr, offset_results[:,0]/ref_freq)\n",
    "# pl.show()\n",
    "pl.semilogx(offset_arr, offset_results[:,1]/ref_height)\n",
    "pl.xlabel(r'$\\Delta \\beta / \\beta$')\n",
    "pl.ylabel('Height ratio')\n",
    "pl.title(r'$\\beta_{exact} = %.1E$' % beta)\n",
    "pl.show()"
   ]
  },
  {
   "cell_type": "code",
   "execution_count": null,
   "id": "a124e018",
   "metadata": {},
   "outputs": [
    {
     "name": "stderr",
     "output_type": "stream",
     "text": [
      "/home/neil/anaconda3/envs/PBHs/lib/python3.7/site-packages/ipykernel_launcher.py:2: RuntimeWarning: invalid value encountered in power\n",
      "  \n"
     ]
    }
   ],
   "source": [
    "tic = time.time()\n",
    "beta = 1e-3\n",
    "offset_arr = np.logspace(-8, -3, 100)\n",
    "ref_freq, ref_height = height_calc(beta)\n",
    "\n",
    "offset_results = np.array([height_calc(beta+i*beta) for i in offset_arr])\n",
    "toc = time.time()\n",
    "print((toc-tic)/60)"
   ]
  },
  {
   "cell_type": "code",
   "execution_count": null,
   "id": "673d52f8",
   "metadata": {},
   "outputs": [],
   "source": [
    "# pl.plot(offset_arr, offset_results[:,0]/ref_freq)\n",
    "# pl.show()\n",
    "pl.semilogx(offset_arr, offset_results[:,1]/ref_height)\n",
    "pl.xlabel(r'$\\Delta \\beta / \\beta$')\n",
    "pl.ylabel('Height ratio')\n",
    "pl.title(r'$\\beta_{exact} = %.1E$' % beta)\n",
    "pl.show()"
   ]
  },
  {
   "cell_type": "code",
   "execution_count": null,
   "id": "6e7b9114",
   "metadata": {},
   "outputs": [],
   "source": [
    "10/360*2*np.pi"
   ]
  },
  {
   "cell_type": "markdown",
   "id": "20a9842f",
   "metadata": {},
   "source": [
    "## Delta Beta"
   ]
  },
  {
   "cell_type": "code",
   "execution_count": null,
   "id": "1d37c273",
   "metadata": {},
   "outputs": [],
   "source": [
    "beta"
   ]
  },
  {
   "cell_type": "code",
   "execution_count": null,
   "id": "0eafa0cf",
   "metadata": {},
   "outputs": [],
   "source": [
    "dPhi_thresh = 1\n",
    "alpha = (1-8/3*beta*T_obs)\n",
    "temp0 = dPhi_thresh/(2*pi*f0)\n",
    "temp1 = alpha**(-5/8)\n",
    "temp2 = (beta**(-1)+5/3*T_obs*alpha**(-1))**(-1)\n",
    "dBeta_frac = temp0*temp1*temp2"
   ]
  },
  {
   "cell_type": "code",
   "execution_count": null,
   "id": "f4fdeb2e",
   "metadata": {},
   "outputs": [],
   "source": [
    "dBeta_frac"
   ]
  },
  {
   "cell_type": "markdown",
   "id": "5786969d",
   "metadata": {},
   "source": [
    "## Verifying TE"
   ]
  },
  {
   "cell_type": "code",
   "execution_count": null,
   "id": "87905eb6",
   "metadata": {},
   "outputs": [],
   "source": [
    "dBeta_arr = beta*np.linspace(0, 0.01, 100)\n",
    "analytic = (1-8/3*(beta+dBeta_arr)*T_obs)**(5/8)/(beta+dBeta_arr)\n",
    "TE = alpha**(5/8)/beta - dBeta_arr/beta*alpha**(5/8)*(beta**(-1)+5/3*T_obs*alpha**(-1))"
   ]
  },
  {
   "cell_type": "code",
   "execution_count": null,
   "id": "9693e211",
   "metadata": {},
   "outputs": [],
   "source": [
    "pl.plot(dBeta_arr, analytic, label = 'analytic')\n",
    "pl.plot(dBeta_arr, TE, label = \"Taylor Expansion\")\n",
    "pl.xlabel(\"dBeta\")"
   ]
  },
  {
   "cell_type": "markdown",
   "id": "821d72a7",
   "metadata": {},
   "source": [
    "## Parameter space"
   ]
  },
  {
   "cell_type": "code",
   "execution_count": null,
   "id": "382a9f9a",
   "metadata": {},
   "outputs": [],
   "source": [
    "def beta_calc(f, M):\n",
    "    M_temp = M*2e30\n",
    "    return const*f**(8/3)*M_temp**(5/3)"
   ]
  },
  {
   "cell_type": "code",
   "execution_count": null,
   "id": "856074a6",
   "metadata": {},
   "outputs": [],
   "source": [
    "fspace = np.linspace(20, 2000, 1000)\n",
    "Mspace = np.logspace(-5, -3, 1000)\n",
    "\n",
    "[fgrid, Mgrid] = np.meshgrid(fspace, Mspace)\n",
    "betaGrid = beta_calc(fgrid, Mgrid)"
   ]
  },
  {
   "cell_type": "code",
   "execution_count": null,
   "id": "4d1ca846",
   "metadata": {},
   "outputs": [],
   "source": [
    "pl.contourf(fspace, np.log10(Mspace), np.log10(betaGrid))\n",
    "pl.colorbar()\n",
    "pl.title(r'$log(\\beta)$')\n",
    "pl.xlabel(\"Frequency (Hz)\")\n",
    "pl.ylabel(r'$M_c$ ($M_\\odot$)')"
   ]
  },
  {
   "cell_type": "code",
   "execution_count": null,
   "id": "dc3e3bd8",
   "metadata": {},
   "outputs": [],
   "source": [
    "def t_max_calc(f0, M, f_max):\n",
    "    temp0 = (M/1e-2)**(-5/3)\n",
    "    temp1 = (f0/200)**(-8/3) - (f_max/200)**(-8/3)\n",
    "    return 1e3*temp0*temp1\n",
    "\n",
    "def t_max_calc1(f0, beta, f_max):\n",
    "    temp0 = 0.37/beta\n",
    "    temp1 = 1-(f0/f_max)**(8/3)\n",
    "    return temp0*temp1"
   ]
  },
  {
   "cell_type": "code",
   "execution_count": null,
   "id": "e52a4a4d",
   "metadata": {},
   "outputs": [],
   "source": [
    "tMax_grid = t_max_calc(fgrid, Mgrid, 2000)\n",
    "tMax_grid[tMax_grid>3e7] = 3e7"
   ]
  },
  {
   "cell_type": "code",
   "execution_count": null,
   "id": "40dd28fa",
   "metadata": {},
   "outputs": [],
   "source": [
    "pl.contourf(fspace, np.log10(Mspace), np.log10(tMax_grid))\n",
    "pl.colorbar()\n",
    "pl.title(\"t_max\")\n",
    "pl.xlabel(\"Frequency (Hz)\")\n",
    "pl.ylabel(r'$M_c$ ($M_\\odot$)')"
   ]
  },
  {
   "cell_type": "code",
   "execution_count": null,
   "id": "73d357ea",
   "metadata": {},
   "outputs": [],
   "source": [
    "tMax_grid1 = t_max_calc1(fgrid, betaGrid, 2000)\n",
    "tMax_grid1[tMax_grid1>3e7] = 3e7"
   ]
  },
  {
   "cell_type": "code",
   "execution_count": null,
   "id": "85268d4a",
   "metadata": {},
   "outputs": [],
   "source": [
    "pl.contourf(fspace, np.log10(Mspace), np.log10(tMax_grid1))\n",
    "pl.colorbar()\n",
    "pl.title(\"t_max\")\n",
    "pl.xlabel(\"Frequency (Hz)\")\n",
    "pl.ylabel(r'$M_c$ ($M_\\odot$)')"
   ]
  },
  {
   "cell_type": "code",
   "execution_count": null,
   "id": "267ece3d",
   "metadata": {},
   "outputs": [],
   "source": [
    "beta_space = np.logspace(-12, -1, 1000)\n",
    "beta_small = 1e-7\n",
    "beta_big = 1e-6\n",
    "t_space = np.linspace(0, 1e4, int(1e3))\n",
    "t_new_big = (1-8/3*beta_big*t_space)**(5/8)/beta_big\n",
    "t_new_small = (1-8/3*beta_small*t_space)**(5/8)/beta_small"
   ]
  }
 ],
 "metadata": {
  "kernelspec": {
   "display_name": "Python 3 (ipykernel)",
   "language": "python",
   "name": "python3"
  },
  "language_info": {
   "codemirror_mode": {
    "name": "ipython",
    "version": 3
   },
   "file_extension": ".py",
   "mimetype": "text/x-python",
   "name": "python",
   "nbconvert_exporter": "python",
   "pygments_lexer": "ipython3",
   "version": "3.7.11"
  }
 },
 "nbformat": 4,
 "nbformat_minor": 5
}
