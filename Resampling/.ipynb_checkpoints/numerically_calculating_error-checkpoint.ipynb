{
 "cells": [
  {
   "cell_type": "code",
   "execution_count": 20,
   "id": "4b22cf1b",
   "metadata": {},
   "outputs": [],
   "source": [
    "import numpy as np\n",
    "import matplotlib.pyplot as pl\n",
    "import time\n",
    "import pyfftw"
   ]
  },
  {
   "cell_type": "code",
   "execution_count": 21,
   "id": "953d877e",
   "metadata": {},
   "outputs": [],
   "source": [
    "from varname import nameof, argname\n",
    "def copier(arg):\n",
    "    og_name = argname('arg')\n",
    "    new_name = og_name + '_copy'\n",
    "    globals()[new_name] = arg"
   ]
  },
  {
   "cell_type": "code",
   "execution_count": 8,
   "id": "2b105ed7",
   "metadata": {},
   "outputs": [],
   "source": [
    "c = 3e8\n",
    "G = 6.67e-11\n",
    "pi = np.pi\n",
    "const = 96/5*pi**(8/3)*(G/c**3)**(5/3)"
   ]
  },
  {
   "cell_type": "markdown",
   "id": "d9674712",
   "metadata": {},
   "source": [
    "Specific arguments"
   ]
  },
  {
   "cell_type": "code",
   "execution_count": 9,
   "id": "6522e7f1",
   "metadata": {},
   "outputs": [],
   "source": [
    "f0 = 120\n",
    "Mc = 3e-4* 2e30\n",
    "f_max = 200\n",
    "T_obs = 1e4\n",
    "beta = const*f0**(8/3)*Mc**(5/3)\n",
    "\n",
    "f_signal = 40*f_max\n",
    "nt = round(f_signal*T_obs)\n",
    "t = np.arange(nt)/f_signal\n",
    "\n",
    "f_ratio = 25\n",
    "f_new = f_signal/f_ratio"
   ]
  },
  {
   "cell_type": "code",
   "execution_count": 10,
   "id": "4de70539",
   "metadata": {},
   "outputs": [
    {
     "data": {
      "text/plain": [
       "2.7439303219997145e-07"
      ]
     },
     "execution_count": 10,
     "metadata": {},
     "output_type": "execute_result"
    }
   ],
   "source": [
    "beta"
   ]
  },
  {
   "cell_type": "markdown",
   "id": "92e663f2",
   "metadata": {},
   "source": [
    "Generating signal and adding noise"
   ]
  },
  {
   "cell_type": "code",
   "execution_count": 11,
   "id": "11b8e7ef",
   "metadata": {},
   "outputs": [],
   "source": [
    "phi = -6*pi/5*f0*(1-8./3.*beta*t)**(5/8)/beta\n",
    "phi = np.mod(phi,2*pi)\n",
    "signal = 1*np.exp(1j*phi)\n",
    "\n",
    "nh = 50\n",
    "noise = nh*np.random.normal(size = nt)\n",
    "data = signal + noise"
   ]
  },
  {
   "cell_type": "code",
   "execution_count": 12,
   "id": "aba45eeb",
   "metadata": {},
   "outputs": [],
   "source": [
    "%reset_selective -f \"^signal$\"\n",
    "%reset_selective -f noise\n",
    "%reset_selective -f phi"
   ]
  },
  {
   "cell_type": "code",
   "execution_count": 15,
   "id": "5db47d57",
   "metadata": {},
   "outputs": [
    {
     "name": "stdout",
     "output_type": "stream",
     "text": [
      "The cython extension is already loaded. To reload it, use:\n",
      "  %reload_ext cython\n"
     ]
    }
   ],
   "source": [
    "%load_ext cython"
   ]
  },
  {
   "cell_type": "code",
   "execution_count": 16,
   "id": "9bfcc9db",
   "metadata": {},
   "outputs": [
    {
     "name": "stderr",
     "output_type": "stream",
     "text": [
      "warning: /home/neil/.cache/ipython/cython/_cython_magic_7115fb43c8df433ceb7147988037ded3.pyx:24:60: Use boundscheck(False) for faster access\n",
      "warning: /home/neil/.cache/ipython/cython/_cython_magic_7115fb43c8df433ceb7147988037ded3.pyx:24:18: Use boundscheck(False) for faster access\n",
      "In file included from /home/neil/anaconda3/envs/PBHs/lib/python3.7/site-packages/numpy/core/include/numpy/ndarraytypes.h:1969,\n",
      "                 from /home/neil/anaconda3/envs/PBHs/lib/python3.7/site-packages/numpy/core/include/numpy/ndarrayobject.h:12,\n",
      "                 from /home/neil/anaconda3/envs/PBHs/lib/python3.7/site-packages/numpy/core/include/numpy/arrayobject.h:4,\n",
      "                 from /home/neil/.cache/ipython/cython/_cython_magic_7115fb43c8df433ceb7147988037ded3.c:728:\n",
      "/home/neil/anaconda3/envs/PBHs/lib/python3.7/site-packages/numpy/core/include/numpy/npy_1_7_deprecated_api.h:17:2: warning: #warning \"Using deprecated NumPy API, disable it with \" \"#define NPY_NO_DEPRECATED_API NPY_1_7_API_VERSION\" [-Wcpp]\n",
      "   17 | #warning \"Using deprecated NumPy API, disable it with \" \\\n",
      "      |  ^~~~~~~\n"
     ]
    }
   ],
   "source": [
    "%%cython --f\n",
    "# distutils: extra_compile_args=-fopenmp\n",
    "# distutils: extra_link_args=-fopenmp\n",
    "cimport numpy as np\n",
    "import numpy as np\n",
    "import cython\n",
    "from cython.parallel import prange\n",
    "\n",
    "@cython.boundscheck(False)\n",
    "@cython.wraparound(False)\n",
    "\n",
    "cdef int nogil_round(double a) nogil:\n",
    "    return int(a)\n",
    "\n",
    "def cython_minimal(float beta,\n",
    "                 double[:] t,\n",
    "                 complex[:] data,\n",
    "                 float f_new):\n",
    "    assert t.shape[0] == data.shape[0]\n",
    "    cdef Py_ssize_t i\n",
    "    new_t = np.zeros((t.shape[0]), dtype = np.int32)\n",
    "    cdef int[:] new_t_view = new_t\n",
    "    \n",
    "    for i in prange(t.shape[0], nogil=True):\n",
    "        new_t_view[i] = nogil_round(f_new*-3/5*(1-8/3*beta*t[i])**(5/8)/beta)\n",
    "    return new_t"
   ]
  },
  {
   "cell_type": "code",
   "execution_count": 17,
   "id": "9138d67d",
   "metadata": {},
   "outputs": [],
   "source": [
    "def strobo_wrapper(beta, t, data, f_new):\n",
    "    new_t = cython_minimal(beta, t, data, f_new)\n",
    "    idx = np.nonzero(np.diff(new_t)) #The step that downsamples\n",
    "    \n",
    "    resampled = data[idx]\n",
    "    t_out = (new_t[idx]-new_t[0])/f_new\n",
    "    return resampled, t_out"
   ]
  },
  {
   "cell_type": "code",
   "execution_count": 18,
   "id": "befe1206",
   "metadata": {},
   "outputs": [],
   "source": [
    "out, t_out = strobo_wrapper(beta, t, data, f_new)\n",
    "corrected = np.fft.fftshift(np.fft.fft(out))\n",
    "freq_corrected = np.fft.fftshift(np.fft.fftfreq(len(t_out), d=t_out[1]-t_out[0]))\n",
    "corrected = corrected[len(corrected)//2:]\n",
    "freq_corrected = freq_corrected[len(freq_corrected)//2:]\n",
    "nt_new = len(out)"
   ]
  },
  {
   "cell_type": "code",
   "execution_count": 22,
   "id": "218a6bc8",
   "metadata": {
    "scrolled": true
   },
   "outputs": [
    {
     "data": {
      "text/plain": [
       "[<matplotlib.lines.Line2D at 0x7fbcbee3d610>]"
      ]
     },
     "execution_count": 22,
     "metadata": {},
     "output_type": "execute_result"
    },
    {
     "data": {
      "image/png": "[encoded data removed]",
      "text/plain": [
       "<Figure size 432x288 with 1 Axes>"
      ]
     },
     "metadata": {
      "needs_background": "light"
     },
     "output_type": "display_data"
    }
   ],
   "source": [
    "pl.plot(freq_corrected, np.abs(corrected/nt_new))"
   ]
  },
  {
   "cell_type": "markdown",
   "id": "f32fbb44",
   "metadata": {},
   "source": [
    "## Numerically estimating error"
   ]
  },
  {
   "cell_type": "code",
   "execution_count": 23,
   "id": "11ccfc46",
   "metadata": {},
   "outputs": [
    {
     "data": {
      "text/plain": [
       "(False, False, True)"
      ]
     },
     "execution_count": 23,
     "metadata": {},
     "output_type": "execute_result"
    }
   ],
   "source": [
    "pyfftw.interfaces.cache.enable()\n",
    "wisdom = pyfftw.export_wisdom()\n",
    "pyfftw.import_wisdom(wisdom)"
   ]
  },
  {
   "cell_type": "code",
   "execution_count": 32,
   "id": "f4139893",
   "metadata": {},
   "outputs": [],
   "source": [
    "def height_calc(beta):\n",
    "    out, t_out = strobo_wrapper(beta, t, data, f_new)\n",
    "    temp_in = pyfftw.empty_aligned(len(out), dtype='complex128')\n",
    "    temp_out = pyfftw.empty_aligned(len(out), dtype='complex128')\n",
    "    temp_in[:] = out\n",
    "    fft_object = pyfftw.FFTW(temp_in, temp_out)\n",
    "    corrected = np.fft.fftshift(fft_object())\n",
    "    freq_corrected = np.fft.fftshift(np.fft.fftfreq(len(t_out), d=t_out[1]-t_out[0]))\n",
    "    corrected = corrected[len(corrected)//2:]\n",
    "    freq_corrected = freq_corrected[len(freq_corrected)//2:]\n",
    "    nt_new = len(out)\n",
    "    resampled_amplitudes = np.abs(corrected/nt_new)\n",
    "    \n",
    "    arg_max = np.argmax(resampled_amplitudes)\n",
    "    peak_freq = freq_corrected[arg_max]\n",
    "    peak_height = resampled_amplitudes[arg_max]\n",
    "    return peak_freq, peak_height"
   ]
  },
  {
   "cell_type": "code",
   "execution_count": 25,
   "id": "09dd0dbe",
   "metadata": {},
   "outputs": [
    {
     "name": "stdout",
     "output_type": "stream",
     "text": [
      "The line_profiler extension is already loaded. To reload it, use:\n",
      "  %reload_ext line_profiler\n"
     ]
    }
   ],
   "source": [
    "%load_ext line_profiler"
   ]
  },
  {
   "cell_type": "code",
   "execution_count": 26,
   "id": "6b7fe942",
   "metadata": {},
   "outputs": [],
   "source": [
    "%lprun -f height_calc height_calc(beta)"
   ]
  },
  {
   "cell_type": "code",
   "execution_count": null,
   "id": "45ca4370",
   "metadata": {},
   "outputs": [],
   "source": [
    "%%cython --f\n",
    "# distutils: extra_compile_args=-fopenmp\n",
    "# distutils: extra_link_args=-fopenmp\n",
    "cimport numpy as np\n",
    "import numpy as np\n",
    "import cython\n",
    "from cython.parallel import prange\n",
    "\n",
    "@cython.boundscheck(False)\n",
    "@cython.wraparound(False)\n",
    "\n",
    "cdef int nogil_round(double a) nogil:\n",
    "    return int(a)\n",
    "\n",
    "def cython_height(float beta,\n",
    "                 double[:] t,\n",
    "                 complex[:] data,\n",
    "                 float f_new):\n",
    "    assert t.shape[0] == data.shape[0]\n",
    "    cdef Py_ssize_t i\n",
    "    cdef np.ndarray[np.int32_t, ndim=1] new_t\n",
    "    cdef np.ndarray[np.int64_t, ndim=1] idx\n",
    "    \n",
    "    #Creating new_t and the data_view\n",
    "    new_t = np.zeros((t.shape[0]), dtype = np.int32)\n",
    "    cdef int[:] new_t_view = new_t\n",
    "    \n",
    "    #Looping for new_t\n",
    "    for i in prange(t.shape[0], nogil=True):\n",
    "        new_t_view[i] = nogil_round(f_new*-3/5*(1-8/3*beta*t[i])**(5/8)/beta)\n",
    "    \n",
    "    #Downsampling\n",
    "    idx = np.diff(new_t).nonzero()[0]\n",
    "#     resampled = np.array(data)[idx]\n",
    "#     t_out = (np.array(new_t)[idx]-np.array(new_t)[0])/f_new\n",
    "    \n",
    "    cdef int temp_len = np.shape(idx)[0]\n",
    "    resampled = np.zeros(temp_len, dtype = complex)\n",
    "    t_out = np.zeros(temp_len, dtype = np.double)\n",
    "    cdef complex[:] resampled_view = resampled\n",
    "    cdef double[:] t_out_view = t_out\n",
    "    cdef long[:] idx_view = idx\n",
    "    for i in prange(temp_len, nogil=True):\n",
    "        resampled_view[i] = data[idx_view[i]]\n",
    "        t_out_view[i] = (new_t_view[idx_view[i]]-new_t_view[0])/f_new\n",
    "    return resampled #, t_out"
   ]
  },
  {
   "cell_type": "code",
   "execution_count": 33,
   "id": "8f32435a",
   "metadata": {},
   "outputs": [
    {
     "name": "stdout",
     "output_type": "stream",
     "text": [
      "2.7492766340573627\n"
     ]
    }
   ],
   "source": [
    "tic = time.time()\n",
    "\n",
    "offset_arr = np.logspace(-6, -3, 100)\n",
    "ref_freq, ref_height = height_calc(beta)\n",
    "\n",
    "offset_results = np.array([height_calc(beta+i*beta) for i in offset_arr])\n",
    "toc = time.time()\n",
    "print((toc-tic)/60)"
   ]
  },
  {
   "cell_type": "code",
   "execution_count": 34,
   "id": "089f9d6a",
   "metadata": {},
   "outputs": [
    {
     "data": {
      "image/png": "[encoded data removed]",
      "text/plain": [
       "<Figure size 432x288 with 1 Axes>"
      ]
     },
     "metadata": {
      "needs_background": "light"
     },
     "output_type": "display_data"
    }
   ],
   "source": [
    "# pl.plot(offset_arr, offset_results[:,0]/ref_freq)\n",
    "# pl.show()\n",
    "pl.semilogx(offset_arr, offset_results[:,1]/ref_height)\n",
    "pl.xlabel(r'$\\Delta \\beta / \\beta$')\n",
    "pl.ylabel('Height ratio')\n",
    "pl.title(r'$\\beta_{exact} = %.1E$' % beta)\n",
    "pl.show()"
   ]
  },
  {
   "cell_type": "code",
   "execution_count": 73,
   "id": "a6a62f95",
   "metadata": {},
   "outputs": [
    {
     "name": "stderr",
     "output_type": "stream",
     "text": [
      "warning: /home/neil/.cache/ipython/cython/_cython_magic_e5d8a24a3c4e72084cd931a9592f8027.pyx:29:60: Use boundscheck(False) for faster access\n",
      "warning: /home/neil/.cache/ipython/cython/_cython_magic_e5d8a24a3c4e72084cd931a9592f8027.pyx:29:18: Use boundscheck(False) for faster access\n",
      "warning: /home/neil/.cache/ipython/cython/_cython_magic_e5d8a24a3c4e72084cd931a9592f8027.pyx:43:41: Use boundscheck(False) for faster access\n",
      "warning: /home/neil/.cache/ipython/cython/_cython_magic_e5d8a24a3c4e72084cd931a9592f8027.pyx:43:32: Use boundscheck(False) for faster access\n",
      "warning: /home/neil/.cache/ipython/cython/_cython_magic_e5d8a24a3c4e72084cd931a9592f8027.pyx:43:22: Use boundscheck(False) for faster access\n",
      "warning: /home/neil/.cache/ipython/cython/_cython_magic_e5d8a24a3c4e72084cd931a9592f8027.pyx:44:44: Use boundscheck(False) for faster access\n",
      "warning: /home/neil/.cache/ipython/cython/_cython_magic_e5d8a24a3c4e72084cd931a9592f8027.pyx:44:35: Use boundscheck(False) for faster access\n",
      "warning: /home/neil/.cache/ipython/cython/_cython_magic_e5d8a24a3c4e72084cd931a9592f8027.pyx:44:59: Use boundscheck(False) for faster access\n",
      "warning: /home/neil/.cache/ipython/cython/_cython_magic_e5d8a24a3c4e72084cd931a9592f8027.pyx:44:18: Use boundscheck(False) for faster access\n",
      "In file included from /home/neil/anaconda3/envs/PBHs/lib/python3.7/site-packages/numpy/core/include/numpy/ndarraytypes.h:1969,\n",
      "                 from /home/neil/anaconda3/envs/PBHs/lib/python3.7/site-packages/numpy/core/include/numpy/ndarrayobject.h:12,\n",
      "                 from /home/neil/anaconda3/envs/PBHs/lib/python3.7/site-packages/numpy/core/include/numpy/arrayobject.h:4,\n",
      "                 from /home/neil/.cache/ipython/cython/_cython_magic_e5d8a24a3c4e72084cd931a9592f8027.c:753:\n",
      "/home/neil/anaconda3/envs/PBHs/lib/python3.7/site-packages/numpy/core/include/numpy/npy_1_7_deprecated_api.h:17:2: warning: #warning \"Using deprecated NumPy API, disable it with \" \"#define NPY_NO_DEPRECATED_API NPY_1_7_API_VERSION\" [-Wcpp]\n",
      "   17 | #warning \"Using deprecated NumPy API, disable it with \" \\\n",
      "      |  ^~~~~~~\n"
     ]
    }
   ],
   "source": [
    "%%cython --f\n",
    "# distutils: extra_compile_args=-fopenmp\n",
    "# distutils: extra_link_args=-fopenmp\n",
    "cimport numpy as np\n",
    "import numpy as np\n",
    "import cython\n",
    "from cython.parallel import prange\n",
    "\n",
    "@cython.boundscheck(False)\n",
    "@cython.wraparound(False)\n",
    "\n",
    "cdef int nogil_round(double a) nogil:\n",
    "    return int(a)\n",
    "\n",
    "def cython_strobo(float beta,\n",
    "                 double[:] t,\n",
    "                 complex[:] data,\n",
    "                 float f_new):\n",
    "    assert t.shape[0] == data.shape[0]\n",
    "    cdef Py_ssize_t i\n",
    "    cdef np.ndarray[np.int32_t, ndim=1] new_t\n",
    "    cdef np.ndarray[np.int64_t, ndim=1] idx\n",
    "    \n",
    "    #Creating new_t and the data_view\n",
    "    new_t = np.zeros((t.shape[0]), dtype = np.int32)\n",
    "    cdef int[:] new_t_view = new_t\n",
    "    \n",
    "    #Looping for new_t\n",
    "    for i in prange(t.shape[0], nogil=True):\n",
    "        new_t_view[i] = nogil_round(f_new*-3/5*(1-8/3*beta*t[i])**(5/8)/beta)\n",
    "    \n",
    "    #Downsampling\n",
    "    idx = np.diff(new_t).nonzero()[0]\n",
    "#     resampled = np.array(data)[idx]\n",
    "#     t_out = (np.array(new_t)[idx]-np.array(new_t)[0])/f_new\n",
    "    \n",
    "    cdef int temp_len = np.shape(idx)[0]\n",
    "    resampled = np.zeros(temp_len, dtype = complex)\n",
    "    t_out = np.zeros(temp_len, dtype = np.double)\n",
    "    cdef complex[:] resampled_view = resampled\n",
    "    cdef double[:] t_out_view = t_out\n",
    "    cdef long[:] idx_view = idx\n",
    "    for i in prange(temp_len, nogil=True):\n",
    "        resampled_view[i] = data[idx_view[i]]\n",
    "        t_out_view[i] = (new_t_view[idx_view[i]]-new_t_view[0])/f_new\n",
    "    return resampled #, t_out"
   ]
  },
  {
   "cell_type": "code",
   "execution_count": 74,
   "id": "76ed3687",
   "metadata": {},
   "outputs": [
    {
     "data": {
      "text/plain": [
       "array([-36.28473005-0.97314306j,  22.68975447+0.52533926j,\n",
       "       -74.8745274 +0.23020116j, ...,  44.17132274+0.25288032j,\n",
       "       -20.68752381-0.85963585j,  83.13105909+0.97070214j])"
      ]
     },
     "execution_count": 74,
     "metadata": {},
     "output_type": "execute_result"
    }
   ],
   "source": [
    "cython_strobo(beta, t, data, f_new)"
   ]
  },
  {
   "cell_type": "code",
   "execution_count": 75,
   "id": "4dbdfa4c",
   "metadata": {},
   "outputs": [
    {
     "name": "stdout",
     "output_type": "stream",
     "text": [
      "720 ms ± 19.5 ms per loop (mean ± std. dev. of 7 runs, 1 loop each)\n"
     ]
    }
   ],
   "source": [
    "%timeit cython_strobo(beta, t, data, f_new)"
   ]
  },
  {
   "cell_type": "code",
   "execution_count": 76,
   "id": "64080b42",
   "metadata": {},
   "outputs": [
    {
     "name": "stdout",
     "output_type": "stream",
     "text": [
      "722 ms ± 7.67 ms per loop (mean ± std. dev. of 7 runs, 1 loop each)\n"
     ]
    }
   ],
   "source": [
    "%timeit strobo_wrapper(beta, t, data, f_new)"
   ]
  },
  {
   "cell_type": "code",
   "execution_count": 107,
   "id": "9e74ea38",
   "metadata": {},
   "outputs": [
    {
     "ename": "TypeError",
     "evalue": "only integer scalar arrays can be converted to a scalar index",
     "output_type": "error",
     "traceback": [
      "\u001b[0;31m---------------------------------------------------------------------------\u001b[0m",
      "\u001b[0;31mTypeError\u001b[0m                                 Traceback (most recent call last)",
      "\u001b[0;32m/tmp/ipykernel_67377/1524906669.py\u001b[0m in \u001b[0;36m<module>\u001b[0;34m\u001b[0m\n\u001b[0;32m----> 1\u001b[0;31m \u001b[0mcython_height_calc\u001b[0m\u001b[0;34m(\u001b[0m\u001b[0mbeta_arr\u001b[0m\u001b[0;34m,\u001b[0m \u001b[0mt\u001b[0m\u001b[0;34m,\u001b[0m \u001b[0mdata\u001b[0m\u001b[0;34m,\u001b[0m \u001b[0mf_ratio\u001b[0m\u001b[0;34m)\u001b[0m\u001b[0;34m\u001b[0m\u001b[0;34m\u001b[0m\u001b[0m\n\u001b[0m",
      "\u001b[0;32m_cython_magic_4816fd690263ae44782df9116e552385.pyx\u001b[0m in \u001b[0;36m_cython_magic_4816fd690263ae44782df9116e552385.cython_height_calc\u001b[0;34m()\u001b[0m\n",
      "\u001b[0;32m_cython_magic_4816fd690263ae44782df9116e552385.pyx\u001b[0m in \u001b[0;36m_cython_magic_4816fd690263ae44782df9116e552385.strobo_wrapper\u001b[0;34m()\u001b[0m\n",
      "\u001b[0;32m~/.cache/ipython/cython/_cython_magic_4816fd690263ae44782df9116e552385.cpython-37m-x86_64-linux-gnu.so\u001b[0m in \u001b[0;36mView.MemoryView.memoryview.__getitem__\u001b[0;34m()\u001b[0m\n",
      "\u001b[0;32m~/.cache/ipython/cython/_cython_magic_4816fd690263ae44782df9116e552385.cpython-37m-x86_64-linux-gnu.so\u001b[0m in \u001b[0;36mView.MemoryView.memoryview.get_item_pointer\u001b[0;34m()\u001b[0m\n",
      "\u001b[0;31mTypeError\u001b[0m: only integer scalar arrays can be converted to a scalar index"
     ]
    }
   ],
   "source": [
    "cython_height_calc(beta_arr, t, data, f_ratio)"
   ]
  },
  {
   "cell_type": "code",
   "execution_count": 84,
   "id": "3c34f9d4",
   "metadata": {},
   "outputs": [],
   "source": [
    "beta_arr = (1+np.logspace(-6, -3, 5))*beta"
   ]
  },
  {
   "cell_type": "code",
   "execution_count": 86,
   "id": "6e6de7bb",
   "metadata": {},
   "outputs": [
    {
     "ename": "ValueError",
     "evalue": "Buffer dtype mismatch, expected 'float' but got 'double'",
     "output_type": "error",
     "traceback": [
      "\u001b[0;31m---------------------------------------------------------------------------\u001b[0m",
      "\u001b[0;31mValueError\u001b[0m                                Traceback (most recent call last)",
      "\u001b[0;32m/tmp/ipykernel_67377/1182244290.py\u001b[0m in \u001b[0;36m<module>\u001b[0;34m\u001b[0m\n\u001b[0;32m----> 1\u001b[0;31m \u001b[0mget_ipython\u001b[0m\u001b[0;34m(\u001b[0m\u001b[0;34m)\u001b[0m\u001b[0;34m.\u001b[0m\u001b[0mrun_line_magic\u001b[0m\u001b[0;34m(\u001b[0m\u001b[0;34m'timeit'\u001b[0m\u001b[0;34m,\u001b[0m \u001b[0;34m'cython_height_calc(beta_arr, t, data, f_ratio)'\u001b[0m\u001b[0;34m)\u001b[0m\u001b[0;34m\u001b[0m\u001b[0;34m\u001b[0m\u001b[0m\n\u001b[0m",
      "\u001b[0;32m~/anaconda3/envs/PBHs/lib/python3.7/site-packages/IPython/core/interactiveshell.py\u001b[0m in \u001b[0;36mrun_line_magic\u001b[0;34m(self, magic_name, line, _stack_depth)\u001b[0m\n\u001b[1;32m   2362\u001b[0m                 \u001b[0mkwargs\u001b[0m\u001b[0;34m[\u001b[0m\u001b[0;34m'local_ns'\u001b[0m\u001b[0;34m]\u001b[0m \u001b[0;34m=\u001b[0m \u001b[0mself\u001b[0m\u001b[0;34m.\u001b[0m\u001b[0mget_local_scope\u001b[0m\u001b[0;34m(\u001b[0m\u001b[0mstack_depth\u001b[0m\u001b[0;34m)\u001b[0m\u001b[0;34m\u001b[0m\u001b[0;34m\u001b[0m\u001b[0m\n\u001b[1;32m   2363\u001b[0m             \u001b[0;32mwith\u001b[0m \u001b[0mself\u001b[0m\u001b[0;34m.\u001b[0m\u001b[0mbuiltin_trap\u001b[0m\u001b[0;34m:\u001b[0m\u001b[0;34m\u001b[0m\u001b[0;34m\u001b[0m\u001b[0m\n\u001b[0;32m-> 2364\u001b[0;31m                 \u001b[0mresult\u001b[0m \u001b[0;34m=\u001b[0m \u001b[0mfn\u001b[0m\u001b[0;34m(\u001b[0m\u001b[0;34m*\u001b[0m\u001b[0margs\u001b[0m\u001b[0;34m,\u001b[0m \u001b[0;34m**\u001b[0m\u001b[0mkwargs\u001b[0m\u001b[0;34m)\u001b[0m\u001b[0;34m\u001b[0m\u001b[0;34m\u001b[0m\u001b[0m\n\u001b[0m\u001b[1;32m   2365\u001b[0m             \u001b[0;32mreturn\u001b[0m \u001b[0mresult\u001b[0m\u001b[0;34m\u001b[0m\u001b[0;34m\u001b[0m\u001b[0m\n\u001b[1;32m   2366\u001b[0m \u001b[0;34m\u001b[0m\u001b[0m\n",
      "\u001b[0;32m~/anaconda3/envs/PBHs/lib/python3.7/site-packages/decorator.py\u001b[0m in \u001b[0;36mfun\u001b[0;34m(*args, **kw)\u001b[0m\n\u001b[1;32m    230\u001b[0m             \u001b[0;32mif\u001b[0m \u001b[0;32mnot\u001b[0m \u001b[0mkwsyntax\u001b[0m\u001b[0;34m:\u001b[0m\u001b[0;34m\u001b[0m\u001b[0;34m\u001b[0m\u001b[0m\n\u001b[1;32m    231\u001b[0m                 \u001b[0margs\u001b[0m\u001b[0;34m,\u001b[0m \u001b[0mkw\u001b[0m \u001b[0;34m=\u001b[0m \u001b[0mfix\u001b[0m\u001b[0;34m(\u001b[0m\u001b[0margs\u001b[0m\u001b[0;34m,\u001b[0m \u001b[0mkw\u001b[0m\u001b[0;34m,\u001b[0m \u001b[0msig\u001b[0m\u001b[0;34m)\u001b[0m\u001b[0;34m\u001b[0m\u001b[0;34m\u001b[0m\u001b[0m\n\u001b[0;32m--> 232\u001b[0;31m             \u001b[0;32mreturn\u001b[0m \u001b[0mcaller\u001b[0m\u001b[0;34m(\u001b[0m\u001b[0mfunc\u001b[0m\u001b[0;34m,\u001b[0m \u001b[0;34m*\u001b[0m\u001b[0;34m(\u001b[0m\u001b[0mextras\u001b[0m \u001b[0;34m+\u001b[0m \u001b[0margs\u001b[0m\u001b[0;34m)\u001b[0m\u001b[0;34m,\u001b[0m \u001b[0;34m**\u001b[0m\u001b[0mkw\u001b[0m\u001b[0;34m)\u001b[0m\u001b[0;34m\u001b[0m\u001b[0;34m\u001b[0m\u001b[0m\n\u001b[0m\u001b[1;32m    233\u001b[0m     \u001b[0mfun\u001b[0m\u001b[0;34m.\u001b[0m\u001b[0m__name__\u001b[0m \u001b[0;34m=\u001b[0m \u001b[0mfunc\u001b[0m\u001b[0;34m.\u001b[0m\u001b[0m__name__\u001b[0m\u001b[0;34m\u001b[0m\u001b[0;34m\u001b[0m\u001b[0m\n\u001b[1;32m    234\u001b[0m     \u001b[0mfun\u001b[0m\u001b[0;34m.\u001b[0m\u001b[0m__doc__\u001b[0m \u001b[0;34m=\u001b[0m \u001b[0mfunc\u001b[0m\u001b[0;34m.\u001b[0m\u001b[0m__doc__\u001b[0m\u001b[0;34m\u001b[0m\u001b[0;34m\u001b[0m\u001b[0m\n",
      "\u001b[0;32m~/anaconda3/envs/PBHs/lib/python3.7/site-packages/IPython/core/magic.py\u001b[0m in \u001b[0;36m<lambda>\u001b[0;34m(f, *a, **k)\u001b[0m\n\u001b[1;32m    185\u001b[0m     \u001b[0;31m# but it's overkill for just that one bit of state.\u001b[0m\u001b[0;34m\u001b[0m\u001b[0;34m\u001b[0m\u001b[0;34m\u001b[0m\u001b[0m\n\u001b[1;32m    186\u001b[0m     \u001b[0;32mdef\u001b[0m \u001b[0mmagic_deco\u001b[0m\u001b[0;34m(\u001b[0m\u001b[0marg\u001b[0m\u001b[0;34m)\u001b[0m\u001b[0;34m:\u001b[0m\u001b[0;34m\u001b[0m\u001b[0;34m\u001b[0m\u001b[0m\n\u001b[0;32m--> 187\u001b[0;31m         \u001b[0mcall\u001b[0m \u001b[0;34m=\u001b[0m \u001b[0;32mlambda\u001b[0m \u001b[0mf\u001b[0m\u001b[0;34m,\u001b[0m \u001b[0;34m*\u001b[0m\u001b[0ma\u001b[0m\u001b[0;34m,\u001b[0m \u001b[0;34m**\u001b[0m\u001b[0mk\u001b[0m\u001b[0;34m:\u001b[0m \u001b[0mf\u001b[0m\u001b[0;34m(\u001b[0m\u001b[0;34m*\u001b[0m\u001b[0ma\u001b[0m\u001b[0;34m,\u001b[0m \u001b[0;34m**\u001b[0m\u001b[0mk\u001b[0m\u001b[0;34m)\u001b[0m\u001b[0;34m\u001b[0m\u001b[0;34m\u001b[0m\u001b[0m\n\u001b[0m\u001b[1;32m    188\u001b[0m \u001b[0;34m\u001b[0m\u001b[0m\n\u001b[1;32m    189\u001b[0m         \u001b[0;32mif\u001b[0m \u001b[0mcallable\u001b[0m\u001b[0;34m(\u001b[0m\u001b[0marg\u001b[0m\u001b[0;34m)\u001b[0m\u001b[0;34m:\u001b[0m\u001b[0;34m\u001b[0m\u001b[0;34m\u001b[0m\u001b[0m\n",
      "\u001b[0;32m~/anaconda3/envs/PBHs/lib/python3.7/site-packages/IPython/core/magics/execution.py\u001b[0m in \u001b[0;36mtimeit\u001b[0;34m(self, line, cell, local_ns)\u001b[0m\n\u001b[1;32m   1178\u001b[0m             \u001b[0;32mfor\u001b[0m \u001b[0mindex\u001b[0m \u001b[0;32min\u001b[0m \u001b[0mrange\u001b[0m\u001b[0;34m(\u001b[0m\u001b[0;36m0\u001b[0m\u001b[0;34m,\u001b[0m \u001b[0;36m10\u001b[0m\u001b[0;34m)\u001b[0m\u001b[0;34m:\u001b[0m\u001b[0;34m\u001b[0m\u001b[0;34m\u001b[0m\u001b[0m\n\u001b[1;32m   1179\u001b[0m                 \u001b[0mnumber\u001b[0m \u001b[0;34m=\u001b[0m \u001b[0;36m10\u001b[0m \u001b[0;34m**\u001b[0m \u001b[0mindex\u001b[0m\u001b[0;34m\u001b[0m\u001b[0;34m\u001b[0m\u001b[0m\n\u001b[0;32m-> 1180\u001b[0;31m                 \u001b[0mtime_number\u001b[0m \u001b[0;34m=\u001b[0m \u001b[0mtimer\u001b[0m\u001b[0;34m.\u001b[0m\u001b[0mtimeit\u001b[0m\u001b[0;34m(\u001b[0m\u001b[0mnumber\u001b[0m\u001b[0;34m)\u001b[0m\u001b[0;34m\u001b[0m\u001b[0;34m\u001b[0m\u001b[0m\n\u001b[0m\u001b[1;32m   1181\u001b[0m                 \u001b[0;32mif\u001b[0m \u001b[0mtime_number\u001b[0m \u001b[0;34m>=\u001b[0m \u001b[0;36m0.2\u001b[0m\u001b[0;34m:\u001b[0m\u001b[0;34m\u001b[0m\u001b[0;34m\u001b[0m\u001b[0m\n\u001b[1;32m   1182\u001b[0m                     \u001b[0;32mbreak\u001b[0m\u001b[0;34m\u001b[0m\u001b[0;34m\u001b[0m\u001b[0m\n",
      "\u001b[0;32m~/anaconda3/envs/PBHs/lib/python3.7/site-packages/IPython/core/magics/execution.py\u001b[0m in \u001b[0;36mtimeit\u001b[0;34m(self, number)\u001b[0m\n\u001b[1;32m    167\u001b[0m         \u001b[0mgc\u001b[0m\u001b[0;34m.\u001b[0m\u001b[0mdisable\u001b[0m\u001b[0;34m(\u001b[0m\u001b[0;34m)\u001b[0m\u001b[0;34m\u001b[0m\u001b[0;34m\u001b[0m\u001b[0m\n\u001b[1;32m    168\u001b[0m         \u001b[0;32mtry\u001b[0m\u001b[0;34m:\u001b[0m\u001b[0;34m\u001b[0m\u001b[0;34m\u001b[0m\u001b[0m\n\u001b[0;32m--> 169\u001b[0;31m             \u001b[0mtiming\u001b[0m \u001b[0;34m=\u001b[0m \u001b[0mself\u001b[0m\u001b[0;34m.\u001b[0m\u001b[0minner\u001b[0m\u001b[0;34m(\u001b[0m\u001b[0mit\u001b[0m\u001b[0;34m,\u001b[0m \u001b[0mself\u001b[0m\u001b[0;34m.\u001b[0m\u001b[0mtimer\u001b[0m\u001b[0;34m)\u001b[0m\u001b[0;34m\u001b[0m\u001b[0;34m\u001b[0m\u001b[0m\n\u001b[0m\u001b[1;32m    170\u001b[0m         \u001b[0;32mfinally\u001b[0m\u001b[0;34m:\u001b[0m\u001b[0;34m\u001b[0m\u001b[0;34m\u001b[0m\u001b[0m\n\u001b[1;32m    171\u001b[0m             \u001b[0;32mif\u001b[0m \u001b[0mgcold\u001b[0m\u001b[0;34m:\u001b[0m\u001b[0;34m\u001b[0m\u001b[0;34m\u001b[0m\u001b[0m\n",
      "\u001b[0;32m<magic-timeit>\u001b[0m in \u001b[0;36minner\u001b[0;34m(_it, _timer)\u001b[0m\n",
      "\u001b[0;32m_cython_magic_46502e8454a7eeb18277245366e314b2.pyx\u001b[0m in \u001b[0;36m_cython_magic_46502e8454a7eeb18277245366e314b2.cython_height_calc\u001b[0;34m()\u001b[0m\n",
      "\u001b[0;31mValueError\u001b[0m: Buffer dtype mismatch, expected 'float' but got 'double'"
     ]
    }
   ],
   "source": [
    "%timeit cython_height_calc(beta_arr, t, data, f_ratio)"
   ]
  },
  {
   "cell_type": "code",
   "execution_count": 74,
   "id": "3bc273a0",
   "metadata": {},
   "outputs": [
    {
     "name": "stdout",
     "output_type": "stream",
     "text": [
      "3.0333849747975665\n"
     ]
    }
   ],
   "source": [
    "tic = time.time()\n",
    "\n",
    "offset_arr = np.logspace(-6, -3, 100)\n",
    "ref_freq, ref_height = height_calc(beta)\n",
    "\n",
    "offset_results = np.array([height_calc(beta+i*beta) for i in offset_arr])\n",
    "toc = time.time()\n",
    "print((toc-tic)/60)"
   ]
  },
  {
   "cell_type": "code",
   "execution_count": 75,
   "id": "5e6451e1",
   "metadata": {},
   "outputs": [
    {
     "data": {
      "image/png": "[encoded data removed]",
      "text/plain": [
       "<Figure size 432x288 with 1 Axes>"
      ]
     },
     "metadata": {
      "needs_background": "light"
     },
     "output_type": "display_data"
    }
   ],
   "source": [
    "# pl.plot(offset_arr, offset_results[:,0]/ref_freq)\n",
    "# pl.show()\n",
    "pl.semilogx(offset_arr, offset_results[:,1]/ref_height)\n",
    "pl.xlabel(r'$\\Delta \\beta / \\beta$')\n",
    "pl.ylabel('Height ratio')\n",
    "pl.title(r'$\\beta_{exact} = %.1E$' % beta)\n",
    "pl.show()"
   ]
  },
  {
   "cell_type": "code",
   "execution_count": null,
   "id": "2a73e2ff",
   "metadata": {},
   "outputs": [],
   "source": [
    "tic = time.time()\n",
    "beta = 1e-7\n",
    "offset_arr = np.logspace(-8, -3, 100)\n",
    "ref_freq, ref_height = height_calc(beta)\n",
    "\n",
    "offset_results = np.array([height_calc(beta+i*beta) for i in offset_arr])\n",
    "toc = time.time()\n",
    "print((toc-tic)/60)"
   ]
  },
  {
   "cell_type": "code",
   "execution_count": null,
   "id": "b14b34cb",
   "metadata": {},
   "outputs": [],
   "source": [
    "# pl.plot(offset_arr, offset_results[:,0]/ref_freq)\n",
    "# pl.show()\n",
    "pl.semilogx(offset_arr, offset_results[:,1]/ref_height)\n",
    "pl.xlabel(r'$\\Delta \\beta / \\beta$')\n",
    "pl.ylabel('Height ratio')\n",
    "pl.title(r'$\\beta_{exact} = %.1E$' % beta)\n",
    "pl.show()"
   ]
  },
  {
   "cell_type": "code",
   "execution_count": null,
   "id": "a124e018",
   "metadata": {},
   "outputs": [],
   "source": [
    "tic = time.time()\n",
    "beta = 1e-3\n",
    "offset_arr = np.logspace(-8, -3, 100)\n",
    "ref_freq, ref_height = height_calc(beta)\n",
    "\n",
    "offset_results = np.array([height_calc(beta+i*beta) for i in offset_arr])\n",
    "toc = time.time()\n",
    "print((toc-tic)/60)"
   ]
  },
  {
   "cell_type": "code",
   "execution_count": null,
   "id": "673d52f8",
   "metadata": {},
   "outputs": [],
   "source": [
    "# pl.plot(offset_arr, offset_results[:,0]/ref_freq)\n",
    "# pl.show()\n",
    "pl.semilogx(offset_arr, offset_results[:,1]/ref_height)\n",
    "pl.xlabel(r'$\\Delta \\beta / \\beta$')\n",
    "pl.ylabel('Height ratio')\n",
    "pl.title(r'$\\beta_{exact} = %.1E$' % beta)\n",
    "pl.show()"
   ]
  }
 ],
 "metadata": {
  "kernelspec": {
   "display_name": "Python 3 (ipykernel)",
   "language": "python",
   "name": "python3"
  },
  "language_info": {
   "codemirror_mode": {
    "name": "ipython",
    "version": 3
   },
   "file_extension": ".py",
   "mimetype": "text/x-python",
   "name": "python",
   "nbconvert_exporter": "python",
   "pygments_lexer": "ipython3",
   "version": "3.7.11"
  }
 },
 "nbformat": 4,
 "nbformat_minor": 5
}
