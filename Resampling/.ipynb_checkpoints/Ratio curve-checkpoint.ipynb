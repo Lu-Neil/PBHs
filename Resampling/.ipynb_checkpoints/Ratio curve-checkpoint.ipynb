{
 "cells": [
  {
   "cell_type": "code",
   "execution_count": 1,
   "id": "4b22cf1b",
   "metadata": {},
   "outputs": [],
   "source": [
    "import numpy as np\n",
    "import matplotlib.pyplot as pl\n",
    "import time\n",
    "from joblib import Parallel, delayed"
   ]
  },
  {
   "cell_type": "code",
   "execution_count": 2,
   "id": "2b105ed7",
   "metadata": {},
   "outputs": [],
   "source": [
    "c = 3e8\n",
    "G = 6.67e-11\n",
    "pi = np.pi\n",
    "const = 96/5*pi**(8/3)*(G/c**3)**(5/3)"
   ]
  },
  {
   "cell_type": "markdown",
   "id": "d9674712",
   "metadata": {},
   "source": [
    "Specific arguments"
   ]
  },
  {
   "cell_type": "code",
   "execution_count": 3,
   "id": "6522e7f1",
   "metadata": {},
   "outputs": [],
   "source": [
    "f0 = 120\n",
    "Mc = 3e-4* 2e30\n",
    "f_max = 200\n",
    "T_obs = 1e4\n",
    "pad_len = int(323.4*T_obs) #~0.01 added length to resampled data\n",
    "beta = const*f0**(8/3)*Mc**(5/3)\n",
    "\n",
    "f_signal = 40*f_max\n",
    "nt = round(f_signal*T_obs)\n",
    "t = np.arange(nt)/f_signal"
   ]
  },
  {
   "cell_type": "code",
   "execution_count": 4,
   "id": "4de70539",
   "metadata": {},
   "outputs": [
    {
     "data": {
      "text/plain": [
       "2.7439303219997145e-07"
      ]
     },
     "execution_count": 4,
     "metadata": {},
     "output_type": "execute_result"
    }
   ],
   "source": [
    "beta"
   ]
  },
  {
   "cell_type": "markdown",
   "id": "92e663f2",
   "metadata": {},
   "source": [
    "Generating signal and adding noise"
   ]
  },
  {
   "cell_type": "code",
   "execution_count": 5,
   "id": "11b8e7ef",
   "metadata": {},
   "outputs": [],
   "source": [
    "phi = -6*pi/5*f0*(1-8./3.*beta*t)**(5/8)/beta\n",
    "phi = np.mod(phi,2*pi)\n",
    "signal = 1*np.exp(1j*phi)\n",
    "\n",
    "nh = 0\n",
    "noise = nh*np.random.normal(size = nt)\n",
    "data = signal + noise"
   ]
  },
  {
   "cell_type": "code",
   "execution_count": 6,
   "id": "aba45eeb",
   "metadata": {},
   "outputs": [],
   "source": [
    "%reset_selective -f \"^signal$\"\n",
    "%reset_selective -f noise\n",
    "%reset_selective -f phi"
   ]
  },
  {
   "cell_type": "code",
   "execution_count": 7,
   "id": "fcd186f3",
   "metadata": {},
   "outputs": [],
   "source": [
    "def strobo(beta, data, f_ratio):\n",
    "    new_t = -3/5*(1-8/3*beta*t)**(5/8)/beta\n",
    "    f_new = f_signal/f_ratio\n",
    "    \n",
    "    new_t *= f_new #changes the frequency to the new downsampled frequency (approximately, not exactly)\n",
    "    floor_t = np.floor(new_t) #For some reason floor works better than round. Take it to the nearest time index which are integers\n",
    "    idx = np.nonzero(np.diff(floor_t)) #The step that downsamples\n",
    "    resampled = data[idx]\n",
    "    t_out = (new_t[idx]-new_t[0])/f_new\n",
    "    return (resampled, t_out)"
   ]
  },
  {
   "cell_type": "code",
   "execution_count": 8,
   "id": "befe1206",
   "metadata": {},
   "outputs": [],
   "source": [
    "# f_ratio = 25\n",
    "# out, t_out = strobo(beta, data, f_ratio)\n",
    "# corrected = np.fft.fftshift(np.fft.fft(out))\n",
    "# freq_corrected = np.fft.fftshift(np.fft.fftfreq(len(t_out), d=t_out[1]-t_out[0]))\n",
    "# corrected = corrected[len(corrected)//2:]\n",
    "# resampled_power = np.abs(corrected/len(out))**2\n",
    "\n",
    "# freq_corrected = freq_corrected[len(freq_corrected)//2:]\n",
    "# nt_new = len(out)"
   ]
  },
  {
   "cell_type": "code",
   "execution_count": 9,
   "id": "218a6bc8",
   "metadata": {
    "scrolled": true
   },
   "outputs": [
    {
     "data": {
      "text/plain": [
       "(119.995, 120.005)"
      ]
     },
     "execution_count": 9,
     "metadata": {},
     "output_type": "execute_result"
    },
    {
     "data": {
      "image/png": "[encoded data removed]",
      "text/plain": [
       "<Figure size 432x288 with 1 Axes>"
      ]
     },
     "metadata": {
      "needs_background": "light"
     },
     "output_type": "display_data"
    }
   ],
   "source": [
    "# pl.plot(freq_corrected, np.abs(resampled_power), 'o')\n",
    "# pl.xlim(119.995, 120.005)"
   ]
  },
  {
   "cell_type": "code",
   "execution_count": 14,
   "id": "3bb6bc03",
   "metadata": {},
   "outputs": [
    {
     "data": {
      "text/plain": [
       "0.009151205936920223"
      ]
     },
     "execution_count": 14,
     "metadata": {},
     "output_type": "execute_result"
    }
   ],
   "source": [
    "# (pad_len - len(out)) / pad_len"
   ]
  },
  {
   "cell_type": "code",
   "execution_count": 56,
   "id": "0ebeb48b",
   "metadata": {},
   "outputs": [
    {
     "data": {
      "text/plain": [
       "3204405"
      ]
     },
     "execution_count": 56,
     "metadata": {},
     "output_type": "execute_result"
    }
   ],
   "source": [
    "len(out)"
   ]
  },
  {
   "cell_type": "markdown",
   "id": "7fbed8cf",
   "metadata": {},
   "source": [
    "## Padding the data"
   ]
  },
  {
   "cell_type": "code",
   "execution_count": 32,
   "id": "0a072811",
   "metadata": {},
   "outputs": [],
   "source": [
    "def pad_calc(beta):\n",
    "#     print(pad_len)\n",
    "    new_t = -3/5*(1-8/3*beta*t)**(5/8)/beta\n",
    "    out, t_out = strobo(beta, data, f_ratio)\n",
    "    pad_frac = (pad_len - len(out)) / len(out)\n",
    "    padded = np.full(pad_len, 0, dtype = complex)\n",
    "    padded[:len(out)] = out\n",
    "    pad_corrected = np.fft.fftshift(np.fft.fft(padded))\n",
    "    pad_freq_corrected = np.fft.fftshift(np.fft.fftfreq(len(padded), d=t_out[1]-t_out[0]))\n",
    "    pad_resampled_power = np.abs(pad_corrected/len(padded))**2\n",
    "    \n",
    "    arg_max = np.argmax(pad_resampled_power)\n",
    "    peak_freq = pad_freq_corrected[arg_max]\n",
    "    peak_power = pad_resampled_power[arg_max]\n",
    "    return np.array([peak_freq, peak_power, pad_frac])"
   ]
  },
  {
   "cell_type": "code",
   "execution_count": 33,
   "id": "2ab17b61",
   "metadata": {},
   "outputs": [
    {
     "data": {
      "text/plain": [
       "array([1.20000014e+02, 8.90342719e-01, 9.23540900e-03])"
      ]
     },
     "execution_count": 33,
     "metadata": {},
     "output_type": "execute_result"
    }
   ],
   "source": [
    "pad_len = int(323.4*T_obs) #~0.01 added length to resampled data\n",
    "pad_calc(beta+1e-4*beta)"
   ]
  },
  {
   "cell_type": "code",
   "execution_count": 34,
   "id": "758ab0ce",
   "metadata": {},
   "outputs": [
    {
     "data": {
      "text/plain": [
       "array([1.20000014e+02, 8.32730948e-01, 4.35631440e-02])"
      ]
     },
     "execution_count": 34,
     "metadata": {},
     "output_type": "execute_result"
    }
   ],
   "source": [
    "pad_len = int(334.4*T_obs) #~0.01 added length to resampled data\n",
    "pad_calc(beta+1e-4*beta)"
   ]
  },
  {
   "cell_type": "code",
   "execution_count": 16,
   "id": "7d5b19eb",
   "metadata": {},
   "outputs": [],
   "source": [
    "%reset_selective -f new_t\n",
    "%reset_selective -f padded\n",
    "%reset_selective -f phi"
   ]
  },
  {
   "cell_type": "code",
   "execution_count": 127,
   "id": "bcf113f5",
   "metadata": {},
   "outputs": [
    {
     "name": "stdout",
     "output_type": "stream",
     "text": [
      "2.524547453721364\n"
     ]
    }
   ],
   "source": [
    "tic = time.time()\n",
    "\n",
    "pad_len = int(323.4*T_obs) #~0.01 added length to resampled data\n",
    "pad_len_0 = pad_len\n",
    "offset_arr = np.logspace(-8, -1, 100)\n",
    "ref_freq_0, ref_power_0, _ = pad_calc(beta)\n",
    "\n",
    "result_0 = np.array(Parallel(4)(delayed(pad_calc)(beta+i*beta) for i in offset_arr))\n",
    "toc = time.time()\n",
    "print((toc-tic)/60)"
   ]
  },
  {
   "cell_type": "code",
   "execution_count": 128,
   "id": "a9511404",
   "metadata": {},
   "outputs": [
    {
     "name": "stdout",
     "output_type": "stream",
     "text": [
      "3.1204936106999717\n"
     ]
    }
   ],
   "source": [
    "tic = time.time()\n",
    "\n",
    "pad_len = int(502.4*T_obs) #~0.01 added length to resampled data\n",
    "pad_len_1 = pad_len\n",
    "offset_arr = np.logspace(-8, -1, 100)\n",
    "ref_freq_1, ref_power_1, _ = pad_calc(beta)\n",
    "\n",
    "result_1 = np.array(Parallel(4)(delayed(pad_calc)(beta+i*beta) for i in offset_arr))\n",
    "toc = time.time()\n",
    "print((toc-tic)/60)"
   ]
  },
  {
   "cell_type": "code",
   "execution_count": 129,
   "id": "8c8dce94",
   "metadata": {},
   "outputs": [
    {
     "data": {
      "image/png": "[encoded data removed]",
      "text/plain": [
       "<Figure size 432x288 with 1 Axes>"
      ]
     },
     "metadata": {
      "needs_background": "light"
     },
     "output_type": "display_data"
    }
   ],
   "source": [
    "# pl.plot(offset_arr, offset_results[:,0]/ref_freq)\n",
    "# pl.show()\n",
    "pl.semilogx(offset_arr, result_0[:,1]/ref_power_0, 'o', label = 'pad_frac=%.1F %%' % (100*result_0[0,2]))\n",
    "pl.semilogx(offset_arr, result_1[:,1]/ref_power_1, 'o', label = 'pad_frac=%.1F %%' % (100*result_1[0,2]))\n",
    "pl.xlabel(r'$\\Delta \\beta / \\beta$')\n",
    "pl.ylabel('Power ratio')\n",
    "pl.title(r'$\\beta_{exact} = %.1E$' % beta)\n",
    "pl.legend()\n",
    "# pl.axvline(offset_arr[-40])\n",
    "pl.show()"
   ]
  },
  {
   "cell_type": "markdown",
   "id": "24dc3029",
   "metadata": {},
   "source": [
    "## Inspecting the FFTs before and after bump"
   ]
  },
  {
   "cell_type": "code",
   "execution_count": 117,
   "id": "e9afd877",
   "metadata": {},
   "outputs": [
    {
     "data": {
      "image/png": "[encoded data removed]",
      "text/plain": [
       "<Figure size 432x288 with 1 Axes>"
      ]
     },
     "metadata": {
      "needs_background": "light"
     },
     "output_type": "display_data"
    }
   ],
   "source": [
    "# pl.plot(offset_arr, offset_results[:,0]/ref_freq)\n",
    "# pl.show()\n",
    "pl.semilogx(offset_arr, result_0[:,1]/ref_power_0, 'o', label = 'pad_frac=%.1F %%' % (100*result_0[0,2]))\n",
    "# pl.semilogx(offset_arr, result_1[:,1]/ref_power_1, 'o', label = 'pad_frac=%.1F %%' % (100*result_1[0,2]))\n",
    "pl.xlabel(r'$\\Delta \\beta / \\beta$')\n",
    "pl.ylabel('Power ratio')\n",
    "pl.title(r'$\\beta_{exact} = %.1E$' % beta)\n",
    "pl.axvline(offset_arr[-37], c='g', label=\"Before bump\")\n",
    "pl.axvline(offset_arr[-33], c='m', label=\"Bump peak\")\n",
    "pl.legend()\n",
    "pl.show()"
   ]
  },
  {
   "cell_type": "code",
   "execution_count": 122,
   "id": "f43d870c",
   "metadata": {},
   "outputs": [],
   "source": [
    "temp_beta = (1+offset_arr[-37])*beta\n",
    "new_t = -3/5*(1-8/3*temp_beta*t)**(5/8)/temp_beta\n",
    "out, t_out = strobo(temp_beta, data, f_ratio)\n",
    "padded = np.full(pad_len, 0, dtype = complex)\n",
    "padded[:len(out)] = out\n",
    "pad_corrected = np.fft.fftshift(np.fft.fft(padded))\n",
    "pad_freq_corrected_0 = np.fft.fftshift(np.fft.fftfreq(len(padded), d=t_out[1]-t_out[0]))\n",
    "pad_resampled_power_0 = np.abs(pad_corrected/len(padded))**2\n",
    "\n",
    "temp_beta = (1+offset_arr[-33])*beta\n",
    "new_t = -3/5*(1-8/3*temp_beta*t)**(5/8)/temp_beta\n",
    "out, t_out = strobo(temp_beta, data, f_ratio)\n",
    "padded = np.full(pad_len, 0, dtype = complex)\n",
    "padded[:len(out)] = out\n",
    "pad_corrected = np.fft.fftshift(np.fft.fft(padded))\n",
    "pad_freq_corrected_1 = np.fft.fftshift(np.fft.fftfreq(len(padded), d=t_out[1]-t_out[0]))\n",
    "pad_resampled_power_1 = np.abs(pad_corrected/len(padded))**2"
   ]
  },
  {
   "cell_type": "code",
   "execution_count": 125,
   "id": "cb35b17b",
   "metadata": {},
   "outputs": [
    {
     "data": {
      "text/plain": [
       "(119.9995, 120.0005)"
      ]
     },
     "execution_count": 125,
     "metadata": {},
     "output_type": "execute_result"
    },
    {
     "data": {
      "image/png": "[encoded data removed]",
      "text/plain": [
       "<Figure size 432x288 with 1 Axes>"
      ]
     },
     "metadata": {
      "needs_background": "light"
     },
     "output_type": "display_data"
    }
   ],
   "source": [
    "pl.plot(pad_freq_corrected_0, pad_resampled_power_0, 'go')\n",
    "pl.plot(pad_freq_corrected_1, pad_resampled_power_1, 'mo')\n",
    "pl.xlim(119.9995, 120.0005)"
   ]
  },
  {
   "cell_type": "code",
   "execution_count": null,
   "id": "8f3ae8d4",
   "metadata": {},
   "outputs": [],
   "source": [
    "# Conclusion: Does seem to be caused by moving between bins"
   ]
  },
  {
   "cell_type": "code",
   "execution_count": 48,
   "id": "c8afdd74",
   "metadata": {
    "scrolled": true
   },
   "outputs": [
    {
     "data": {
      "text/plain": [
       "0.9235723948751797"
      ]
     },
     "execution_count": 48,
     "metadata": {},
     "output_type": "execute_result"
    }
   ],
   "source": [
    "result_0[0,2]*100"
   ]
  },
  {
   "cell_type": "code",
   "execution_count": null,
   "id": "16f794c2",
   "metadata": {},
   "outputs": [],
   "source": []
  }
 ],
 "metadata": {
  "kernelspec": {
   "display_name": "Python 3 (ipykernel)",
   "language": "python",
   "name": "python3"
  },
  "language_info": {
   "codemirror_mode": {
    "name": "ipython",
    "version": 3
   },
   "file_extension": ".py",
   "mimetype": "text/x-python",
   "name": "python",
   "nbconvert_exporter": "python",
   "pygments_lexer": "ipython3",
   "version": "3.7.11"
  }
 },
 "nbformat": 4,
 "nbformat_minor": 5
}
