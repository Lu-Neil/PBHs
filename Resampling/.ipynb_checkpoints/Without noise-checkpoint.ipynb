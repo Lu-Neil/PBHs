{
 "cells": [
  {
   "cell_type": "code",
   "execution_count": 18,
   "id": "4b22cf1b",
   "metadata": {},
   "outputs": [],
   "source": [
    "import numpy as np\n",
    "import matplotlib.pyplot as pl\n",
    "import time"
   ]
  },
  {
   "cell_type": "code",
   "execution_count": 19,
   "id": "953d877e",
   "metadata": {},
   "outputs": [],
   "source": [
    "from varname import nameof, argname\n",
    "def copier(arg):\n",
    "    og_name = argname('arg')\n",
    "    new_name = og_name + '_copy'\n",
    "    globals()[new_name] = arg"
   ]
  },
  {
   "cell_type": "code",
   "execution_count": 20,
   "id": "2b105ed7",
   "metadata": {},
   "outputs": [],
   "source": [
    "c = 3e8\n",
    "G = 6.67e-11\n",
    "pi = np.pi\n",
    "const = 96/5*pi**(8/3)*(G/c**3)**(5/3)"
   ]
  },
  {
   "cell_type": "markdown",
   "id": "d9674712",
   "metadata": {},
   "source": [
    "Specific arguments"
   ]
  },
  {
   "cell_type": "code",
   "execution_count": 93,
   "id": "6522e7f1",
   "metadata": {},
   "outputs": [],
   "source": [
    "f0 = 120\n",
    "Mc = 1e-5* 2e30\n",
    "f_max = 200\n",
    "T_obs = 1e4\n",
    "beta = const*f0**(8/3)*Mc**(5/3)\n",
    "\n",
    "f_signal = 40*f_max\n",
    "nt = round(f_signal*T_obs)\n",
    "t = np.arange(nt)/f_signal"
   ]
  },
  {
   "cell_type": "code",
   "execution_count": 94,
   "id": "4de70539",
   "metadata": {},
   "outputs": [
    {
     "data": {
      "text/plain": [
       "9.473366100655505e-10"
      ]
     },
     "execution_count": 94,
     "metadata": {},
     "output_type": "execute_result"
    }
   ],
   "source": [
    "beta"
   ]
  },
  {
   "cell_type": "markdown",
   "id": "92e663f2",
   "metadata": {},
   "source": [
    "Generating signal and adding noise"
   ]
  },
  {
   "cell_type": "code",
   "execution_count": 95,
   "id": "11b8e7ef",
   "metadata": {},
   "outputs": [],
   "source": [
    "phi = -6*pi/5*f0*(1-8./3.*beta*t)**(5/8)/beta\n",
    "phi = np.mod(phi,2*pi)\n",
    "signal = 1*np.exp(1j*phi)\n",
    "\n",
    "nh = 0\n",
    "noise = nh*np.random.normal(size = nt)\n",
    "data = signal + noise"
   ]
  },
  {
   "cell_type": "code",
   "execution_count": 96,
   "id": "e830c3cd",
   "metadata": {},
   "outputs": [],
   "source": [
    "# np.savez('./Realisations/beta=%.2e_Realisation0' % beta, data)"
   ]
  },
  {
   "cell_type": "code",
   "execution_count": 97,
   "id": "19fc77c6",
   "metadata": {},
   "outputs": [],
   "source": [
    "# beta = 2.74e-07\n",
    "# data = np.load('./Realisations/beta=%.2e_Realisation0.npz' % beta)['arr_0']"
   ]
  },
  {
   "cell_type": "code",
   "execution_count": 98,
   "id": "aba45eeb",
   "metadata": {},
   "outputs": [],
   "source": [
    "%reset_selective -f \"^signal$\"\n",
    "# %reset_selective -f noise\n",
    "%reset_selective -f phi"
   ]
  },
  {
   "cell_type": "code",
   "execution_count": 99,
   "id": "fcd186f3",
   "metadata": {},
   "outputs": [],
   "source": [
    "def strobo(beta, data, f_ratio):\n",
    "    new_t = -3/5*(1-8/3*beta*t)**(5/8)/beta\n",
    "    f_new = f_signal/f_ratio\n",
    "    \n",
    "    new_t *= f_new #changes the frequency to the new downsampled frequency (approximately, not exactly)\n",
    "    floor_t = np.floor(new_t) #For some reason floor works better than round. Take it to the nearest time index which are integers\n",
    "    idx = np.nonzero(np.diff(floor_t)) #The step that downsamples\n",
    "    resampled = data[idx]\n",
    "    t_out = (new_t[idx]-new_t[0])/f_new\n",
    "    return (resampled, t_out)"
   ]
  },
  {
   "cell_type": "code",
   "execution_count": 100,
   "id": "befe1206",
   "metadata": {},
   "outputs": [],
   "source": [
    "f_ratio = 25\n",
    "out, t_out = strobo(beta, data, f_ratio)\n",
    "corrected = np.fft.fftshift(np.fft.fft(out))\n",
    "freq_corrected = np.fft.fftshift(np.fft.fftfreq(len(t_out), d=t_out[1]-t_out[0]))\n",
    "corrected = corrected[len(corrected)//2:]\n",
    "resampled_power = np.abs(corrected/len(out))**2\n",
    "\n",
    "freq_corrected = freq_corrected[len(freq_corrected)//2:]\n",
    "nt_new = len(out)"
   ]
  },
  {
   "cell_type": "code",
   "execution_count": 101,
   "id": "218a6bc8",
   "metadata": {
    "scrolled": true
   },
   "outputs": [
    {
     "data": {
      "text/plain": [
       "(119.995, 120.005)"
      ]
     },
     "execution_count": 101,
     "metadata": {},
     "output_type": "execute_result"
    },
    {
     "data": {
      "image/png": "[encoded data removed]",
      "text/plain": [
       "<Figure size 432x288 with 1 Axes>"
      ]
     },
     "metadata": {
      "needs_background": "light"
     },
     "output_type": "display_data"
    }
   ],
   "source": [
    "pl.plot(freq_corrected, np.abs(resampled_power), 'o')\n",
    "pl.xlim(119.995, 120.005)"
   ]
  },
  {
   "cell_type": "code",
   "execution_count": 102,
   "id": "81e2b26b",
   "metadata": {},
   "outputs": [],
   "source": [
    "padded = np.full(3234000, 0, dtype = complex)\n",
    "padded[:len(out)] = out\n",
    "pad_corrected = np.fft.fftshift(np.fft.fft(padded))\n",
    "pad_freq_corrected = np.fft.fftshift(np.fft.fftfreq(len(padded), d=t_out[1]-t_out[0]))\n",
    "pad_resampled_power = np.abs(pad_corrected/len(padded))**2\n"
   ]
  },
  {
   "cell_type": "code",
   "execution_count": 103,
   "id": "c06abf01",
   "metadata": {},
   "outputs": [
    {
     "data": {
      "text/plain": [
       "(119.995, 120.005)"
      ]
     },
     "execution_count": 103,
     "metadata": {},
     "output_type": "execute_result"
    },
    {
     "data": {
      "image/png": "[encoded data removed]",
      "text/plain": [
       "<Figure size 432x288 with 1 Axes>"
      ]
     },
     "metadata": {
      "needs_background": "light"
     },
     "output_type": "display_data"
    }
   ],
   "source": [
    "pl.plot(pad_freq_corrected, pad_resampled_power, 'o')\n",
    "pl.xlim(119.995, 120.005)"
   ]
  },
  {
   "cell_type": "code",
   "execution_count": 104,
   "id": "1fc0009a",
   "metadata": {},
   "outputs": [
    {
     "data": {
      "text/plain": [
       "33984"
      ]
     },
     "execution_count": 104,
     "metadata": {},
     "output_type": "execute_result"
    }
   ],
   "source": [
    "3234000 - len(out)"
   ]
  },
  {
   "cell_type": "markdown",
   "id": "e2a6e09b",
   "metadata": {},
   "source": [
    "## With an offset"
   ]
  },
  {
   "cell_type": "code",
   "execution_count": 105,
   "id": "53b5d1d2",
   "metadata": {},
   "outputs": [],
   "source": [
    "def inspecting(beta):\n",
    "    new_t = -3/5*(1-8/3*beta*t)**(5/8)/beta\n",
    "    out, t_out = strobo(beta, data, f_ratio)\n",
    "    corrected = np.fft.fftshift(np.fft.fft(out))\n",
    "    freq_corrected = np.fft.fftshift(np.fft.fftfreq(len(t_out), d=t_out[1]-t_out[0]))\n",
    "#     corrected = corrected[len(corrected)//2:]\n",
    "#     freq_corrected = freq_corrected[len(freq_corrected)//2:] # there is a bug here, isn't same length as resampled_power if even or odd\n",
    "    resampled_power = np.abs(corrected/len(out))**2\n",
    "    \n",
    "    arg_max = np.argmax(resampled_power)\n",
    "    peak_freq = freq_corrected[arg_max]\n",
    "    peak_power = resampled_power[arg_max]\n",
    "    return freq_corrected, resampled_power"
   ]
  },
  {
   "cell_type": "code",
   "execution_count": 106,
   "id": "ef80bbd8",
   "metadata": {},
   "outputs": [],
   "source": [
    "temp_beta = (1+1e-3)*beta\n",
    "new_t = -3/5*(1-8/3*temp_beta*t)**(5/8)/temp_beta\n",
    "out, t_out = strobo(temp_beta, data, f_ratio)\n",
    "corrected = np.fft.fftshift(np.fft.fft(out))\n",
    "freq_corrected = np.fft.fftshift(np.fft.fftfreq(len(t_out), d=t_out[1]-t_out[0]))\n",
    "#     corrected = corrected[len(corrected)//2:]\n",
    "#     freq_corrected = freq_corrected[len(freq_corrected)//2:] # there is a bug here, isn't same length as resampled_power if even or odd\n",
    "resampled_power = np.abs(corrected/len(out))**2\n",
    "\n",
    "arg_max = np.argmax(resampled_power)\n",
    "peak_freq = freq_corrected[arg_max]\n",
    "peak_power = resampled_power[arg_max]"
   ]
  },
  {
   "cell_type": "code",
   "execution_count": 107,
   "id": "504d8e00",
   "metadata": {},
   "outputs": [
    {
     "data": {
      "text/plain": [
       "[<matplotlib.lines.Line2D at 0x7f84a48d0e90>]"
      ]
     },
     "execution_count": 107,
     "metadata": {},
     "output_type": "execute_result"
    },
    {
     "data": {
      "image/png": "[encoded data removed]",
      "text/plain": [
       "<Figure size 432x288 with 1 Axes>"
      ]
     },
     "metadata": {
      "needs_background": "light"
     },
     "output_type": "display_data"
    }
   ],
   "source": [
    "pl.plot(freq_corrected, resampled_power, 'o')\n",
    "# pl.xlim(119.999, 120.001)"
   ]
  },
  {
   "cell_type": "code",
   "execution_count": 108,
   "id": "a62e90bc",
   "metadata": {},
   "outputs": [
    {
     "data": {
      "text/plain": [
       "0.00010000258311038124"
      ]
     },
     "execution_count": 108,
     "metadata": {},
     "output_type": "execute_result"
    }
   ],
   "source": [
    "freq_corrected[1] - freq_corrected[0] "
   ]
  },
  {
   "cell_type": "code",
   "execution_count": 109,
   "id": "2d6ce1c4",
   "metadata": {},
   "outputs": [
    {
     "data": {
      "text/plain": [
       "0.0001"
      ]
     },
     "execution_count": 109,
     "metadata": {},
     "output_type": "execute_result"
    }
   ],
   "source": [
    "f_signal / len(data)"
   ]
  },
  {
   "cell_type": "markdown",
   "id": "f32fbb44",
   "metadata": {},
   "source": [
    "## Numerically estimating error"
   ]
  },
  {
   "cell_type": "code",
   "execution_count": 113,
   "id": "f4139893",
   "metadata": {},
   "outputs": [],
   "source": [
    "def power_calc(beta):\n",
    "    new_t = -3/5*(1-8/3*beta*t)**(5/8)/beta\n",
    "    out, t_out = strobo(beta, data, f_ratio)\n",
    "    corrected = np.fft.fftshift(np.fft.fft(out))\n",
    "    resampled_power = np.abs(corrected/len(out))**2\n",
    "    freq_corrected = np.fft.fftshift(np.fft.fftfreq(len(t_out), d=t_out[1]-t_out[0]))\n",
    "    \n",
    "    arg_max = np.argmax(resampled_power)\n",
    "    peak_freq = freq_corrected[arg_max]\n",
    "    peak_power = resampled_power[arg_max]\n",
    "    return peak_freq, peak_power"
   ]
  },
  {
   "cell_type": "code",
   "execution_count": 114,
   "id": "3bc273a0",
   "metadata": {},
   "outputs": [
    {
     "ename": "KeyboardInterrupt",
     "evalue": "",
     "output_type": "error",
     "traceback": [
      "\u001b[0;31m---------------------------------------------------------------------------\u001b[0m",
      "\u001b[0;31mKeyboardInterrupt\u001b[0m                         Traceback (most recent call last)",
      "\u001b[0;32m/tmp/ipykernel_10540/4010375467.py\u001b[0m in \u001b[0;36m<module>\u001b[0;34m\u001b[0m\n\u001b[1;32m      3\u001b[0m \u001b[0mref_freq\u001b[0m\u001b[0;34m,\u001b[0m \u001b[0mref_power\u001b[0m \u001b[0;34m=\u001b[0m \u001b[0mpower_calc\u001b[0m\u001b[0;34m(\u001b[0m\u001b[0mbeta\u001b[0m\u001b[0;34m)\u001b[0m\u001b[0;34m\u001b[0m\u001b[0;34m\u001b[0m\u001b[0m\n\u001b[1;32m      4\u001b[0m \u001b[0;34m\u001b[0m\u001b[0m\n\u001b[0;32m----> 5\u001b[0;31m \u001b[0moffset_results\u001b[0m \u001b[0;34m=\u001b[0m \u001b[0mnp\u001b[0m\u001b[0;34m.\u001b[0m\u001b[0marray\u001b[0m\u001b[0;34m(\u001b[0m\u001b[0;34m[\u001b[0m\u001b[0mpower_calc\u001b[0m\u001b[0;34m(\u001b[0m\u001b[0mbeta\u001b[0m\u001b[0;34m+\u001b[0m\u001b[0mi\u001b[0m\u001b[0;34m*\u001b[0m\u001b[0mbeta\u001b[0m\u001b[0;34m)\u001b[0m \u001b[0;32mfor\u001b[0m \u001b[0mi\u001b[0m \u001b[0;32min\u001b[0m \u001b[0moffset_arr\u001b[0m\u001b[0;34m]\u001b[0m\u001b[0;34m)\u001b[0m\u001b[0;34m\u001b[0m\u001b[0;34m\u001b[0m\u001b[0m\n\u001b[0m\u001b[1;32m      6\u001b[0m \u001b[0mtoc\u001b[0m \u001b[0;34m=\u001b[0m \u001b[0mtime\u001b[0m\u001b[0;34m.\u001b[0m\u001b[0mtime\u001b[0m\u001b[0;34m(\u001b[0m\u001b[0;34m)\u001b[0m\u001b[0;34m\u001b[0m\u001b[0;34m\u001b[0m\u001b[0m\n\u001b[1;32m      7\u001b[0m \u001b[0mprint\u001b[0m\u001b[0;34m(\u001b[0m\u001b[0;34m(\u001b[0m\u001b[0mtoc\u001b[0m\u001b[0;34m-\u001b[0m\u001b[0mtic\u001b[0m\u001b[0;34m)\u001b[0m\u001b[0;34m/\u001b[0m\u001b[0;36m60\u001b[0m\u001b[0;34m)\u001b[0m\u001b[0;34m\u001b[0m\u001b[0;34m\u001b[0m\u001b[0m\n",
      "\u001b[0;32m/tmp/ipykernel_10540/4010375467.py\u001b[0m in \u001b[0;36m<listcomp>\u001b[0;34m(.0)\u001b[0m\n\u001b[1;32m      3\u001b[0m \u001b[0mref_freq\u001b[0m\u001b[0;34m,\u001b[0m \u001b[0mref_power\u001b[0m \u001b[0;34m=\u001b[0m \u001b[0mpower_calc\u001b[0m\u001b[0;34m(\u001b[0m\u001b[0mbeta\u001b[0m\u001b[0;34m)\u001b[0m\u001b[0;34m\u001b[0m\u001b[0;34m\u001b[0m\u001b[0m\n\u001b[1;32m      4\u001b[0m \u001b[0;34m\u001b[0m\u001b[0m\n\u001b[0;32m----> 5\u001b[0;31m \u001b[0moffset_results\u001b[0m \u001b[0;34m=\u001b[0m \u001b[0mnp\u001b[0m\u001b[0;34m.\u001b[0m\u001b[0marray\u001b[0m\u001b[0;34m(\u001b[0m\u001b[0;34m[\u001b[0m\u001b[0mpower_calc\u001b[0m\u001b[0;34m(\u001b[0m\u001b[0mbeta\u001b[0m\u001b[0;34m+\u001b[0m\u001b[0mi\u001b[0m\u001b[0;34m*\u001b[0m\u001b[0mbeta\u001b[0m\u001b[0;34m)\u001b[0m \u001b[0;32mfor\u001b[0m \u001b[0mi\u001b[0m \u001b[0;32min\u001b[0m \u001b[0moffset_arr\u001b[0m\u001b[0;34m]\u001b[0m\u001b[0;34m)\u001b[0m\u001b[0;34m\u001b[0m\u001b[0;34m\u001b[0m\u001b[0m\n\u001b[0m\u001b[1;32m      6\u001b[0m \u001b[0mtoc\u001b[0m \u001b[0;34m=\u001b[0m \u001b[0mtime\u001b[0m\u001b[0;34m.\u001b[0m\u001b[0mtime\u001b[0m\u001b[0;34m(\u001b[0m\u001b[0;34m)\u001b[0m\u001b[0;34m\u001b[0m\u001b[0;34m\u001b[0m\u001b[0m\n\u001b[1;32m      7\u001b[0m \u001b[0mprint\u001b[0m\u001b[0;34m(\u001b[0m\u001b[0;34m(\u001b[0m\u001b[0mtoc\u001b[0m\u001b[0;34m-\u001b[0m\u001b[0mtic\u001b[0m\u001b[0;34m)\u001b[0m\u001b[0;34m/\u001b[0m\u001b[0;36m60\u001b[0m\u001b[0;34m)\u001b[0m\u001b[0;34m\u001b[0m\u001b[0;34m\u001b[0m\u001b[0m\n",
      "\u001b[0;32m/tmp/ipykernel_10540/2789055455.py\u001b[0m in \u001b[0;36mpower_calc\u001b[0;34m(beta)\u001b[0m\n\u001b[1;32m      1\u001b[0m \u001b[0;32mdef\u001b[0m \u001b[0mpower_calc\u001b[0m\u001b[0;34m(\u001b[0m\u001b[0mbeta\u001b[0m\u001b[0;34m)\u001b[0m\u001b[0;34m:\u001b[0m\u001b[0;34m\u001b[0m\u001b[0;34m\u001b[0m\u001b[0m\n\u001b[0;32m----> 2\u001b[0;31m     \u001b[0mnew_t\u001b[0m \u001b[0;34m=\u001b[0m \u001b[0;34m-\u001b[0m\u001b[0;36m3\u001b[0m\u001b[0;34m/\u001b[0m\u001b[0;36m5\u001b[0m\u001b[0;34m*\u001b[0m\u001b[0;34m(\u001b[0m\u001b[0;36m1\u001b[0m\u001b[0;34m-\u001b[0m\u001b[0;36m8\u001b[0m\u001b[0;34m/\u001b[0m\u001b[0;36m3\u001b[0m\u001b[0;34m*\u001b[0m\u001b[0mbeta\u001b[0m\u001b[0;34m*\u001b[0m\u001b[0mt\u001b[0m\u001b[0;34m)\u001b[0m\u001b[0;34m**\u001b[0m\u001b[0;34m(\u001b[0m\u001b[0;36m5\u001b[0m\u001b[0;34m/\u001b[0m\u001b[0;36m8\u001b[0m\u001b[0;34m)\u001b[0m\u001b[0;34m/\u001b[0m\u001b[0mbeta\u001b[0m\u001b[0;34m\u001b[0m\u001b[0;34m\u001b[0m\u001b[0m\n\u001b[0m\u001b[1;32m      3\u001b[0m     \u001b[0mout\u001b[0m\u001b[0;34m,\u001b[0m \u001b[0mt_out\u001b[0m \u001b[0;34m=\u001b[0m \u001b[0mstrobo\u001b[0m\u001b[0;34m(\u001b[0m\u001b[0mbeta\u001b[0m\u001b[0;34m,\u001b[0m \u001b[0mdata\u001b[0m\u001b[0;34m,\u001b[0m \u001b[0mf_ratio\u001b[0m\u001b[0;34m)\u001b[0m\u001b[0;34m\u001b[0m\u001b[0;34m\u001b[0m\u001b[0m\n\u001b[1;32m      4\u001b[0m     \u001b[0mcorrected\u001b[0m \u001b[0;34m=\u001b[0m \u001b[0mnp\u001b[0m\u001b[0;34m.\u001b[0m\u001b[0mfft\u001b[0m\u001b[0;34m.\u001b[0m\u001b[0mfftshift\u001b[0m\u001b[0;34m(\u001b[0m\u001b[0mnp\u001b[0m\u001b[0;34m.\u001b[0m\u001b[0mfft\u001b[0m\u001b[0;34m.\u001b[0m\u001b[0mfft\u001b[0m\u001b[0;34m(\u001b[0m\u001b[0mout\u001b[0m\u001b[0;34m)\u001b[0m\u001b[0;34m)\u001b[0m\u001b[0;34m\u001b[0m\u001b[0;34m\u001b[0m\u001b[0m\n\u001b[1;32m      5\u001b[0m     \u001b[0mresampled_power\u001b[0m \u001b[0;34m=\u001b[0m \u001b[0mnp\u001b[0m\u001b[0;34m.\u001b[0m\u001b[0mabs\u001b[0m\u001b[0;34m(\u001b[0m\u001b[0mcorrected\u001b[0m\u001b[0;34m/\u001b[0m\u001b[0mlen\u001b[0m\u001b[0;34m(\u001b[0m\u001b[0mout\u001b[0m\u001b[0;34m)\u001b[0m\u001b[0;34m)\u001b[0m\u001b[0;34m**\u001b[0m\u001b[0;36m2\u001b[0m\u001b[0;34m\u001b[0m\u001b[0;34m\u001b[0m\u001b[0m\n",
      "\u001b[0;31mKeyboardInterrupt\u001b[0m: "
     ]
    }
   ],
   "source": [
    "tic = time.time()\n",
    "offset_arr = np.logspace(-8, -3, 100)\n",
    "ref_freq, ref_power = power_calc(beta)\n",
    "\n",
    "offset_results = np.array([power_calc(beta+i*beta) for i in offset_arr])\n",
    "toc = time.time()\n",
    "print((toc-tic)/60)"
   ]
  },
  {
   "cell_type": "code",
   "execution_count": null,
   "id": "5e6451e1",
   "metadata": {},
   "outputs": [],
   "source": [
    "# pl.plot(offset_arr, offset_results[:,0]/ref_freq)\n",
    "# pl.show()\n",
    "pl.semilogx(offset_arr, offset_results[:,1]/ref_power, 'o')\n",
    "pl.xlabel(r'$\\Delta \\beta / \\beta$')\n",
    "pl.ylabel('Power ratio')\n",
    "pl.title(r'$\\beta_{exact} = %.1E$' % beta)\n",
    "pl.show()"
   ]
  },
  {
   "cell_type": "markdown",
   "id": "7fbed8cf",
   "metadata": {},
   "source": [
    "## Padding the data"
   ]
  },
  {
   "cell_type": "code",
   "execution_count": 115,
   "id": "0a072811",
   "metadata": {},
   "outputs": [],
   "source": [
    "def pad_calc(beta):\n",
    "    new_t = -3/5*(1-8/3*beta*t)**(5/8)/beta\n",
    "    out, t_out = strobo(beta, data, f_ratio)\n",
    "    padded = np.full(3234000, 0, dtype = complex)\n",
    "    padded[:len(out)] = out\n",
    "    pad_corrected = np.fft.fftshift(np.fft.fft(padded))\n",
    "    pad_freq_corrected = np.fft.fftshift(np.fft.fftfreq(len(padded), d=t_out[1]-t_out[0]))\n",
    "    pad_resampled_power = np.abs(pad_corrected/len(padded))**2\n",
    "    \n",
    "    arg_max = np.argmax(pad_resampled_power)\n",
    "    peak_freq = pad_freq_corrected[arg_max]\n",
    "    peak_power = pad_resampled_power[arg_max]\n",
    "    return peak_freq, peak_power"
   ]
  },
  {
   "cell_type": "code",
   "execution_count": 119,
   "id": "bcf113f5",
   "metadata": {},
   "outputs": [
    {
     "name": "stdout",
     "output_type": "stream",
     "text": [
      "5.69829136133194\n"
     ]
    }
   ],
   "source": [
    "tic = time.time()\n",
    "offset_arr = np.logspace(-8, -1, 100)\n",
    "ref_freq, ref_power = pad_calc(beta)\n",
    "\n",
    "offset_results = np.array([pad_calc(beta+i*beta) for i in offset_arr])\n",
    "toc = time.time()\n",
    "print((toc-tic)/60)"
   ]
  },
  {
   "cell_type": "code",
   "execution_count": 122,
   "id": "8c8dce94",
   "metadata": {},
   "outputs": [
    {
     "data": {
      "image/png": "[encoded data removed]",
      "text/plain": [
       "<Figure size 432x288 with 1 Axes>"
      ]
     },
     "metadata": {
      "needs_background": "light"
     },
     "output_type": "display_data"
    }
   ],
   "source": [
    "# pl.plot(offset_arr, offset_results[:,0]/ref_freq)\n",
    "# pl.show()\n",
    "pl.semilogx(offset_arr, offset_results[:,1]/ref_power, 'o')\n",
    "pl.xlabel(r'$\\Delta \\beta / \\beta$')\n",
    "pl.ylabel('Power ratio')\n",
    "pl.title(r'$\\beta_{exact} = %.1E$' % beta)\n",
    "pl.axvline(offset_arr[-10])\n",
    "pl.show()"
   ]
  },
  {
   "cell_type": "code",
   "execution_count": 125,
   "id": "c970756e",
   "metadata": {},
   "outputs": [
    {
     "data": {
      "text/plain": [
       "0.9207023156213134"
      ]
     },
     "execution_count": 125,
     "metadata": {},
     "output_type": "execute_result"
    }
   ],
   "source": [
    "offset_results[-10,1]"
   ]
  },
  {
   "cell_type": "code",
   "execution_count": null,
   "id": "938e398a",
   "metadata": {},
   "outputs": [],
   "source": []
  },
  {
   "cell_type": "markdown",
   "id": "233b2fd2",
   "metadata": {},
   "source": [
    "## Inspecting the jump"
   ]
  },
  {
   "cell_type": "code",
   "execution_count": 79,
   "id": "f7d367c5",
   "metadata": {},
   "outputs": [],
   "source": [
    "temp_beta = (1+offset_arr[-6])*beta\n",
    "new_t = -3/5*(1-8/3*temp_beta*t)**(5/8)/temp_beta\n",
    "out, t_out = strobo(temp_beta, data, f_ratio)\n",
    "padded = np.full(3234000, 0, dtype = complex)\n",
    "padded[:len(out)] = out\n",
    "pad_corrected = np.fft.fftshift(np.fft.fft(padded))\n",
    "pad_freq_corrected = np.fft.fftshift(np.fft.fftfreq(len(padded), d=t_out[1]-t_out[0]))\n",
    "pad_resampled_power = np.abs(pad_corrected/len(padded))**2\n",
    "\n",
    "arg_max = np.argmax(pad_resampled_power)\n",
    "peak_freq = pad_freq_corrected[arg_max]\n",
    "peak_power = pad_resampled_power[arg_max]"
   ]
  },
  {
   "cell_type": "code",
   "execution_count": 80,
   "id": "72104356",
   "metadata": {},
   "outputs": [
    {
     "data": {
      "text/plain": [
       "(119.995, 120.005)"
      ]
     },
     "execution_count": 80,
     "metadata": {},
     "output_type": "execute_result"
    },
    {
     "data": {
      "image/png": "[encoded data removed]",
      "text/plain": [
       "<Figure size 432x288 with 1 Axes>"
      ]
     },
     "metadata": {
      "needs_background": "light"
     },
     "output_type": "display_data"
    }
   ],
   "source": [
    "pl.plot(pad_freq_corrected, pad_resampled_power, 'o')\n",
    "pl.xlim(119.995, 120.005)"
   ]
  },
  {
   "cell_type": "code",
   "execution_count": 84,
   "id": "f25ad459",
   "metadata": {},
   "outputs": [],
   "source": [
    "temp_beta = (1+offset_arr[-12])*beta\n",
    "new_t = -3/5*(1-8/3*temp_beta*t)**(5/8)/temp_beta\n",
    "out, t_out = strobo(temp_beta, data, f_ratio)\n",
    "padded = np.full(3234000, 0, dtype = complex)\n",
    "padded[:len(out)] = out\n",
    "pad_corrected = np.fft.fftshift(np.fft.fft(padded))\n",
    "pad_freq_corrected = np.fft.fftshift(np.fft.fftfreq(len(padded), d=t_out[1]-t_out[0]))\n",
    "pad_resampled_power = np.abs(pad_corrected/len(padded))**2\n",
    "\n",
    "arg_max = np.argmax(pad_resampled_power)\n",
    "peak_freq = pad_freq_corrected[arg_max]\n",
    "peak_power = pad_resampled_power[arg_max]"
   ]
  },
  {
   "cell_type": "code",
   "execution_count": 85,
   "id": "2f00c6c5",
   "metadata": {},
   "outputs": [
    {
     "data": {
      "text/plain": [
       "(119.995, 120.005)"
      ]
     },
     "execution_count": 85,
     "metadata": {},
     "output_type": "execute_result"
    },
    {
     "data": {
      "image/png": "[encoded data removed]",
      "text/plain": [
       "<Figure size 432x288 with 1 Axes>"
      ]
     },
     "metadata": {
      "needs_background": "light"
     },
     "output_type": "display_data"
    }
   ],
   "source": [
    "pl.plot(pad_freq_corrected, pad_resampled_power, 'o')\n",
    "pl.xlim(119.995, 120.005)"
   ]
  },
  {
   "cell_type": "code",
   "execution_count": null,
   "id": "c8afdd74",
   "metadata": {},
   "outputs": [],
   "source": []
  }
 ],
 "metadata": {
  "kernelspec": {
   "display_name": "Python 3 (ipykernel)",
   "language": "python",
   "name": "python3"
  },
  "language_info": {
   "codemirror_mode": {
    "name": "ipython",
    "version": 3
   },
   "file_extension": ".py",
   "mimetype": "text/x-python",
   "name": "python",
   "nbconvert_exporter": "python",
   "pygments_lexer": "ipython3",
   "version": "3.7.11"
  }
 },
 "nbformat": 4,
 "nbformat_minor": 5
}
