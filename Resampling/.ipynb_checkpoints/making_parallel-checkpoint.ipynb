{
 "cells": [
  {
   "cell_type": "code",
   "execution_count": 236,
   "id": "4b22cf1b",
   "metadata": {},
   "outputs": [],
   "source": [
    "import numpy as np\n",
    "import matplotlib.pyplot as pl\n",
    "import time"
   ]
  },
  {
   "cell_type": "code",
   "execution_count": 237,
   "id": "953d877e",
   "metadata": {},
   "outputs": [],
   "source": [
    "from varname import nameof, argname\n",
    "def copier(arg):\n",
    "    og_name = argname('arg')\n",
    "    new_name = og_name + '_copy'\n",
    "    globals()[new_name] = arg"
   ]
  },
  {
   "cell_type": "code",
   "execution_count": 238,
   "id": "2b105ed7",
   "metadata": {},
   "outputs": [],
   "source": [
    "c = 3e8\n",
    "G = 6.67e-11\n",
    "pi = np.pi\n",
    "const = 96/5*pi**(8/3)*(G/c**3)**(5/3)"
   ]
  },
  {
   "cell_type": "markdown",
   "id": "d9674712",
   "metadata": {},
   "source": [
    "Specific arguments"
   ]
  },
  {
   "cell_type": "code",
   "execution_count": 239,
   "id": "6522e7f1",
   "metadata": {},
   "outputs": [],
   "source": [
    "f0 = 120\n",
    "Mc = 3e-4* 2e30\n",
    "f_max = 200\n",
    "T_obs = 1e2\n",
    "beta = const*f0**(8/3)*Mc**(5/3)\n",
    "\n",
    "f_signal = 40*f_max\n",
    "f_ratio = 25\n",
    "nt = round(f_signal*T_obs)\n",
    "t = np.arange(nt)/f_signal"
   ]
  },
  {
   "cell_type": "code",
   "execution_count": 240,
   "id": "4de70539",
   "metadata": {},
   "outputs": [
    {
     "data": {
      "text/plain": [
       "2.7439303219997145e-07"
      ]
     },
     "execution_count": 240,
     "metadata": {},
     "output_type": "execute_result"
    }
   ],
   "source": [
    "beta"
   ]
  },
  {
   "cell_type": "markdown",
   "id": "92e663f2",
   "metadata": {},
   "source": [
    "Generating signal and adding noise"
   ]
  },
  {
   "cell_type": "code",
   "execution_count": 241,
   "id": "361cb839",
   "metadata": {},
   "outputs": [],
   "source": [
    "beta_arr = np.array([1e-7, 1e-8])"
   ]
  },
  {
   "cell_type": "code",
   "execution_count": 242,
   "id": "9bd18fd5",
   "metadata": {},
   "outputs": [],
   "source": [
    "phi = -6*pi/5*f0*(1-8./3.*np.outer(t, beta_arr))**(5/8)/beta_arr\n",
    "phi = np.mod(phi,2*pi)\n",
    "signal = 1*np.exp(1j*phi)\n",
    "nh = 50\n",
    "noise = nh*np.random.normal(size = nt)\n",
    "data = np.add(signal, noise[:,np.newaxis])"
   ]
  },
  {
   "cell_type": "code",
   "execution_count": 243,
   "id": "aba45eeb",
   "metadata": {},
   "outputs": [],
   "source": [
    "%reset_selective -f \"^signal$\"\n",
    "%reset_selective -f noise\n",
    "%reset_selective -f phi"
   ]
  },
  {
   "cell_type": "code",
   "execution_count": 244,
   "id": "fcd186f3",
   "metadata": {},
   "outputs": [],
   "source": [
    "def strobo(beta, data, f_ratio):\n",
    "    new_t = -3/5*(1-8/3*beta*t)**(5/8)/beta\n",
    "    f_new = f_signal/f_ratio\n",
    "    \n",
    "    new_t *= f_new #changes the frequency to the new downsampled frequency (approximately, not exactly)\n",
    "    floor_t = np.floor(new_t) #For some reason floor works better than round. Take it to the nearest time index which are integers\n",
    "    idx = np.nonzero(np.diff(floor_t)) #The step that downsamples\n",
    "    resampled = data[idx]\n",
    "    t_out = (new_t[idx]-new_t[0])/f_new\n",
    "    return (resampled, t_out)\n",
    "\n",
    "def strobo_parallel(beta, data, f_ratio):\n",
    "    new_t = -3/5*(1-8/3*np.outer(t, beta))**(5/8)/beta\n",
    "    f_new = f_signal/f_ratio\n",
    "    \n",
    "    new_t *= f_new #changes the frequency to the new downsampled frequency (approximately, not exactly)\n",
    "    floor_t = np.floor(new_t) #For some reason floor works better than round. Take it to the nearest time index which are integers\n",
    "    idx = np.nonzero(np.diff(floor_t)) #The step that downsamples\n",
    "    resampled = data[idx]\n",
    "    t_out = (new_t[idx]-new_t[0])/f_new\n",
    "    return (resampled, t_out)"
   ]
  },
  {
   "cell_type": "code",
   "execution_count": 245,
   "id": "f4139893",
   "metadata": {},
   "outputs": [],
   "source": [
    "def height_calc_parallel(beta_arr):\n",
    "    phi = -6*pi/5*f0*(1-8./3.*np.outer(t, beta_arr))**(5/8)/beta_arr\n",
    "    phi = np.mod(phi,2*pi)\n",
    "    signal = 1*np.exp(1j*phi)\n",
    "    nh = 50\n",
    "    noise = nh*np.random.normal(size = nt)\n",
    "    data = np.add(signal, noise[:,np.newaxis])\n",
    "    \n",
    "    new_t = -3/5*(1-8/3*np.outer(t, beta))**(5/8)/beta\n",
    "    out, t_out = strobo(beta, data, f_ratio)\n",
    "    corrected = np.fft.fftshift(np.fft.fft(out))\n",
    "    freq_corrected = np.fft.fftshift(np.fft.fftfreq(len(t_out), d=t_out[1]-t_out[0]))\n",
    "    corrected = corrected[len(corrected)//2:]\n",
    "    freq_corrected = freq_corrected[len(freq_corrected)//2:]\n",
    "    nt_new = len(out)\n",
    "    resampled_amplitudes = np.abs(corrected/nt_new)\n",
    "    \n",
    "    arg_max = np.argmax(resampled_amplitudes)\n",
    "    peak_freq = freq_corrected[arg_max]\n",
    "    peak_height = resampled_amplitudes[arg_max]\n",
    "    return peak_freq, peak_height"
   ]
  },
  {
   "cell_type": "code",
   "execution_count": 246,
   "id": "3e8ab8a0",
   "metadata": {},
   "outputs": [],
   "source": [
    "phi = -6*pi/5*f0*(1-8./3.*np.outer(t, beta_arr))**(5/8)/beta_arr\n",
    "phi = np.mod(phi,2*pi)\n",
    "signal = 1*np.exp(1j*phi)\n",
    "nh = 50\n",
    "noise = nh*np.random.normal(size = nt)\n",
    "data = np.add(signal, noise[:,np.newaxis])"
   ]
  },
  {
   "cell_type": "code",
   "execution_count": 247,
   "id": "4ddf35b4",
   "metadata": {},
   "outputs": [],
   "source": [
    "new_t = -3/5*(1-8/3*np.outer(t, beta_arr))**(5/8)/beta_arr\n",
    "f_new = f_signal/f_ratio\n",
    "\n",
    "new_t *= f_new #changes the frequency to the new downsampled frequency (approximately, not exactly)\n",
    "floor_t = np.floor(new_t) #For some reason floor works better than round. Take it to the nearest time index which are integers\n",
    "diff = np.append(np.diff(floor_t, axis = 0), [[0,0]], axis = 0).T\n",
    "idx = np.nonzero(diff)\n",
    "resampled = data.T[idx]"
   ]
  },
  {
   "cell_type": "code",
   "execution_count": 257,
   "id": "e388efdd",
   "metadata": {},
   "outputs": [
    {
     "data": {
      "text/plain": [
       "31999"
      ]
     },
     "execution_count": 257,
     "metadata": {},
     "output_type": "execute_result"
    }
   ],
   "source": [
    "len(idx[0])//2"
   ]
  },
  {
   "cell_type": "code",
   "execution_count": 256,
   "id": "5108c09a",
   "metadata": {},
   "outputs": [
    {
     "data": {
      "text/plain": [
       "1"
      ]
     },
     "execution_count": 256,
     "metadata": {},
     "output_type": "execute_result"
    }
   ],
   "source": [
    "idx[0][len(idx[0])//2+1]"
   ]
  },
  {
   "cell_type": "code",
   "execution_count": 222,
   "id": "a42dc7e2",
   "metadata": {},
   "outputs": [
    {
     "data": {
      "text/plain": [
       "(48.26144601581682+0.7071067060174357j)"
      ]
     },
     "execution_count": 222,
     "metadata": {},
     "output_type": "execute_result"
    }
   ],
   "source": [
    "data[25,0]"
   ]
  },
  {
   "cell_type": "code",
   "execution_count": 220,
   "id": "0dc25114",
   "metadata": {},
   "outputs": [
    {
     "data": {
      "text/plain": [
       "(48.26144601581682+0.7071067060174357j)"
      ]
     },
     "execution_count": 220,
     "metadata": {},
     "output_type": "execute_result"
    }
   ],
   "source": [
    "data.T[idx][0]"
   ]
  },
  {
   "cell_type": "code",
   "execution_count": null,
   "id": "9b782860",
   "metadata": {},
   "outputs": [],
   "source": [
    "\n",
    "idx = np.argwhere(np.diff(floor_t, axis = 0)) #The step that downsamples\n",
    "resampled = data[idx]\n",
    "t_out = (new_t[idx]-new_t[0])/f_new"
   ]
  },
  {
   "cell_type": "code",
   "execution_count": 25,
   "id": "856aed99",
   "metadata": {},
   "outputs": [
    {
     "data": {
      "text/plain": [
       "(149.38998219132637, array([2.31049608e-06, 1.96577743e-03]))"
      ]
     },
     "execution_count": 25,
     "metadata": {},
     "output_type": "execute_result"
    }
   ],
   "source": [
    "height_calc_parallel(beta_arr)"
   ]
  }
 ],
 "metadata": {
  "kernelspec": {
   "display_name": "Python 3 (ipykernel)",
   "language": "python",
   "name": "python3"
  },
  "language_info": {
   "codemirror_mode": {
    "name": "ipython",
    "version": 3
   },
   "file_extension": ".py",
   "mimetype": "text/x-python",
   "name": "python",
   "nbconvert_exporter": "python",
   "pygments_lexer": "ipython3",
   "version": "3.7.11"
  }
 },
 "nbformat": 4,
 "nbformat_minor": 5
}
