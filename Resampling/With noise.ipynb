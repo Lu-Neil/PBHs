{
 "cells": [
  {
   "cell_type": "code",
   "execution_count": 1,
   "id": "4b22cf1b",
   "metadata": {},
   "outputs": [],
   "source": [
    "import numpy as np\n",
    "import matplotlib.pyplot as pl\n",
    "import time\n",
    "from joblib import Parallel, delayed"
   ]
  },
  {
   "cell_type": "code",
   "execution_count": 2,
   "id": "a18dda0d",
   "metadata": {},
   "outputs": [],
   "source": [
    "import matplotlib as mpl\n",
    "# mpl.rcParams['figure.dpi'] = 600"
   ]
  },
  {
   "cell_type": "code",
   "execution_count": 3,
   "id": "2b105ed7",
   "metadata": {},
   "outputs": [],
   "source": [
    "c = 3e8\n",
    "G = 6.67e-11\n",
    "pi = np.pi\n",
    "const = 96/5*pi**(8/3)*(G/c**3)**(5/3)"
   ]
  },
  {
   "cell_type": "markdown",
   "id": "d9674712",
   "metadata": {},
   "source": [
    "Specific arguments"
   ]
  },
  {
   "cell_type": "code",
   "execution_count": 18,
   "id": "6522e7f1",
   "metadata": {},
   "outputs": [],
   "source": [
    "f0 = 20\n",
    "Mc = 3e-4* 2e30\n",
    "f_max = 200\n",
    "T_obs = 1e4\n",
    "pad_len = int(323.4*T_obs) #~0.01 added length to resampled data\n",
    "beta = const*f0**(8/3)*Mc**(5/3)\n",
    "\n",
    "f_signal = 40*f_max\n",
    "nt = round(f_signal*T_obs)\n",
    "t = np.arange(nt)/f_signal\n",
    "f_ratio = 25"
   ]
  },
  {
   "cell_type": "code",
   "execution_count": 19,
   "id": "4de70539",
   "metadata": {},
   "outputs": [
    {
     "data": {
      "text/plain": [
       "2.308357543241762e-09"
      ]
     },
     "execution_count": 19,
     "metadata": {},
     "output_type": "execute_result"
    }
   ],
   "source": [
    "beta"
   ]
  },
  {
   "cell_type": "markdown",
   "id": "92e663f2",
   "metadata": {},
   "source": [
    "Generating signal and adding noise"
   ]
  },
  {
   "cell_type": "code",
   "execution_count": 6,
   "id": "11b8e7ef",
   "metadata": {},
   "outputs": [],
   "source": [
    "phi = -6*pi/5*f0*(1-8./3.*beta*t)**(5/8)/beta\n",
    "phi = np.mod(phi,2*pi)\n",
    "signal = 1*np.exp(1j*phi)\n",
    "\n",
    "nh = 0\n",
    "noise = nh*np.random.normal(size = nt)\n",
    "data = signal + noise"
   ]
  },
  {
   "cell_type": "code",
   "execution_count": 7,
   "id": "3835253b",
   "metadata": {},
   "outputs": [],
   "source": [
    "# add real Gaussian noise and take real phase\n",
    "# correct with known exact beta\n",
    "# with some offsets"
   ]
  },
  {
   "cell_type": "code",
   "execution_count": 8,
   "id": "aba45eeb",
   "metadata": {},
   "outputs": [],
   "source": [
    "# %reset_selective -f \"^signal$\"\n",
    "# %reset_selective -f noise\n",
    "%reset_selective -f phi"
   ]
  },
  {
   "cell_type": "code",
   "execution_count": 9,
   "id": "fcd186f3",
   "metadata": {},
   "outputs": [],
   "source": [
    "def strobo(beta, data, f_ratio):\n",
    "    new_t = -3/5*(1-8/3*beta*t)**(5/8)/beta\n",
    "    f_new = f_signal/f_ratio\n",
    "    \n",
    "    new_t *= f_new #changes the frequency to the new downsampled frequency (approximately, not exactly)\n",
    "    floor_t = np.floor(new_t) #For some reason floor works better than round. Take it to the nearest time index which are integers\n",
    "    idx = np.nonzero(np.diff(floor_t)) #The step that downsamples\n",
    "    resampled = data[idx]\n",
    "    t_out = (new_t[idx]-new_t[0])/f_new\n",
    "    return (resampled, t_out)"
   ]
  },
  {
   "cell_type": "code",
   "execution_count": 10,
   "id": "4b34f405",
   "metadata": {},
   "outputs": [],
   "source": [
    "def fft_plotter(data_temp, temp_time, xlim = [119.995, 120.005]):\n",
    "    freqs = np.fft.fftshift(np.fft.fftfreq(len(temp_time), d=temp_time[1]-temp_time[0]))\n",
    "    spec = np.fft.fftshift(np.fft.fft(data_temp))\n",
    "    power_spec = np.abs(spec/len(temp_time))**2\n",
    "    pl.plot(freqs[len(data_temp)//2:], power_spec[len(data_temp)//2:], alpha=0.7)\n",
    "    pl.xlim(xlim[0], xlim[1])"
   ]
  },
  {
   "cell_type": "code",
   "execution_count": 11,
   "id": "3e7e7d61",
   "metadata": {},
   "outputs": [],
   "source": [
    "beta = 1e-5\n",
    "\n",
    "phi = -6*pi/5*f0*(1-8./3.*beta*t)**(5/8)/beta\n",
    "phi = np.mod(phi,2*pi)\n",
    "signal = 1*np.exp(1j*phi)\n",
    "\n",
    "nh = 0\n",
    "noise = nh*np.random.normal(size = nt)\n",
    "data = signal + noise"
   ]
  },
  {
   "cell_type": "code",
   "execution_count": 13,
   "id": "9a123d7d",
   "metadata": {},
   "outputs": [],
   "source": [
    "noise_arr = [0, 10000]\n",
    "freq_arr = []\n",
    "spectrum_arr = []\n",
    "\n",
    "for i in noise_arr:\n",
    "    real_noise = np.random.normal(0, np.sqrt(i/2), nt)\n",
    "    imag_noise = np.random.normal(0, np.sqrt(i/2), nt)\n",
    "    noise = real_noise + 1j*imag_noise\n",
    "    data = noise + signal\n",
    "    \n",
    "    freqs = np.fft.fftshift(np.fft.fftfreq(len(t), d=t[1]-t[0]))\n",
    "    spec = np.fft.fftshift(np.fft.fft(data))\n",
    "    power_spec = np.abs(spec/len(t))**2\n",
    "    \n",
    "    freq_arr.append(freqs[len(data)//2 : int(1.1*len(data)//2)])\n",
    "    spectrum_arr.append(power_spec[len(data)//2 : int(1.1*len(data)//2)])\n",
    "    \n",
    "#     fft_plotter(data, t, xlim = [119.9, 121.1])\n",
    "# pl.plot(data[0:1000], 'oz"
   ]
  },
  {
   "cell_type": "code",
   "execution_count": 17,
   "id": "52035110",
   "metadata": {},
   "outputs": [
    {
     "data": {
      "text/plain": [
       "(19.9, 20.2)"
      ]
     },
     "execution_count": 17,
     "metadata": {},
     "output_type": "execute_result"
    },
    {
     "data": {
      "image/png": "[encoded data removed]",
      "text/plain": [
       "<Figure size 640x480 with 1 Axes>"
      ]
     },
     "metadata": {},
     "output_type": "display_data"
    }
   ],
   "source": [
    "pl.plot(freq_arr[0], spectrum_arr[0])\n",
    "pl.xlim(19.9, 20.2)"
   ]
  },
  {
   "cell_type": "code",
   "execution_count": 20,
   "id": "ec35fee3",
   "metadata": {},
   "outputs": [],
   "source": [
    "noise_arr = [0, 10000]\n",
    "\n",
    "freq_arr = []\n",
    "spectrum_arr = []\n",
    "rs_freq_arr = []\n",
    "rs_spectrum_arr = []\n",
    "\n",
    "phi = -6*pi/5*f0*(1-8./3.*beta*t)**(5/8)/beta\n",
    "phi = np.mod(phi,2*pi)\n",
    "signal = 1*np.exp(1j*phi)\n",
    "\n",
    "for i in noise_arr:\n",
    "    real_noise = np.random.normal(0, np.sqrt(i/2), nt)\n",
    "    imag_noise = np.random.normal(0, np.sqrt(i/2), nt)\n",
    "    noise = real_noise + 1j*imag_noise\n",
    "    data = signal + noise\n",
    "    \n",
    "#     freqs = np.fft.fftshift(np.fft.fftfreq(len(t), d=t[1]-t[0]))\n",
    "#     spec = np.fft.fftshift(np.fft.fft(data))\n",
    "#     power_spec = np.abs(spec/len(t))**2\n",
    "#     freq_arr.append(freqs[len(data)//2 : int(1.2*len(data)//2)])\n",
    "#     spectrum_arr.append(power_spec[len(data)//2 : int(1.2*len(data)//2)])\n",
    "    \n",
    "    f_ratio = 25\n",
    "    out, t_out = strobo(beta, data, f_ratio)\n",
    "    corrected = np.fft.fftshift(np.fft.fft(out))\n",
    "    freq_corrected = np.fft.fftshift(np.fft.fftfreq(len(t_out), d=t_out[1]-t_out[0]))\n",
    "    freq_corrected = freq_corrected[len(freq_corrected)//2 : int(1.1*len(data)//2)]\n",
    "    corrected = corrected[len(corrected)//2 : int(1.1*len(data)//2)]\n",
    "    resampled_power = np.abs(corrected/len(out))**2\n",
    "    \n",
    "    rs_freq_arr.append(freq_corrected)\n",
    "    rs_spectrum_arr.append(resampled_power)"
   ]
  },
  {
   "cell_type": "code",
   "execution_count": 21,
   "id": "7c5548ec",
   "metadata": {},
   "outputs": [
    {
     "data": {
      "text/plain": [
       "<matplotlib.legend.Legend at 0x7f5a90b7b0d0>"
      ]
     },
     "execution_count": 21,
     "metadata": {},
     "output_type": "execute_result"
    },
    {
     "data": {
      "image/png": "[encoded data removed]",
      "text/plain": [
       "<Figure size 640x480 with 1 Axes>"
      ]
     },
     "metadata": {},
     "output_type": "display_data"
    }
   ],
   "source": [
    "for i, val in enumerate(noise_arr):\n",
    "    pl.plot(rs_freq_arr[i], rs_spectrum_arr[i], 'o', label = \"noise = %.E\" % val)\n",
    "    pl.xlim(19.995, 20.005)\n",
    "    \n",
    "pl.legend()"
   ]
  },
  {
   "cell_type": "code",
   "execution_count": 23,
   "id": "de7b94de",
   "metadata": {},
   "outputs": [
    {
     "ename": "AxisError",
     "evalue": "axis 1 is out of bounds for array of dimension 1",
     "output_type": "error",
     "traceback": [
      "\u001b[0;31m---------------------------------------------------------------------------\u001b[0m",
      "\u001b[0;31mAxisError\u001b[0m                                 Traceback (most recent call last)",
      "\u001b[0;32m/tmp/ipykernel_33947/3934312267.py\u001b[0m in \u001b[0;36m<module>\u001b[0;34m\u001b[0m\n\u001b[0;32m----> 1\u001b[0;31m \u001b[0mheight_ratio\u001b[0m \u001b[0;34m=\u001b[0m \u001b[0mnp\u001b[0m\u001b[0;34m.\u001b[0m\u001b[0mmax\u001b[0m\u001b[0;34m(\u001b[0m\u001b[0mspectrum_arr\u001b[0m\u001b[0;34m,\u001b[0m \u001b[0maxis\u001b[0m \u001b[0;34m=\u001b[0m \u001b[0;36m1\u001b[0m\u001b[0;34m)\u001b[0m \u001b[0;34m/\u001b[0m \u001b[0mnp\u001b[0m\u001b[0;34m.\u001b[0m\u001b[0mmean\u001b[0m\u001b[0;34m(\u001b[0m\u001b[0mspectrum_arr\u001b[0m\u001b[0;34m,\u001b[0m \u001b[0maxis\u001b[0m \u001b[0;34m=\u001b[0m \u001b[0;36m1\u001b[0m\u001b[0;34m)\u001b[0m\u001b[0;34m\u001b[0m\u001b[0;34m\u001b[0m\u001b[0m\n\u001b[0m\u001b[1;32m      2\u001b[0m \u001b[0;32mfor\u001b[0m \u001b[0mi\u001b[0m\u001b[0;34m,\u001b[0m\u001b[0mval\u001b[0m \u001b[0;32min\u001b[0m \u001b[0menumerate\u001b[0m\u001b[0;34m(\u001b[0m\u001b[0mheight_ratio\u001b[0m\u001b[0;34m)\u001b[0m\u001b[0;34m:\u001b[0m\u001b[0;34m\u001b[0m\u001b[0;34m\u001b[0m\u001b[0m\n\u001b[1;32m      3\u001b[0m     \u001b[0mprint\u001b[0m\u001b[0;34m(\u001b[0m\u001b[0;34m\"For noise amplitude = %.E the height ratio of signal:noise is %.1E\"\u001b[0m \u001b[0;34m%\u001b[0m \u001b[0;34m(\u001b[0m\u001b[0mnoise_arr\u001b[0m\u001b[0;34m[\u001b[0m\u001b[0mi\u001b[0m\u001b[0;34m]\u001b[0m\u001b[0;34m,\u001b[0m \u001b[0mval\u001b[0m\u001b[0;34m)\u001b[0m\u001b[0;34m)\u001b[0m\u001b[0;34m\u001b[0m\u001b[0;34m\u001b[0m\u001b[0m\n",
      "\u001b[0;32m<__array_function__ internals>\u001b[0m in \u001b[0;36mamax\u001b[0;34m(*args, **kwargs)\u001b[0m\n",
      "\u001b[0;32m~/anaconda3/lib/python3.7/site-packages/numpy/core/fromnumeric.py\u001b[0m in \u001b[0;36mamax\u001b[0;34m(a, axis, out, keepdims, initial, where)\u001b[0m\n\u001b[1;32m   2753\u001b[0m     \"\"\"\n\u001b[1;32m   2754\u001b[0m     return _wrapreduction(a, np.maximum, 'max', axis, None, out,\n\u001b[0;32m-> 2755\u001b[0;31m                           keepdims=keepdims, initial=initial, where=where)\n\u001b[0m\u001b[1;32m   2756\u001b[0m \u001b[0;34m\u001b[0m\u001b[0m\n\u001b[1;32m   2757\u001b[0m \u001b[0;34m\u001b[0m\u001b[0m\n",
      "\u001b[0;32m~/anaconda3/lib/python3.7/site-packages/numpy/core/fromnumeric.py\u001b[0m in \u001b[0;36m_wrapreduction\u001b[0;34m(obj, ufunc, method, axis, dtype, out, **kwargs)\u001b[0m\n\u001b[1;32m     84\u001b[0m                 \u001b[0;32mreturn\u001b[0m \u001b[0mreduction\u001b[0m\u001b[0;34m(\u001b[0m\u001b[0maxis\u001b[0m\u001b[0;34m=\u001b[0m\u001b[0maxis\u001b[0m\u001b[0;34m,\u001b[0m \u001b[0mout\u001b[0m\u001b[0;34m=\u001b[0m\u001b[0mout\u001b[0m\u001b[0;34m,\u001b[0m \u001b[0;34m**\u001b[0m\u001b[0mpasskwargs\u001b[0m\u001b[0;34m)\u001b[0m\u001b[0;34m\u001b[0m\u001b[0;34m\u001b[0m\u001b[0m\n\u001b[1;32m     85\u001b[0m \u001b[0;34m\u001b[0m\u001b[0m\n\u001b[0;32m---> 86\u001b[0;31m     \u001b[0;32mreturn\u001b[0m \u001b[0mufunc\u001b[0m\u001b[0;34m.\u001b[0m\u001b[0mreduce\u001b[0m\u001b[0;34m(\u001b[0m\u001b[0mobj\u001b[0m\u001b[0;34m,\u001b[0m \u001b[0maxis\u001b[0m\u001b[0;34m,\u001b[0m \u001b[0mdtype\u001b[0m\u001b[0;34m,\u001b[0m \u001b[0mout\u001b[0m\u001b[0;34m,\u001b[0m \u001b[0;34m**\u001b[0m\u001b[0mpasskwargs\u001b[0m\u001b[0;34m)\u001b[0m\u001b[0;34m\u001b[0m\u001b[0;34m\u001b[0m\u001b[0m\n\u001b[0m\u001b[1;32m     87\u001b[0m \u001b[0;34m\u001b[0m\u001b[0m\n\u001b[1;32m     88\u001b[0m \u001b[0;34m\u001b[0m\u001b[0m\n",
      "\u001b[0;31mAxisError\u001b[0m: axis 1 is out of bounds for array of dimension 1"
     ]
    }
   ],
   "source": [
    "height_ratio = np.max(spectrum_arr, axis = 1) / np.mean(spectrum_arr, axis = 1)\n",
    "for i,val in enumerate(height_ratio):\n",
    "    print(\"For noise amplitude = %.E the height ratio of signal:noise is %.1E\" % (noise_arr[i], val))"
   ]
  },
  {
   "cell_type": "code",
   "execution_count": 24,
   "id": "d620ceb6",
   "metadata": {},
   "outputs": [
    {
     "data": {
      "text/plain": [
       "2.308357543241762e-09"
      ]
     },
     "execution_count": 24,
     "metadata": {},
     "output_type": "execute_result"
    }
   ],
   "source": [
    "beta"
   ]
  },
  {
   "cell_type": "code",
   "execution_count": 25,
   "id": "c371a71a",
   "metadata": {},
   "outputs": [
    {
     "name": "stderr",
     "output_type": "stream",
     "text": [
      "/home/neil/anaconda3/lib/python3.7/site-packages/ipykernel_launcher.py:9: RuntimeWarning: invalid value encountered in power\n",
      "  if __name__ == '__main__':\n",
      "/home/neil/anaconda3/lib/python3.7/site-packages/ipykernel_launcher.py:10: RuntimeWarning: invalid value encountered in remainder\n",
      "  # Remove the CWD from sys.path while we load stuff.\n",
      "/home/neil/anaconda3/lib/python3.7/site-packages/ipykernel_launcher.py:2: RuntimeWarning: invalid value encountered in power\n",
      "  \n"
     ]
    }
   ],
   "source": [
    "noise_arr = [0, 10000]\n",
    "beta = 1e-4\n",
    "\n",
    "freq_arr = []\n",
    "spectrum_arr = []\n",
    "rs_freq_arr = []\n",
    "rs_spectrum_arr = []\n",
    "\n",
    "phi = -6*pi/5*f0*(1-8./3.*beta*t)**(5/8)/beta\n",
    "phi = np.mod(phi,2*pi)\n",
    "signal = 1*np.exp(1j*phi)\n",
    "\n",
    "for i in noise_arr:\n",
    "    real_noise = np.random.normal(0, np.sqrt(i/2), nt)\n",
    "    imag_noise = np.random.normal(0, np.sqrt(i/2), nt)\n",
    "    noise = real_noise + 1j*imag_noise\n",
    "    data = signal + noise\n",
    "    \n",
    "    freqs = np.fft.fftshift(np.fft.fftfreq(len(t), d=t[1]-t[0]))\n",
    "    spec = np.fft.fftshift(np.fft.fft(data))\n",
    "    power_spec = np.abs(spec/len(t))**2\n",
    "    freq_arr.append(freqs[len(data)//2 : int(1.1*len(data)//2)])\n",
    "    spectrum_arr.append(power_spec[len(data)//2 : int(1.1*len(data)//2)])\n",
    "    \n",
    "    f_ratio = 25\n",
    "    out, t_out = strobo(beta, data, f_ratio)\n",
    "    corrected = np.fft.fftshift(np.fft.fft(out))\n",
    "    freq_corrected = np.fft.fftshift(np.fft.fftfreq(len(t_out), d=t_out[1]-t_out[0]))\n",
    "    freq_corrected = freq_corrected[len(freq_corrected)//2 : int(1.1*len(data)//2)]\n",
    "    corrected = corrected[len(corrected)//2 : int(1.1*len(data)//2)]\n",
    "    resampled_power = np.abs(corrected/len(out))**2\n",
    "    \n",
    "    rs_freq_arr.append(freq_corrected)\n",
    "    rs_spectrum_arr.append(resampled_power)"
   ]
  },
  {
   "cell_type": "code",
   "execution_count": 27,
   "id": "41240cc2",
   "metadata": {},
   "outputs": [
    {
     "data": {
      "image/png": "[encoded data removed]",
      "text/plain": [
       "<Figure size 640x480 with 4 Axes>"
      ]
     },
     "metadata": {},
     "output_type": "display_data"
    }
   ],
   "source": [
    "fig, axs = pl.subplots(2,2, sharex = True)\n",
    "\n",
    "axs[0,0].plot(freq_arr[0], spectrum_arr[0])\n",
    "axs[0,0].set_xlim(19.995, 20.025)\n",
    "\n",
    "axs[0,1].plot(rs_freq_arr[0], rs_spectrum_arr[0])\n",
    "axs[0,1].set_xlim(19.995, 20.025)\n",
    "\n",
    "axs[1,0].plot(freq_arr[1], spectrum_arr[1], c='tab:orange')\n",
    "axs[1,0].set_xlim(19.995, 20.025)\n",
    "\n",
    "axs[1,1].plot(rs_freq_arr[1], rs_spectrum_arr[1], c='tab:orange')\n",
    "axs[1,1].set_xlim(19.995, 20.025)\n",
    "\n",
    "axs[1,0].set_xlabel(\"Frequency [Hz]\")\n",
    "axs[1,1].set_xlabel(\"Frequency [Hz]\")\n",
    "axs[0,0].set_ylabel(\"Power\")\n",
    "axs[1,0].set_ylabel(\"Power\")\n",
    "\n",
    "\n",
    "axs[0,0].set_xlabel(\"FFT\")\n",
    "axs[0,0].xaxis.set_label_position(\"top\")\n",
    "axs[0,1].set_xlabel(\"Resampled FFT\")\n",
    "axs[0,1].xaxis.set_label_position(\"top\")\n",
    "axs[0,1].set_ylabel(\"Without noise\", labelpad = 10)\n",
    "axs[0,1].yaxis.set_label_position(\"right\")\n",
    "axs[1,1].set_ylabel(\"With noise\", labelpad = 10)\n",
    "axs[1,1].yaxis.set_label_position(\"right\")"
   ]
  },
  {
   "cell_type": "code",
   "execution_count": 31,
   "id": "f1177a0d",
   "metadata": {},
   "outputs": [],
   "source": [
    "mpl.rcParams['figure.dpi'] = 600"
   ]
  },
  {
   "cell_type": "code",
   "execution_count": null,
   "id": "1b4cc861",
   "metadata": {},
   "outputs": [],
   "source": []
  }
 ],
 "metadata": {
  "kernelspec": {
   "display_name": "Python 3 (ipykernel)",
   "language": "python",
   "name": "python3"
  },
  "language_info": {
   "codemirror_mode": {
    "name": "ipython",
    "version": 3
   },
   "file_extension": ".py",
   "mimetype": "text/x-python",
   "name": "python",
   "nbconvert_exporter": "python",
   "pygments_lexer": "ipython3",
   "version": "3.7.11"
  }
 },
 "nbformat": 4,
 "nbformat_minor": 5
}
