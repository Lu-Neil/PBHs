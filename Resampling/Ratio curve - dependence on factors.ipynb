{
 "cells": [
  {
   "cell_type": "code",
   "execution_count": 1,
   "id": "4b22cf1b",
   "metadata": {},
   "outputs": [],
   "source": [
    "import numpy as np\n",
    "import matplotlib.pyplot as pl\n",
    "import time\n",
    "from joblib import Parallel, delayed"
   ]
  },
  {
   "cell_type": "code",
   "execution_count": 2,
   "id": "2b105ed7",
   "metadata": {},
   "outputs": [],
   "source": [
    "c = 3e8\n",
    "G = 6.67e-11\n",
    "pi = np.pi\n",
    "const = 96/5*pi**(8/3)*(G/c**3)**(5/3)"
   ]
  },
  {
   "cell_type": "markdown",
   "id": "d9674712",
   "metadata": {},
   "source": [
    "Specific arguments"
   ]
  },
  {
   "cell_type": "code",
   "execution_count": 3,
   "id": "6522e7f1",
   "metadata": {},
   "outputs": [],
   "source": [
    "f0 = 120\n",
    "Mc = 3e-4* 2e30\n",
    "f_max = 200\n",
    "T_obs = 1e4\n",
    "pad_len = int(323.4*T_obs) #~0.01 added length to resampled data\n",
    "beta = const*f0**(8/3)*Mc**(5/3)\n",
    "\n",
    "f_signal = 40*f_max\n",
    "nt = round(f_signal*T_obs)\n",
    "t = np.arange(nt)/f_signal\n",
    "f_ratio = 25"
   ]
  },
  {
   "cell_type": "code",
   "execution_count": 4,
   "id": "4de70539",
   "metadata": {},
   "outputs": [
    {
     "data": {
      "text/plain": [
       "2.7439303219997145e-07"
      ]
     },
     "execution_count": 4,
     "metadata": {},
     "output_type": "execute_result"
    }
   ],
   "source": [
    "beta"
   ]
  },
  {
   "cell_type": "markdown",
   "id": "92e663f2",
   "metadata": {},
   "source": [
    "Generating signal and adding noise"
   ]
  },
  {
   "cell_type": "code",
   "execution_count": 5,
   "id": "11b8e7ef",
   "metadata": {},
   "outputs": [],
   "source": [
    "phi = -6*pi/5*f0*(1-8./3.*beta*t)**(5/8)/beta\n",
    "phi = np.mod(phi,2*pi)\n",
    "signal = 1*np.exp(1j*phi)\n",
    "\n",
    "nh = 0\n",
    "noise = nh*np.random.normal(size = nt)\n",
    "data = signal + noise"
   ]
  },
  {
   "cell_type": "code",
   "execution_count": 6,
   "id": "3835253b",
   "metadata": {},
   "outputs": [],
   "source": [
    "# add real Gaussian noise and take real phase\n",
    "# correct with known exact beta\n",
    "# with some offsets"
   ]
  },
  {
   "cell_type": "code",
   "execution_count": 7,
   "id": "aba45eeb",
   "metadata": {},
   "outputs": [],
   "source": [
    "%reset_selective -f \"^signal$\"\n",
    "%reset_selective -f noise\n",
    "%reset_selective -f phi"
   ]
  },
  {
   "cell_type": "code",
   "execution_count": 8,
   "id": "fcd186f3",
   "metadata": {},
   "outputs": [],
   "source": [
    "def strobo(beta, data, f_ratio):\n",
    "    new_t = -3/5*(1-8/3*beta*t)**(5/8)/beta\n",
    "    f_new = f_signal/f_ratio\n",
    "    \n",
    "    new_t *= f_new #changes the frequency to the new downsampled frequency (approximately, not exactly)\n",
    "    floor_t = np.floor(new_t) #For some reason floor works better than round. Take it to the nearest time index which are integers\n",
    "    idx = np.nonzero(np.diff(floor_t)) #The step that downsamples\n",
    "    resampled = data[idx]\n",
    "    t_out = (new_t[idx]-new_t[0])/f_new\n",
    "    return (resampled, t_out)"
   ]
  },
  {
   "cell_type": "code",
   "execution_count": 9,
   "id": "befe1206",
   "metadata": {},
   "outputs": [],
   "source": [
    "f_ratio = 25\n",
    "out, t_out = strobo(beta, data, f_ratio)\n",
    "corrected = np.fft.fftshift(np.fft.fft(out))\n",
    "freq_corrected = np.fft.fftshift(np.fft.fftfreq(len(t_out), d=t_out[1]-t_out[0]))\n",
    "corrected = corrected[len(corrected)//2:]\n",
    "resampled_power = np.abs(corrected/len(out))**2\n",
    "\n",
    "freq_corrected = freq_corrected[len(freq_corrected)//2:]\n",
    "nt_new = len(out)"
   ]
  },
  {
   "cell_type": "code",
   "execution_count": 10,
   "id": "218a6bc8",
   "metadata": {
    "scrolled": true
   },
   "outputs": [
    {
     "data": {
      "text/plain": [
       "[<matplotlib.lines.Line2D at 0x7f57aca69590>]"
      ]
     },
     "execution_count": 10,
     "metadata": {},
     "output_type": "execute_result"
    },
    {
     "data": {
      "image/png": "[encoded data removed]",
      "text/plain": [
       "<Figure size 432x288 with 1 Axes>"
      ]
     },
     "metadata": {
      "needs_background": "light"
     },
     "output_type": "display_data"
    }
   ],
   "source": [
    "pl.plot(freq_corrected, np.abs(resampled_power), 'o')\n",
    "# pl.xlim(119.995, 120.005)"
   ]
  },
  {
   "cell_type": "code",
   "execution_count": 11,
   "id": "17ca34b5",
   "metadata": {},
   "outputs": [
    {
     "data": {
      "text/plain": [
       "3204405"
      ]
     },
     "execution_count": 11,
     "metadata": {},
     "output_type": "execute_result"
    }
   ],
   "source": [
    "len(out)"
   ]
  },
  {
   "cell_type": "code",
   "execution_count": 12,
   "id": "3bb6bc03",
   "metadata": {},
   "outputs": [
    {
     "data": {
      "text/plain": [
       "0.009151205936920223"
      ]
     },
     "execution_count": 12,
     "metadata": {},
     "output_type": "execute_result"
    }
   ],
   "source": [
    "(pad_len - len(out)) / pad_len"
   ]
  },
  {
   "cell_type": "markdown",
   "id": "7fbed8cf",
   "metadata": {},
   "source": [
    "## Padding the data"
   ]
  },
  {
   "cell_type": "code",
   "execution_count": 13,
   "id": "0a072811",
   "metadata": {},
   "outputs": [],
   "source": [
    "def pad_calc(beta, pad_len):\n",
    "#     print(pad_len)\n",
    "    new_t = -3/5*(1-8/3*beta*t)**(5/8)/beta\n",
    "    out, t_out = strobo(beta, data, f_ratio)\n",
    "    pad_frac = (pad_len - len(out)) / len(out)\n",
    "    padded = np.full(pad_len, 0, dtype = complex)\n",
    "    padded[:len(out)] = out\n",
    "    pad_corrected = np.fft.fftshift(np.fft.fft(padded))\n",
    "    pad_freq_corrected = np.fft.fftshift(np.fft.fftfreq(len(padded), d=t_out[1]-t_out[0]))\n",
    "    pad_resampled_power = np.abs(pad_corrected/len(padded))**2\n",
    "    \n",
    "    arg_max = np.argmax(pad_resampled_power)\n",
    "    peak_freq = pad_freq_corrected[arg_max]\n",
    "    peak_power = pad_resampled_power[arg_max]\n",
    "    return np.array([peak_freq, peak_power, pad_frac])"
   ]
  },
  {
   "cell_type": "code",
   "execution_count": 14,
   "id": "7d5b19eb",
   "metadata": {},
   "outputs": [],
   "source": [
    "%reset_selective -f new_t\n",
    "%reset_selective -f padded\n",
    "%reset_selective -f phi"
   ]
  },
  {
   "cell_type": "markdown",
   "id": "102626bf",
   "metadata": {},
   "source": [
    "## Changing padding length"
   ]
  },
  {
   "cell_type": "code",
   "execution_count": 15,
   "id": "bcf113f5",
   "metadata": {},
   "outputs": [
    {
     "name": "stdout",
     "output_type": "stream",
     "text": [
      "2.451600166161855\n"
     ]
    }
   ],
   "source": [
    "tic = time.time()\n",
    "\n",
    "pad_arr = [int(323.4*T_obs)]\n",
    "offset_arr = np.logspace(-8, -3, 100)\n",
    "result_arr = []\n",
    "padfrac_arr = []\n",
    "\n",
    "for i in pad_arr:\n",
    "    temp = np.array(Parallel(4)(delayed(pad_calc)(beta+j*beta, i) for j in offset_arr))\n",
    "    result_arr.append(temp[:,1]/temp[0,1])\n",
    "    padfrac_arr.append(100*temp[0,2])\n",
    "\n",
    "toc = time.time()\n",
    "print((toc-tic)/60)"
   ]
  },
  {
   "cell_type": "code",
   "execution_count": 16,
   "id": "c2c78990",
   "metadata": {},
   "outputs": [
    {
     "data": {
      "image/png": "[encoded data removed]",
      "text/plain": [
       "<Figure size 432x288 with 1 Axes>"
      ]
     },
     "metadata": {
      "needs_background": "light"
     },
     "output_type": "display_data"
    }
   ],
   "source": [
    "# pl.plot(offset_arr, offset_results[:,0]/ref_freq)\n",
    "# pl.show()\n",
    "pl.semilogx(offset_arr, result_arr[0], 'o', \n",
    "            label = 'pad_frac=%.1F %%' % padfrac_arr[0])\n",
    "    \n",
    "pl.xlabel(r'$\\Delta \\beta / \\beta$')\n",
    "pl.ylabel('Power ratio')\n",
    "pl.title(r'$\\beta_{exact} = %.1E$' % beta)\n",
    "# pl.legend()\n",
    "# pl.axvline(offset_arr[-40])\n",
    "pl.show()"
   ]
  },
  {
   "cell_type": "code",
   "execution_count": 17,
   "id": "8c8dce94",
   "metadata": {},
   "outputs": [
    {
     "data": {
      "image/png": "[encoded data removed]",
      "text/plain": [
       "<Figure size 432x288 with 1 Axes>"
      ]
     },
     "metadata": {
      "needs_background": "light"
     },
     "output_type": "display_data"
    }
   ],
   "source": [
    "# pl.plot(offset_arr, offset_results[:,0]/ref_freq)\n",
    "# pl.show()\n",
    "for i,val in enumerate(result_arr):\n",
    "    pl.semilogx(offset_arr, val, 'o', \n",
    "                label = 'pad_frac=%.1F %%' % padfrac_arr[i])\n",
    "    \n",
    "pl.xlabel(r'$\\Delta \\beta / \\beta$')\n",
    "pl.ylabel('Power ratio')\n",
    "pl.title(r'$\\beta_{exact} = %.1E$' % beta)\n",
    "pl.legend()\n",
    "# pl.axvline(offset_arr[-40])\n",
    "pl.show()"
   ]
  },
  {
   "cell_type": "markdown",
   "id": "0bb4d3af",
   "metadata": {},
   "source": [
    "## Changing beta"
   ]
  },
  {
   "cell_type": "code",
   "execution_count": 30,
   "id": "706cb8af",
   "metadata": {},
   "outputs": [],
   "source": [
    "Mc_arr = np.multiply([3e-4, 1e-4],2e30)\n",
    "f0 = 120\n",
    "beta_arr = const*f0**(8/3)*np.power(Mc_arr,5/3)"
   ]
  },
  {
   "cell_type": "code",
   "execution_count": 31,
   "id": "412fe1f6",
   "metadata": {},
   "outputs": [
    {
     "data": {
      "text/plain": [
       "array([2.74393032e-07, 4.39714703e-08])"
      ]
     },
     "execution_count": 31,
     "metadata": {},
     "output_type": "execute_result"
    }
   ],
   "source": [
    "beta_arr"
   ]
  },
  {
   "cell_type": "code",
   "execution_count": 34,
   "id": "1e2dd92e",
   "metadata": {},
   "outputs": [],
   "source": [
    "Mc_arr = np.multiply([3e-4, 1e-4],2e30)\n",
    "f0 = 120\n",
    "pad_len = int(325.4*T_obs)\n",
    "beta_arr = const*f0**(8/3)*np.power(Mc_arr,5/3)\n",
    "\n",
    "offset_arr = np.logspace(-8, -3, 100)\n",
    "result_arr = []\n",
    "\n",
    "for i in beta_arr:\n",
    "    phi = -6*pi/5*f0*(1-8./3.*i*t)**(5/8)/i\n",
    "    phi = np.mod(phi,2*pi)\n",
    "    signal = 1*np.exp(1j*phi)\n",
    "    \n",
    "    _, ref_power, _ = pad_calc(i, pad_len)\n",
    "    temp = np.array(Parallel(5)(delayed(pad_calc)(i+j*i, pad_len) for j in raw_offset_arr))\n",
    "    result_arr.append(temp[:,1]/ref_power)"
   ]
  },
  {
   "cell_type": "code",
   "execution_count": 35,
   "id": "e201bb98",
   "metadata": {},
   "outputs": [
    {
     "data": {
      "image/png": "[encoded data removed]",
      "text/plain": [
       "<Figure size 432x288 with 1 Axes>"
      ]
     },
     "metadata": {
      "needs_background": "light"
     },
     "output_type": "display_data"
    }
   ],
   "source": [
    "for i, val in enumerate(result_arr):\n",
    "    pl.semilogx(raw_offset_arr, val, 'o')"
   ]
  },
  {
   "cell_type": "code",
   "execution_count": 36,
   "id": "e25c0061",
   "metadata": {},
   "outputs": [],
   "source": [
    "Mc_arr = np.multiply([3e-4, 1e-4],2e30)\n",
    "f0 = 120\n",
    "pad_len = int(325.4*T_obs)\n",
    "beta_arr = const*f0**(8/3)*np.power(Mc_arr,5/3)\n",
    "\n",
    "offset_arr = np.logspace(-6, -0.5, 100)\n",
    "result_arr = []\n",
    "\n",
    "for i in beta_arr:\n",
    "    phi = -6*pi/5*f0*(1-8./3.*i*t)**(5/8)/i\n",
    "    phi = np.mod(phi,2*pi)\n",
    "    signal = 1*np.exp(1j*phi)\n",
    "    \n",
    "    _, ref_power, _ = pad_calc(i, pad_len)\n",
    "    temp = np.array(Parallel(4)(delayed(pad_calc)(i+j*i, pad_len) for j in offset_arr))\n",
    "    result_arr.append(temp[:,1]/ref_power)"
   ]
  },
  {
   "cell_type": "code",
   "execution_count": 37,
   "id": "80834d95",
   "metadata": {},
   "outputs": [
    {
     "data": {
      "image/png": "[encoded data removed]",
      "text/plain": [
       "<Figure size 432x288 with 1 Axes>"
      ]
     },
     "metadata": {
      "needs_background": "light"
     },
     "output_type": "display_data"
    }
   ],
   "source": [
    "for i, val in enumerate(result_arr):\n",
    "    pl.semilogx(offset_arr, val, 'o')"
   ]
  },
  {
   "cell_type": "code",
   "execution_count": null,
   "id": "ff7b234a",
   "metadata": {},
   "outputs": [],
   "source": []
  }
 ],
 "metadata": {
  "kernelspec": {
   "display_name": "Python 3 (ipykernel)",
   "language": "python",
   "name": "python3"
  },
  "language_info": {
   "codemirror_mode": {
    "name": "ipython",
    "version": 3
   },
   "file_extension": ".py",
   "mimetype": "text/x-python",
   "name": "python",
   "nbconvert_exporter": "python",
   "pygments_lexer": "ipython3",
   "version": "3.10.8"
  }
 },
 "nbformat": 4,
 "nbformat_minor": 5
}
