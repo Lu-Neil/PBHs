{
 "cells": [
  {
   "cell_type": "code",
   "execution_count": 1,
   "id": "32db952d",
   "metadata": {},
   "outputs": [],
   "source": [
    "import numpy as np\n",
    "import matplotlib.pyplot as pl\n",
    "import time\n",
    "from joblib import Parallel, delayed\n",
    "import pyfftw"
   ]
  },
  {
   "cell_type": "code",
   "execution_count": 2,
   "id": "e79d9b2c",
   "metadata": {},
   "outputs": [],
   "source": [
    "c = 3e8\n",
    "G = 6.67e-11\n",
    "pi = np.pi\n",
    "const = 96/5*pi**(8/3)*(G/c**3)**(5/3)"
   ]
  },
  {
   "cell_type": "code",
   "execution_count": 34,
   "id": "057ae5c7",
   "metadata": {},
   "outputs": [],
   "source": [
    "f0 = 150\n",
    "Mc = 1e-3* 2e30\n",
    "f_max = 200\n",
    "T_obs = 1e4\n",
    "pad_len0 = int(340.0*T_obs) #~0.01 added length to resampled data\n",
    "beta = const*f0**(8/3)*Mc**(5/3)\n",
    "\n",
    "f_signal = 40*f_max\n",
    "nt = round(f_signal*T_obs)\n",
    "t = np.arange(nt)/f_signal\n",
    "f_ratio = 25"
   ]
  },
  {
   "cell_type": "code",
   "execution_count": 35,
   "id": "3d68ad59",
   "metadata": {},
   "outputs": [
    {
     "data": {
      "text/plain": [
       "3.7005336330685566e-06"
      ]
     },
     "execution_count": 35,
     "metadata": {},
     "output_type": "execute_result"
    }
   ],
   "source": [
    "beta"
   ]
  },
  {
   "cell_type": "code",
   "execution_count": 36,
   "id": "d3f70f87",
   "metadata": {},
   "outputs": [],
   "source": [
    "phi = -6*pi/5*f0*(1-8./3.*beta*t)**(5/8)/beta\n",
    "phi = np.mod(phi,2*pi)\n",
    "signal = 1*np.exp(1j*phi)\n",
    "\n",
    "nh = 0\n",
    "noise = nh*np.random.normal(size = nt)\n",
    "data = signal + noise"
   ]
  },
  {
   "cell_type": "code",
   "execution_count": 37,
   "id": "e6566fa3",
   "metadata": {},
   "outputs": [],
   "source": [
    "def strobo(beta, data, f_ratio):\n",
    "    new_t = -3/5*(1-8/3*beta*t)**(5/8)/beta\n",
    "    f_new = f_signal/f_ratio\n",
    "    \n",
    "    new_t *= f_new #changes the frequency to the new downsampled frequency (approximately, not exactly)\n",
    "    floor_t = np.floor(new_t) #For some reason floor works better than round. Take it to the nearest time index which are integers\n",
    "    idx = np.nonzero(np.diff(floor_t)) #The step that downsamples\n",
    "    resampled = data[idx]\n",
    "    t_out = (new_t[idx]-new_t[0])/f_new\n",
    "    return (resampled, t_out)"
   ]
  },
  {
   "cell_type": "code",
   "execution_count": 38,
   "id": "2f33a609",
   "metadata": {},
   "outputs": [],
   "source": [
    "f_ratio = 25\n",
    "out, t_out = strobo(beta, data, f_ratio)\n",
    "padded = np.zeros(pad_len0, dtype = np.complex128)\n",
    "padded[:len(out)] = out\n",
    "corrected = np.fft.fftshift(np.fft.fft(padded))\n",
    "freq_corrected = np.fft.fftshift(np.fft.fftfreq(pad_len0, d=t_out[1]-t_out[0]))\n",
    "corrected = corrected[len(corrected)//2:]\n",
    "resampled_power = np.abs(corrected/len(out))**2\n",
    "\n",
    "freq_corrected = freq_corrected[len(freq_corrected)//2:]\n",
    "nt_new = len(out)"
   ]
  },
  {
   "cell_type": "code",
   "execution_count": 39,
   "id": "860cd5c2",
   "metadata": {},
   "outputs": [
    {
     "data": {
      "text/plain": [
       "[<matplotlib.lines.Line2D at 0x7f99fd63f350>]"
      ]
     },
     "execution_count": 39,
     "metadata": {},
     "output_type": "execute_result"
    },
    {
     "data": {
      "image/png": "[encoded data removed]",
      "text/plain": [
       "<Figure size 432x288 with 1 Axes>"
      ]
     },
     "metadata": {
      "needs_background": "light"
     },
     "output_type": "display_data"
    }
   ],
   "source": [
    "pl.plot(freq_corrected, resampled_power, 'o')\n",
    "# pl.xlim(119.995, 120.005)"
   ]
  },
  {
   "cell_type": "code",
   "execution_count": 40,
   "id": "0c4267b2",
   "metadata": {},
   "outputs": [
    {
     "data": {
      "text/plain": [
       "0.9987977913733269"
      ]
     },
     "execution_count": 40,
     "metadata": {},
     "output_type": "execute_result"
    }
   ],
   "source": [
    "max(resampled_power)"
   ]
  },
  {
   "cell_type": "code",
   "execution_count": 28,
   "id": "d6e7eab8",
   "metadata": {},
   "outputs": [],
   "source": [
    "def power_calc(beta, f0):\n",
    "    phi = -6*pi/5*f0*(1-8./3.*beta*t)**(5/8)/beta\n",
    "    phi = np.mod(phi,2*pi)\n",
    "    signal = 1*np.exp(1j*phi)\n",
    "    data = signal\n",
    "    \n",
    "    out, t_out = strobo(beta, data, f_ratio)\n",
    "    padded = np.zeros(pad_len0, dtype = np.complex128)\n",
    "    padded[:len(out)] = out\n",
    "    corrected = np.fft.fftshift(np.fft.fft(padded))\n",
    "    freq_corrected = np.fft.fftshift(np.fft.fftfreq(pad_len0, d=t_out[1]-t_out[0]))\n",
    "    corrected = corrected[len(corrected)//2:]\n",
    "    resampled_power = np.abs(corrected/len(out))**2\n",
    "    return max(resampled_power)"
   ]
  },
  {
   "cell_type": "code",
   "execution_count": 29,
   "id": "3795edea",
   "metadata": {},
   "outputs": [],
   "source": [
    "beta_arr = np.logspace(-11, -7, 5)\n",
    "ref_power = [power_calc(i, 20) for i in beta_arr]"
   ]
  },
  {
   "cell_type": "code",
   "execution_count": 30,
   "id": "da58de60",
   "metadata": {},
   "outputs": [
    {
     "data": {
      "text/plain": [
       "[<matplotlib.lines.Line2D at 0x7f99fd840f10>]"
      ]
     },
     "execution_count": 30,
     "metadata": {},
     "output_type": "execute_result"
    },
    {
     "data": {
      "image/png": "[encoded data removed]",
      "text/plain": [
       "<Figure size 432x288 with 1 Axes>"
      ]
     },
     "metadata": {
      "needs_background": "light"
     },
     "output_type": "display_data"
    }
   ],
   "source": [
    "pl.semilogx(beta_arr, ref_power)"
   ]
  },
  {
   "cell_type": "code",
   "execution_count": 32,
   "id": "ce1c3b7d",
   "metadata": {},
   "outputs": [],
   "source": [
    "beta_arr = np.logspace(-8, -5, 10)\n",
    "ref_power = [power_calc(i, 150) for i in beta_arr]"
   ]
  },
  {
   "cell_type": "code",
   "execution_count": 33,
   "id": "2e0f09f5",
   "metadata": {},
   "outputs": [
    {
     "data": {
      "text/plain": [
       "[<matplotlib.lines.Line2D at 0x7f99fdb90dd0>]"
      ]
     },
     "execution_count": 33,
     "metadata": {},
     "output_type": "execute_result"
    },
    {
     "data": {
      "image/png": "[encoded data removed]",
      "text/plain": [
       "<Figure size 432x288 with 1 Axes>"
      ]
     },
     "metadata": {
      "needs_background": "light"
     },
     "output_type": "display_data"
    }
   ],
   "source": [
    "pl.semilogx(beta_arr, ref_power)"
   ]
  },
  {
   "cell_type": "code",
   "execution_count": null,
   "id": "5ac73368",
   "metadata": {},
   "outputs": [],
   "source": [
    "# Conclusion: reference power is almost independent of all parameters\n",
    "# as expected. "
   ]
  }
 ],
 "metadata": {
  "kernelspec": {
   "display_name": "Python 3 (ipykernel)",
   "language": "python",
   "name": "python3"
  },
  "language_info": {
   "codemirror_mode": {
    "name": "ipython",
    "version": 3
   },
   "file_extension": ".py",
   "mimetype": "text/x-python",
   "name": "python",
   "nbconvert_exporter": "python",
   "pygments_lexer": "ipython3",
   "version": "3.7.11"
  }
 },
 "nbformat": 4,
 "nbformat_minor": 5
}
