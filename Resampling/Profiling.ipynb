{
 "cells": [
  {
   "cell_type": "code",
   "execution_count": 1,
   "id": "4b22cf1b",
   "metadata": {},
   "outputs": [],
   "source": [
    "import numpy as np\n",
    "import matplotlib.pyplot as pl\n",
    "import time"
   ]
  },
  {
   "cell_type": "code",
   "execution_count": 2,
   "id": "a2bd5f44",
   "metadata": {},
   "outputs": [],
   "source": [
    "%load_ext line_profiler"
   ]
  },
  {
   "cell_type": "code",
   "execution_count": 3,
   "id": "2b105ed7",
   "metadata": {},
   "outputs": [],
   "source": [
    "c = 3e8\n",
    "G = 6.67e-11\n",
    "pi = np.pi\n",
    "const = 96/5*pi**(8/3)*(G/c**3)**(5/3)"
   ]
  },
  {
   "cell_type": "markdown",
   "id": "d9674712",
   "metadata": {},
   "source": [
    "Specific arguments"
   ]
  },
  {
   "cell_type": "code",
   "execution_count": 4,
   "id": "6522e7f1",
   "metadata": {},
   "outputs": [],
   "source": [
    "f0 = 120\n",
    "Mc = 3e-4* 2e30\n",
    "f_max = 200\n",
    "T_obs = 10**(4)\n",
    "pad_len = int(323.4*T_obs)\n",
    "beta = const*f0**(8/3)*Mc**(5/3)\n",
    "\n",
    "f_signal = 40*f_max\n",
    "nt = round(f_signal*T_obs)\n",
    "t = np.arange(nt)/f_signal"
   ]
  },
  {
   "cell_type": "code",
   "execution_count": 5,
   "id": "11b8e7ef",
   "metadata": {},
   "outputs": [],
   "source": [
    "phi = -6*pi/5*f0*(1-8./3.*beta*t)**(5/8)/beta\n",
    "phi = np.mod(phi,2*pi)\n",
    "signal = 1*np.exp(1j*phi)\n",
    "\n",
    "noise = 0\n",
    "data = signal + noise"
   ]
  },
  {
   "cell_type": "markdown",
   "id": "eb97c3e2",
   "metadata": {},
   "source": [
    "## Strobo"
   ]
  },
  {
   "cell_type": "code",
   "execution_count": 6,
   "id": "fcd186f3",
   "metadata": {},
   "outputs": [],
   "source": [
    "def strobo(beta, data, f_ratio):\n",
    "    new_t = -3/5*(1-8/3*beta*t)**(5/8)/beta\n",
    "    f_new = f_signal/f_ratio\n",
    "    \n",
    "    new_t *= f_new \n",
    "    floor_t = np.floor(new_t) \n",
    "    idx = np.nonzero(np.diff(floor_t))\n",
    "    resampled = data[idx]\n",
    "    t_out = (new_t[idx]-new_t[0])/f_new\n",
    "    return (resampled, t_out)"
   ]
  },
  {
   "cell_type": "code",
   "execution_count": 7,
   "id": "a67ebf13",
   "metadata": {},
   "outputs": [],
   "source": [
    "f_ratio = 25\n",
    "out, t_out = strobo(beta, data, f_ratio)\n",
    "corrected = np.fft.fftshift(np.fft.fft(out))\n",
    "freq_corrected = np.fft.fftshift(np.fft.fftfreq(len(t_out), d=t_out[1]-t_out[0]))\n",
    "corrected = corrected[len(corrected)//2:]\n",
    "resampled_power = np.abs(corrected/len(out))**2\n",
    "\n",
    "freq_corrected = freq_corrected[len(freq_corrected)//2:]\n",
    "nt_new = len(out)"
   ]
  },
  {
   "cell_type": "code",
   "execution_count": 8,
   "id": "e6aa22d7",
   "metadata": {},
   "outputs": [],
   "source": [
    "# strobo(beta, data, f_ratio)"
   ]
  },
  {
   "cell_type": "code",
   "execution_count": 32,
   "id": "c3c1790f",
   "metadata": {},
   "outputs": [],
   "source": [
    "%lprun -f strobo strobo(beta, data, f_ratio)"
   ]
  },
  {
   "cell_type": "code",
   "execution_count": 33,
   "id": "d5ccd744",
   "metadata": {},
   "outputs": [],
   "source": [
    "# strobo dominated by new_t definition and idx calculation\n",
    "# using np operations for new_t definition has negligible effect\n",
    "# only way to move gain improvements is testing with cython or numba"
   ]
  },
  {
   "cell_type": "markdown",
   "id": "fef908e0",
   "metadata": {},
   "source": [
    "## For single beta"
   ]
  },
  {
   "cell_type": "code",
   "execution_count": 8,
   "id": "53b5d1d2",
   "metadata": {},
   "outputs": [],
   "source": [
    "def inspecting(beta):\n",
    "    out, t_out = strobo(beta, data, f_ratio)\n",
    "    corrected = np.fft.fftshift(np.fft.fft(out))\n",
    "    freq_corrected = np.fft.fftshift(np.fft.fftfreq(len(t_out), d=t_out[1]-t_out[0]))\n",
    "#     corrected = corrected[len(corrected)//2:]\n",
    "#     freq_corrected = freq_corrected[len(freq_corrected)//2:] # there is a bug here, isn't same length as resampled_power if even or odd\n",
    "    resampled_power = np.abs(corrected/len(out))**2\n",
    "    \n",
    "    arg_max = np.argmax(resampled_power)\n",
    "    peak_freq = freq_corrected[arg_max]\n",
    "    peak_power = resampled_power[arg_max]\n",
    "    return freq_corrected, resampled_power"
   ]
  },
  {
   "cell_type": "code",
   "execution_count": 35,
   "id": "392964f9",
   "metadata": {},
   "outputs": [],
   "source": [
    "%lprun -f inspecting inspecting(beta)"
   ]
  },
  {
   "cell_type": "code",
   "execution_count": 36,
   "id": "d9722914",
   "metadata": {},
   "outputs": [],
   "source": [
    "# inspecting is dominated by strobo and fft\n",
    "# for t_obs = 1e3, strobo is more important. \n",
    "# but fft grows as O(nlogn) but strobo grows as (n) so will eventually dominate\n",
    "# at t_obs = 1e4.5, strobo accounts for ~75% of time"
   ]
  },
  {
   "cell_type": "markdown",
   "id": "7fbed8cf",
   "metadata": {},
   "source": [
    "## Padding the data"
   ]
  },
  {
   "cell_type": "code",
   "execution_count": 9,
   "id": "0a072811",
   "metadata": {},
   "outputs": [],
   "source": [
    "def pad_calc(beta):\n",
    "    out, t_out = strobo(beta, data, f_ratio)\n",
    "    padded = np.full(pad_len, 0, dtype = complex)\n",
    "    padded[:len(out)] = out\n",
    "    pad_corrected = np.fft.fftshift(np.fft.fft(padded))\n",
    "    pad_freq_corrected = np.fft.fftshift(np.fft.fftfreq(len(padded), d=t_out[1]-t_out[0]))\n",
    "    pad_resampled_power = np.abs(pad_corrected/len(padded))**2\n",
    "    \n",
    "    arg_max = np.argmax(pad_resampled_power)\n",
    "    peak_freq = pad_freq_corrected[arg_max]\n",
    "    peak_power = pad_resampled_power[arg_max]\n",
    "    return peak_freq, peak_power"
   ]
  },
  {
   "cell_type": "code",
   "execution_count": 10,
   "id": "1a824cb6",
   "metadata": {},
   "outputs": [],
   "source": [
    "%lprun -f pad_calc pad_calc(beta)"
   ]
  },
  {
   "cell_type": "code",
   "execution_count": 11,
   "id": "3fb284ea",
   "metadata": {},
   "outputs": [],
   "source": [
    "# pad_calc profile identical to inspecing as expected"
   ]
  },
  {
   "cell_type": "code",
   "execution_count": 12,
   "id": "938e398a",
   "metadata": {},
   "outputs": [],
   "source": [
    "from joblib import Parallel, delayed"
   ]
  },
  {
   "cell_type": "code",
   "execution_count": 14,
   "id": "45e4aed5",
   "metadata": {},
   "outputs": [
    {
     "name": "stdout",
     "output_type": "stream",
     "text": [
      "1.045946180820465\n"
     ]
    }
   ],
   "source": [
    "tic = time.time()\n",
    "offset_arr = np.logspace(-8, -3, 30)\n",
    "result = [pad_calc(beta+i*beta) for i in offset_arr]\n",
    "toc = time.time()\n",
    "print((toc-tic)/60)"
   ]
  },
  {
   "cell_type": "code",
   "execution_count": 13,
   "id": "6258cbe8",
   "metadata": {},
   "outputs": [
    {
     "name": "stdout",
     "output_type": "stream",
     "text": [
      "0.4799941062927246\n"
     ]
    }
   ],
   "source": [
    "tic = time.time()\n",
    "offset_arr = np.logspace(-8, -3, 30)\n",
    "result = Parallel(10)(delayed(pad_calc)(beta+i*beta) for i in offset_arr)\n",
    "toc = time.time()\n",
    "print((toc-tic)/60)"
   ]
  },
  {
   "cell_type": "code",
   "execution_count": 73,
   "id": "dd1090b1",
   "metadata": {},
   "outputs": [],
   "source": [
    "# T_obs = 1e3: Parallel improves by factor of 1/2. Should improve for longer T_obs\n",
    "# T_obs = 1e4: memory constraints are an issue which scale with num_cpu, improvement was still around 1/2?"
   ]
  },
  {
   "cell_type": "code",
   "execution_count": null,
   "id": "06322c1e",
   "metadata": {},
   "outputs": [],
   "source": []
  }
 ],
 "metadata": {
  "kernelspec": {
   "display_name": "Python 3 (ipykernel)",
   "language": "python",
   "name": "python3"
  },
  "language_info": {
   "codemirror_mode": {
    "name": "ipython",
    "version": 3
   },
   "file_extension": ".py",
   "mimetype": "text/x-python",
   "name": "python",
   "nbconvert_exporter": "python",
   "pygments_lexer": "ipython3",
   "version": "3.7.11"
  }
 },
 "nbformat": 4,
 "nbformat_minor": 5
}
