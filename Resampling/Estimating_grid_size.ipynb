{
 "cells": [
  {
   "cell_type": "code",
   "execution_count": 1,
   "id": "4b22cf1b",
   "metadata": {},
   "outputs": [],
   "source": [
    "import numpy as np\n",
    "import matplotlib.pyplot as pl"
   ]
  },
  {
   "cell_type": "code",
   "execution_count": 2,
   "id": "db711c44",
   "metadata": {},
   "outputs": [],
   "source": [
    "from varname import nameof, argname\n",
    "def copier(arg):\n",
    "    og_name = argname('arg')\n",
    "    new_name = og_name + '_copy'\n",
    "    globals()[new_name] = arg"
   ]
  },
  {
   "cell_type": "code",
   "execution_count": 3,
   "id": "2b105ed7",
   "metadata": {},
   "outputs": [],
   "source": [
    "c = 3e8\n",
    "G = 6.67e-11\n",
    "pi = np.pi\n",
    "const = 96/5*pi**(8/3)*(G/c**3)**(5/3)"
   ]
  },
  {
   "cell_type": "markdown",
   "id": "d9674712",
   "metadata": {},
   "source": [
    "Specific arguments"
   ]
  },
  {
   "cell_type": "code",
   "execution_count": 4,
   "id": "6522e7f1",
   "metadata": {},
   "outputs": [],
   "source": [
    "f0 = 120\n",
    "Mc = 1e-5* 2e30\n",
    "f_max = 200\n",
    "T_obs = 1e4\n",
    "beta = const*f0**(8/3)*Mc**(5/3)\n",
    "\n",
    "f_signal = 40*f_max\n",
    "nt = round(f_signal*T_obs)\n",
    "t = np.arange(nt)/f_signal"
   ]
  },
  {
   "cell_type": "code",
   "execution_count": 16,
   "id": "2e063daf",
   "metadata": {},
   "outputs": [
    {
     "ename": "NameError",
     "evalue": "name 'f_signal' is not defined",
     "output_type": "error",
     "traceback": [
      "\u001b[0;31m---------------------------------------------------------------------------\u001b[0m",
      "\u001b[0;31mNameError\u001b[0m                                 Traceback (most recent call last)",
      "\u001b[0;32m/tmp/ipykernel_40655/3320829552.py\u001b[0m in \u001b[0;36m<module>\u001b[0;34m\u001b[0m\n\u001b[0;32m----> 1\u001b[0;31m \u001b[0mf_signal\u001b[0m\u001b[0;34m\u001b[0m\u001b[0;34m\u001b[0m\u001b[0m\n\u001b[0m",
      "\u001b[0;31mNameError\u001b[0m: name 'f_signal' is not defined"
     ]
    }
   ],
   "source": [
    "f_signal"
   ]
  },
  {
   "cell_type": "code",
   "execution_count": 5,
   "id": "a824afde",
   "metadata": {},
   "outputs": [
    {
     "data": {
      "text/plain": [
       "9.473366100655505e-10"
      ]
     },
     "execution_count": 5,
     "metadata": {},
     "output_type": "execute_result"
    }
   ],
   "source": [
    "beta"
   ]
  },
  {
   "cell_type": "markdown",
   "id": "92e663f2",
   "metadata": {},
   "source": [
    "Generating signal and adding noise"
   ]
  },
  {
   "cell_type": "code",
   "execution_count": 8,
   "id": "11b8e7ef",
   "metadata": {},
   "outputs": [],
   "source": [
    "phi = -6*pi/5*f0*(1-8./3.*beta*t)**(5/8)/beta\n",
    "phi = np.mod(phi,2*pi)\n",
    "signal = 1*np.exp(1j*phi)\n",
    "\n",
    "nh = 50\n",
    "noise = nh*np.random.normal(size = nt)\n",
    "data = signal + noise"
   ]
  },
  {
   "cell_type": "code",
   "execution_count": 9,
   "id": "b38969ca",
   "metadata": {},
   "outputs": [],
   "source": [
    "%reset_selective -f signal\n",
    "%reset_selective -f noise\n",
    "%reset_selective -f phi"
   ]
  },
  {
   "cell_type": "code",
   "execution_count": 10,
   "id": "cda95201",
   "metadata": {},
   "outputs": [],
   "source": [
    "freqs = np.fft.fftshift(np.fft.fftfreq(len(t), d=t[1]-t[0]))\n",
    "fft = np.fft.fftshift(np.fft.fft(data))"
   ]
  },
  {
   "cell_type": "code",
   "execution_count": 11,
   "id": "d71969e6",
   "metadata": {},
   "outputs": [],
   "source": [
    "freqs = freqs[len(freqs)//2:]\n",
    "fft = fft[len(fft)//2:]"
   ]
  },
  {
   "cell_type": "code",
   "execution_count": 12,
   "id": "f8cd70d2",
   "metadata": {},
   "outputs": [
    {
     "data": {
      "text/plain": [
       "(0.0, 200.0)"
      ]
     },
     "execution_count": 12,
     "metadata": {},
     "output_type": "execute_result"
    },
    {
     "data": {
      "image/png": "[encoded data removed]",
      "text/plain": [
       "<Figure size 432x288 with 1 Axes>"
      ]
     },
     "metadata": {
      "needs_background": "light"
     },
     "output_type": "display_data"
    }
   ],
   "source": [
    "pl.plot(freqs, np.abs(fft)/nt)\n",
    "pl.xlim(0, 200)\n",
    "#Why is it not symmetric?"
   ]
  },
  {
   "cell_type": "code",
   "execution_count": 13,
   "id": "fcd186f3",
   "metadata": {},
   "outputs": [],
   "source": [
    "def strobo(data, new_t, f_new):\n",
    "    new_t *= f_new #changes the frequency to the new downsampled frequency (approximately, not exactly)\n",
    "    floor_t = np.floor(new_t) #For some reason floor works better than round. Take it to the nearest time index which are integers\n",
    "    idx = np.nonzero(np.diff(floor_t)) #The step that downsamples\n",
    "    resampled = data[idx]\n",
    "    t_out = (new_t[idx]-new_t[0])/f_new\n",
    "    return (resampled, t_out)\n",
    "\n",
    "def strobo_opt(data, new_t, f_new):\n",
    "    new_t *= f_new #changes the frequency to the new downsampled frequency (approximately, not exactly)\n",
    "    floor_t = np.floor(new_t) #For some reason floor works better than round. Take it to the nearest time index which are integers\n",
    "    idx = np.diff(floor_t).astype(int) #The step that downsamples\n",
    "    resampled = data[idx]\n",
    "    t_out = (new_t[idx]-new_t[0])/f_new\n",
    "    return (resampled, t_out)"
   ]
  },
  {
   "cell_type": "code",
   "execution_count": 14,
   "id": "e19f40ce",
   "metadata": {},
   "outputs": [
    {
     "ename": "NameError",
     "evalue": "name 'f_signal' is not defined",
     "output_type": "error",
     "traceback": [
      "\u001b[0;31m---------------------------------------------------------------------------\u001b[0m",
      "\u001b[0;31mNameError\u001b[0m                                 Traceback (most recent call last)",
      "\u001b[0;32m/tmp/ipykernel_40655/3086558522.py\u001b[0m in \u001b[0;36m<module>\u001b[0;34m\u001b[0m\n\u001b[1;32m      1\u001b[0m \u001b[0mnew_t\u001b[0m \u001b[0;34m=\u001b[0m \u001b[0;34m-\u001b[0m\u001b[0;36m3\u001b[0m\u001b[0;34m/\u001b[0m\u001b[0;36m5\u001b[0m\u001b[0;34m*\u001b[0m\u001b[0;34m(\u001b[0m\u001b[0;36m1\u001b[0m\u001b[0;34m-\u001b[0m\u001b[0;36m8\u001b[0m\u001b[0;34m/\u001b[0m\u001b[0;36m3\u001b[0m\u001b[0;34m*\u001b[0m\u001b[0mbeta\u001b[0m\u001b[0;34m*\u001b[0m\u001b[0mt\u001b[0m\u001b[0;34m)\u001b[0m\u001b[0;34m**\u001b[0m\u001b[0;34m(\u001b[0m\u001b[0;36m5\u001b[0m\u001b[0;34m/\u001b[0m\u001b[0;36m8\u001b[0m\u001b[0;34m)\u001b[0m\u001b[0;34m/\u001b[0m\u001b[0mbeta\u001b[0m\u001b[0;34m\u001b[0m\u001b[0;34m\u001b[0m\u001b[0m\n\u001b[0;32m----> 2\u001b[0;31m \u001b[0mf_new\u001b[0m \u001b[0;34m=\u001b[0m \u001b[0mf_signal\u001b[0m\u001b[0;34m/\u001b[0m\u001b[0;36m10\u001b[0m\u001b[0;34m\u001b[0m\u001b[0;34m\u001b[0m\u001b[0m\n\u001b[0m\u001b[1;32m      3\u001b[0m \u001b[0;34m\u001b[0m\u001b[0m\n\u001b[1;32m      4\u001b[0m \u001b[0mout\u001b[0m\u001b[0;34m,\u001b[0m \u001b[0mt_out\u001b[0m \u001b[0;34m=\u001b[0m \u001b[0mstrobo\u001b[0m\u001b[0;34m(\u001b[0m\u001b[0mdata\u001b[0m\u001b[0;34m,\u001b[0m \u001b[0mnew_t\u001b[0m\u001b[0;34m,\u001b[0m \u001b[0mf_new\u001b[0m\u001b[0;34m)\u001b[0m\u001b[0;34m\u001b[0m\u001b[0;34m\u001b[0m\u001b[0m\n\u001b[1;32m      5\u001b[0m \u001b[0mcorrected\u001b[0m \u001b[0;34m=\u001b[0m \u001b[0mnp\u001b[0m\u001b[0;34m.\u001b[0m\u001b[0mfft\u001b[0m\u001b[0;34m.\u001b[0m\u001b[0mfftshift\u001b[0m\u001b[0;34m(\u001b[0m\u001b[0mnp\u001b[0m\u001b[0;34m.\u001b[0m\u001b[0mfft\u001b[0m\u001b[0;34m.\u001b[0m\u001b[0mfft\u001b[0m\u001b[0;34m(\u001b[0m\u001b[0mout\u001b[0m\u001b[0;34m)\u001b[0m\u001b[0;34m)\u001b[0m\u001b[0;34m\u001b[0m\u001b[0;34m\u001b[0m\u001b[0m\n",
      "\u001b[0;31mNameError\u001b[0m: name 'f_signal' is not defined"
     ]
    }
   ],
   "source": [
    "new_t = -3/5*(1-8/3*beta*t)**(5/8)/beta\n",
    "f_new = f_signal/10\n",
    "\n",
    "out, t_out = strobo(data, new_t, f_new)\n",
    "corrected = np.fft.fftshift(np.fft.fft(out))\n",
    "freq_corrected = np.fft.fftshift(np.fft.fftfreq(len(t_out), d=t_out[1]-t_out[0]))\n",
    "corrected = corrected[len(corrected)//2:]\n",
    "freq_corrected = freq_corrected[len(freq_corrected)//2:]\n",
    "nt_new = len(out)"
   ]
  },
  {
   "cell_type": "code",
   "execution_count": null,
   "id": "75e00203",
   "metadata": {
    "scrolled": false
   },
   "outputs": [],
   "source": [
    "pl.plot(freq_corrected, np.abs(corrected/nt_new))"
   ]
  },
  {
   "cell_type": "markdown",
   "id": "f32fbb44",
   "metadata": {},
   "source": [
    "## Numerically estimating error for single point"
   ]
  },
  {
   "cell_type": "code",
   "execution_count": null,
   "id": "aeba012a",
   "metadata": {},
   "outputs": [],
   "source": [
    "t"
   ]
  },
  {
   "cell_type": "code",
   "execution_count": null,
   "id": "f4139893",
   "metadata": {},
   "outputs": [],
   "source": [
    "def height_calc(beta):\n",
    "    new_t = -3/5*(1-8/3*beta*t)**(5/8)/beta\n",
    "    out, t_out = strobo(data, new_t, f_new)\n",
    "    corrected = np.fft.fftshift(np.fft.fft(out))\n",
    "    freq_corrected = np.fft.fftshift(np.fft.fftfreq(len(t_out), d=t_out[1]-t_out[0]))\n",
    "    corrected = corrected[len(corrected)//2:]\n",
    "    freq_corrected = freq_corrected[len(freq_corrected)//2:]\n",
    "    nt_new = len(out)\n",
    "    resampled_amplitudes = np.abs(corrected/nt_new)\n",
    "    \n",
    "    arg_max = np.argmax(resampled_amplitudes)\n",
    "    peak_freq = freq_corrected[arg_max]\n",
    "    peak_height = resampled_amplitudes[arg_max]\n",
    "    return peak_freq, peak_height"
   ]
  },
  {
   "cell_type": "code",
   "execution_count": null,
   "id": "3bc273a0",
   "metadata": {},
   "outputs": [],
   "source": [
    "offset_arr = np.logspace(-6, -3, 100)\n",
    "ref_freq, ref_height = height_calc(beta)\n",
    "\n",
    "offset_results = np.array([height_calc(beta+i*beta) for i in offset_arr])"
   ]
  },
  {
   "cell_type": "code",
   "execution_count": null,
   "id": "87ee875a",
   "metadata": {},
   "outputs": [],
   "source": [
    "# pl.plot(offset_arr, offset_results[:,0]/ref_freq)\n",
    "# pl.show()\n",
    "pl.semilogx(offset_arr, offset_results[:,1]/ref_height)\n",
    "pl.xlabel(r'$\\Delta \\beta / \\beta$')\n",
    "pl.ylabel('Height ratio')\n",
    "pl.title(r'$\\beta_{exact} = %.1E$' % beta)\n",
    "pl.show()"
   ]
  },
  {
   "cell_type": "code",
   "execution_count": null,
   "id": "6cfac33a",
   "metadata": {},
   "outputs": [],
   "source": [
    "# pl.plot(offset_arr, offset_results[:,0]/ref_freq)\n",
    "# pl.show()\n",
    "pl.semilogx(offset_arr, offset_results[:,1]/ref_height)\n",
    "pl.xlabel(r'$\\Delta \\beta / \\beta$')\n",
    "pl.ylabel('Height ratio')\n",
    "pl.title(r'$\\beta_{exact} = %.1E$' % beta)\n",
    "pl.show()"
   ]
  },
  {
   "cell_type": "code",
   "execution_count": null,
   "id": "673d52f8",
   "metadata": {},
   "outputs": [],
   "source": [
    "# pl.plot(offset_arr, offset_results[:,0]/ref_freq)\n",
    "# pl.show()\n",
    "pl.semilogx(offset_arr, offset_results[:,1]/ref_height)\n",
    "pl.xlabel(r'$\\Delta \\beta / \\beta$')\n",
    "pl.ylabel('Height ratio')\n",
    "pl.title(r'$\\beta_{exact} = %.1E$' % beta)\n",
    "pl.show()"
   ]
  },
  {
   "cell_type": "code",
   "execution_count": null,
   "id": "5e45fa51",
   "metadata": {},
   "outputs": [],
   "source": [
    "10/360*2*np.pi"
   ]
  },
  {
   "cell_type": "markdown",
   "id": "20a9842f",
   "metadata": {},
   "source": [
    "## Delta Beta"
   ]
  },
  {
   "cell_type": "code",
   "execution_count": null,
   "id": "1d37c273",
   "metadata": {},
   "outputs": [],
   "source": [
    "beta"
   ]
  },
  {
   "cell_type": "code",
   "execution_count": null,
   "id": "0eafa0cf",
   "metadata": {},
   "outputs": [],
   "source": [
    "dPhi_thresh = 1\n",
    "alpha = (1-8/3*beta*T_obs)\n",
    "temp0 = dPhi_thresh/(2*pi*f0)\n",
    "temp1 = alpha**(-5/8)\n",
    "temp2 = (beta**(-1)+5/3*T_obs*alpha**(-1))**(-1)\n",
    "dBeta_frac = temp0*temp1*temp2"
   ]
  },
  {
   "cell_type": "code",
   "execution_count": null,
   "id": "f4fdeb2e",
   "metadata": {},
   "outputs": [],
   "source": [
    "dBeta_frac"
   ]
  },
  {
   "cell_type": "markdown",
   "id": "5786969d",
   "metadata": {},
   "source": [
    "## Verifying TE"
   ]
  },
  {
   "cell_type": "code",
   "execution_count": null,
   "id": "87905eb6",
   "metadata": {},
   "outputs": [],
   "source": [
    "dBeta_arr = beta*np.linspace(0, 0.01, 100)\n",
    "analytic = (1-8/3*(beta+dBeta_arr)*T_obs)**(5/8)/(beta+dBeta_arr)\n",
    "TE = alpha**(5/8)/beta - dBeta_arr/beta*alpha**(5/8)*(beta**(-1)+5/3*T_obs*alpha**(-1))"
   ]
  },
  {
   "cell_type": "code",
   "execution_count": null,
   "id": "9693e211",
   "metadata": {},
   "outputs": [],
   "source": [
    "pl.plot(dBeta_arr, analytic, label = 'analytic')\n",
    "pl.plot(dBeta_arr, TE, label = \"Taylor Expansion\")\n",
    "pl.xlabel(\"dBeta\")"
   ]
  },
  {
   "cell_type": "markdown",
   "id": "821d72a7",
   "metadata": {},
   "source": [
    "## Parameter space"
   ]
  },
  {
   "cell_type": "code",
   "execution_count": null,
   "id": "382a9f9a",
   "metadata": {},
   "outputs": [],
   "source": [
    "def beta_calc(f, M):\n",
    "    M_temp = M*2e30\n",
    "    return const*f**(8/3)*M_temp**(5/3)"
   ]
  },
  {
   "cell_type": "code",
   "execution_count": null,
   "id": "856074a6",
   "metadata": {},
   "outputs": [],
   "source": [
    "fspace = np.linspace(20, 2000, 1000)\n",
    "Mspace = np.logspace(-5, -3, 1000)\n",
    "\n",
    "[fgrid, Mgrid] = np.meshgrid(fspace, Mspace)\n",
    "betaGrid = beta_calc(fgrid, Mgrid)"
   ]
  },
  {
   "cell_type": "code",
   "execution_count": null,
   "id": "4d1ca846",
   "metadata": {},
   "outputs": [],
   "source": [
    "pl.contourf(fspace, np.log10(Mspace), np.log10(betaGrid))\n",
    "pl.colorbar()\n",
    "pl.title(r'$log(\\beta)$')\n",
    "pl.xlabel(\"Frequency (Hz)\")\n",
    "pl.ylabel(r'$M_c$ ($M_\\odot$)')"
   ]
  },
  {
   "cell_type": "code",
   "execution_count": null,
   "id": "dc3e3bd8",
   "metadata": {},
   "outputs": [],
   "source": [
    "def t_max_calc(f0, M, f_max):\n",
    "    temp0 = (M/1e-2)**(-5/3)\n",
    "    temp1 = (f0/200)**(-8/3) - (f_max/200)**(-8/3)\n",
    "    return 1e3*temp0*temp1\n",
    "\n",
    "def t_max_calc1(f0, beta, f_max):\n",
    "    temp0 = 0.37/beta\n",
    "    temp1 = 1-(f0/f_max)**(8/3)\n",
    "    return temp0*temp1"
   ]
  },
  {
   "cell_type": "code",
   "execution_count": null,
   "id": "e52a4a4d",
   "metadata": {},
   "outputs": [],
   "source": [
    "tMax_grid = t_max_calc(fgrid, Mgrid, 2000)\n",
    "tMax_grid[tMax_grid>3e7] = 3e7"
   ]
  },
  {
   "cell_type": "code",
   "execution_count": null,
   "id": "40dd28fa",
   "metadata": {},
   "outputs": [],
   "source": [
    "pl.contourf(fspace, np.log10(Mspace), np.log10(tMax_grid))\n",
    "pl.colorbar()\n",
    "pl.title(\"t_max\")\n",
    "pl.xlabel(\"Frequency (Hz)\")\n",
    "pl.ylabel(r'$M_c$ ($M_\\odot$)')"
   ]
  },
  {
   "cell_type": "code",
   "execution_count": null,
   "id": "73d357ea",
   "metadata": {},
   "outputs": [],
   "source": [
    "tMax_grid1 = t_max_calc1(fgrid, betaGrid, 2000)\n",
    "tMax_grid1[tMax_grid1>3e7] = 3e7"
   ]
  },
  {
   "cell_type": "code",
   "execution_count": null,
   "id": "85268d4a",
   "metadata": {},
   "outputs": [],
   "source": [
    "pl.contourf(fspace, np.log10(Mspace), np.log10(tMax_grid1))\n",
    "pl.colorbar()\n",
    "pl.title(\"t_max\")\n",
    "pl.xlabel(\"Frequency (Hz)\")\n",
    "pl.ylabel(r'$M_c$ ($M_\\odot$)')"
   ]
  },
  {
   "cell_type": "code",
   "execution_count": null,
   "id": "267ece3d",
   "metadata": {},
   "outputs": [],
   "source": [
    "beta_space = np.logspace(-12, -1, 1000)\n",
    "beta_small = 1e-7\n",
    "beta_big = 1e-6\n",
    "t_space = np.linspace(0, 1e4, int(1e3))\n",
    "t_new_big = (1-8/3*beta_big*t_space)**(5/8)/beta_big\n",
    "t_new_small = (1-8/3*beta_small*t_space)**(5/8)/beta_small"
   ]
  }
 ],
 "metadata": {
  "kernelspec": {
   "display_name": "Python 3 (ipykernel)",
   "language": "python",
   "name": "python3"
  },
  "language_info": {
   "codemirror_mode": {
    "name": "ipython",
    "version": 3
   },
   "file_extension": ".py",
   "mimetype": "text/x-python",
   "name": "python",
   "nbconvert_exporter": "python",
   "pygments_lexer": "ipython3",
   "version": "3.7.11"
  }
 },
 "nbformat": 4,
 "nbformat_minor": 5
}
