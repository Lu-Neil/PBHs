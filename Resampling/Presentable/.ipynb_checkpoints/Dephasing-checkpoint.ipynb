{
 "cells": [
  {
   "cell_type": "markdown",
   "id": "ad8357f7",
   "metadata": {},
   "source": [
    "### See the related Mathematica notebook \"Dephasing.nb\" for the derivations of expressions used here"
   ]
  },
  {
   "cell_type": "code",
   "execution_count": 1,
   "id": "4b22cf1b",
   "metadata": {},
   "outputs": [],
   "source": [
    "import numpy as np\n",
    "import matplotlib.pyplot as pl\n",
    "import time\n",
    "from joblib import Parallel, delayed"
   ]
  },
  {
   "cell_type": "code",
   "execution_count": 2,
   "id": "2b105ed7",
   "metadata": {},
   "outputs": [],
   "source": [
    "c = 3e8\n",
    "G = 6.67e-11\n",
    "pi = np.pi\n",
    "const = 96/5*pi**(8/3)*(G/c**3)**(5/3)"
   ]
  },
  {
   "cell_type": "code",
   "execution_count": 3,
   "id": "d5fca7e2",
   "metadata": {},
   "outputs": [],
   "source": [
    "def strobo(beta, data, f_ratio):\n",
    "    new_t = -3/5*(1-8/3*beta*t)**(5/8)/beta\n",
    "    f_new = f_signal/f_ratio\n",
    "    \n",
    "    new_t *= f_new #changes the frequency to the new downsampled frequency (approximately, not exactly)\n",
    "    floor_t = np.floor(new_t) #For some reason floor works better than round. Take it to the nearest time index which are integers\n",
    "    idx = np.nonzero(np.diff(floor_t)) #The step that downsamples\n",
    "    resampled = data[idx]\n",
    "    t_out = (new_t[idx])/f_new\n",
    "    return (resampled, t_out)"
   ]
  },
  {
   "cell_type": "markdown",
   "id": "d9674712",
   "metadata": {},
   "source": [
    "Specific arguments"
   ]
  },
  {
   "cell_type": "code",
   "execution_count": 4,
   "id": "6522e7f1",
   "metadata": {},
   "outputs": [],
   "source": [
    "f0 = 120\n",
    "Mc = 3e-4* 2e30\n",
    "f_max = 200\n",
    "T_obs = 1e4\n",
    "pad_len = int(340*T_obs) #~0.01 added length to resampled data\n",
    "beta = const*f0**(8/3)*Mc**(5/3)\n",
    "\n",
    "f_signal = 5*f_max\n",
    "nt = round(f_signal*T_obs)\n",
    "t = np.arange(nt)/f_signal\n",
    "f_ratio = 25"
   ]
  },
  {
   "cell_type": "code",
   "execution_count": 5,
   "id": "4de70539",
   "metadata": {},
   "outputs": [
    {
     "data": {
      "text/plain": [
       "2.7439303219997145e-07"
      ]
     },
     "execution_count": 5,
     "metadata": {},
     "output_type": "execute_result"
    }
   ],
   "source": [
    "beta"
   ]
  },
  {
   "cell_type": "markdown",
   "id": "ef540c5c",
   "metadata": {},
   "source": [
    "## Without any error"
   ]
  },
  {
   "cell_type": "markdown",
   "id": "92e663f2",
   "metadata": {},
   "source": [
    "First we check we understand everything when beta is known exactly. \n",
    "We generate the phase, resample and check it's monochromatic"
   ]
  },
  {
   "cell_type": "code",
   "execution_count": 6,
   "id": "11b8e7ef",
   "metadata": {},
   "outputs": [],
   "source": [
    "phi = -6*pi/5*f0*(1-8./3.*(beta)*t)**(5/8)/beta"
   ]
  },
  {
   "cell_type": "code",
   "execution_count": 7,
   "id": "4b619880",
   "metadata": {},
   "outputs": [],
   "source": [
    "temp_out, temp_time = strobo(beta, phi, 25)"
   ]
  },
  {
   "cell_type": "code",
   "execution_count": 8,
   "id": "c0cfa473",
   "metadata": {
    "scrolled": false
   },
   "outputs": [
    {
     "data": {
      "text/plain": [
       "[<matplotlib.lines.Line2D at 0x7fc8e48e1d90>]"
      ]
     },
     "execution_count": 8,
     "metadata": {},
     "output_type": "execute_result"
    },
    {
     "data": {
      "image/png": "[encoded data removed]",
      "text/plain": [
       "<Figure size 432x288 with 1 Axes>"
      ]
     },
     "metadata": {
      "needs_background": "light"
     },
     "output_type": "display_data"
    }
   ],
   "source": [
    "monochromatic = 2*pi*f0*(temp_time - temp_time[0]) + temp_out[0]\n",
    "pl.plot(temp_time, monochromatic - temp_out)"
   ]
  },
  {
   "cell_type": "code",
   "execution_count": 9,
   "id": "4d9a8f51",
   "metadata": {},
   "outputs": [
    {
     "data": {
      "text/plain": [
       "True"
      ]
     },
     "execution_count": 9,
     "metadata": {},
     "output_type": "execute_result"
    }
   ],
   "source": [
    "np.allclose(monochromatic, temp_out)"
   ]
  },
  {
   "cell_type": "markdown",
   "id": "15949910",
   "metadata": {},
   "source": [
    "This demonstrates resampling works as expected. After resampling, identical to monochromactic up to numerical error"
   ]
  },
  {
   "cell_type": "markdown",
   "id": "1f50f581",
   "metadata": {},
   "source": [
    "## Exact dephasing"
   ]
  },
  {
   "cell_type": "code",
   "execution_count": 10,
   "id": "32345352",
   "metadata": {},
   "outputs": [],
   "source": [
    "delta_beta = 1e-5 * beta\n",
    "phi_exact = -6*pi/5*f0*(1-8./3.*(beta)*t)**(5/8)/beta\n",
    "phi_offset = -6*pi/5*f0*(1-8./3.*(beta+delta_beta)*t)**(5/8)/(beta+delta_beta)"
   ]
  },
  {
   "cell_type": "code",
   "execution_count": 11,
   "id": "aef74162",
   "metadata": {},
   "outputs": [
    {
     "data": {
      "text/plain": [
       "[<matplotlib.lines.Line2D at 0x7fc8c7e190d0>]"
      ]
     },
     "execution_count": 11,
     "metadata": {},
     "output_type": "execute_result"
    },
    {
     "data": {
      "image/png": "[encoded data removed]",
      "text/plain": [
       "<Figure size 432x288 with 1 Axes>"
      ]
     },
     "metadata": {
      "needs_background": "light"
     },
     "output_type": "display_data"
    }
   ],
   "source": [
    "num_dephasing = phi_offset - phi_exact\n",
    "pl.plot(t, num_dephasing)\n",
    "#Includes a constant offset because of the phi0 difference"
   ]
  },
  {
   "cell_type": "markdown",
   "id": "88586fad",
   "metadata": {},
   "source": [
    "We see that the there is a dephasing that scales with time. Note that at t=0 the dephasing != 0 because we expand are $\\Delta \\beta$, not around $t$"
   ]
  },
  {
   "cell_type": "code",
   "execution_count": 12,
   "id": "21df5e50",
   "metadata": {},
   "outputs": [
    {
     "data": {
      "text/plain": [
       "True"
      ]
     },
     "execution_count": 12,
     "metadata": {},
     "output_type": "execute_result"
    }
   ],
   "source": [
    "# We analytically can compute what the dephasing at t=0 is\n",
    "const = 6*pi*f0*delta_beta/(5*(beta**2+delta_beta*beta))\n",
    "np.isclose(num_dephasing[0], const)"
   ]
  },
  {
   "cell_type": "markdown",
   "id": "de9f57be",
   "metadata": {},
   "source": [
    "## Resampled dephasing"
   ]
  },
  {
   "cell_type": "code",
   "execution_count": 13,
   "id": "7122bd04",
   "metadata": {},
   "outputs": [],
   "source": [
    "temp_out, temp_time = strobo(beta, phi_offset, 25)\n",
    "monochromatic = 2*pi*f0*(temp_time - temp_time[0]) + temp_out[0]\n",
    "resampled_dephasing = temp_out - monochromatic"
   ]
  },
  {
   "cell_type": "code",
   "execution_count": 14,
   "id": "9948d428",
   "metadata": {},
   "outputs": [
    {
     "data": {
      "text/plain": [
       "[<matplotlib.lines.Line2D at 0x7fc8e4645650>]"
      ]
     },
     "execution_count": 14,
     "metadata": {},
     "output_type": "execute_result"
    },
    {
     "data": {
      "image/png": "[encoded data removed]",
      "text/plain": [
       "<Figure size 432x288 with 1 Axes>"
      ]
     },
     "metadata": {
      "needs_background": "light"
     },
     "output_type": "display_data"
    }
   ],
   "source": [
    "pl.plot(temp_time, temp_out - monochromatic)"
   ]
  },
  {
   "cell_type": "markdown",
   "id": "45f854d6",
   "metadata": {},
   "source": [
    "We check it is the same as the numerical dephasing (which it should be)"
   ]
  },
  {
   "cell_type": "code",
   "execution_count": 15,
   "id": "58dd5451",
   "metadata": {},
   "outputs": [
    {
     "data": {
      "text/plain": [
       "[<matplotlib.lines.Line2D at 0x7fc8e463df10>]"
      ]
     },
     "execution_count": 15,
     "metadata": {},
     "output_type": "execute_result"
    },
    {
     "data": {
      "image/png": "[encoded data removed]",
      "text/plain": [
       "<Figure size 432x288 with 1 Axes>"
      ]
     },
     "metadata": {
      "needs_background": "light"
     },
     "output_type": "display_data"
    }
   ],
   "source": [
    "pl.plot(temp_time - temp_time[0], resampled_dephasing)\n",
    "pl.plot(t, num_dephasing-const)"
   ]
  },
  {
   "cell_type": "markdown",
   "id": "3ef51169",
   "metadata": {},
   "source": [
    "Cannot check all close because dimensions not the same. Should interpolate and check allclose but SplineInterpolation acted weirdly. By eye looks identical"
   ]
  },
  {
   "cell_type": "markdown",
   "id": "e1d245db",
   "metadata": {},
   "source": [
    "## Approximate dephasing"
   ]
  },
  {
   "cell_type": "markdown",
   "id": "c01c1dd0",
   "metadata": {},
   "source": [
    "We want to find an approximation for the dephasing since the full analytical form is hard to work with"
   ]
  },
  {
   "cell_type": "code",
   "execution_count": 16,
   "id": "6b6a9b31",
   "metadata": {},
   "outputs": [],
   "source": [
    "."
   ]
  },
  {
   "cell_type": "code",
   "execution_count": 17,
   "id": "b91ab843",
   "metadata": {},
   "outputs": [],
   "source": [
    "approx_dephasing = approx_dephasing(t, f0, beta, delta_beta)"
   ]
  },
  {
   "cell_type": "code",
   "execution_count": 18,
   "id": "edceb62e",
   "metadata": {},
   "outputs": [
    {
     "data": {
      "text/plain": [
       "[<matplotlib.lines.Line2D at 0x7fc8e45c2250>]"
      ]
     },
     "execution_count": 18,
     "metadata": {},
     "output_type": "execute_result"
    },
    {
     "data": {
      "image/png": "[encoded data removed]",
      "text/plain": [
       "<Figure size 432x288 with 1 Axes>"
      ]
     },
     "metadata": {
      "needs_background": "light"
     },
     "output_type": "display_data"
    }
   ],
   "source": [
    "pl.plot(t, approx_dephasing)"
   ]
  },
  {
   "cell_type": "markdown",
   "id": "b5874aff",
   "metadata": {},
   "source": [
    "Curve looks of the correct form but the $t=0$ term is slightly different, intuitively this is because the expansion around $\\Delta \\beta$ has a $\\Delta \\beta / \\beta$ piece of the expansion around $t=0$. Here the constant is $\\frac{6 \\pi f_0 \\Delta \\beta}{5\\beta^2}$"
   ]
  },
  {
   "cell_type": "code",
   "execution_count": null,
   "id": "50f9f030",
   "metadata": {},
   "outputs": [],
   "source": [
    "const = 6*pi*f0*delta_beta/(5*beta**2)"
   ]
  },
  {
   "cell_type": "code",
   "execution_count": 81,
   "id": "628c01ab",
   "metadata": {
    "scrolled": true
   },
   "outputs": [
    {
     "data": {
      "text/plain": [
       "[<matplotlib.lines.Line2D at 0x7fc8af8a8090>]"
      ]
     },
     "execution_count": 81,
     "metadata": {},
     "output_type": "execute_result"
    },
    {
     "data": {
      "image/png": "[encoded data removed]",
      "text/plain": [
       "<Figure size 432x288 with 1 Axes>"
      ]
     },
     "metadata": {
      "needs_background": "light"
     },
     "output_type": "display_data"
    }
   ],
   "source": [
    "pl.plot(t, approx_dephasing - num_dephasing - const)"
   ]
  },
  {
   "cell_type": "code",
   "execution_count": 22,
   "id": "8c41f019",
   "metadata": {},
   "outputs": [
    {
     "data": {
      "text/plain": [
       "True"
      ]
     },
     "execution_count": 22,
     "metadata": {},
     "output_type": "execute_result"
    }
   ],
   "source": [
    "np.allclose(approx_dephasing-const*delta_beta/beta, num_dephasing )"
   ]
  },
  {
   "cell_type": "markdown",
   "id": "2ec19d3a",
   "metadata": {},
   "source": [
    "## With tau - resampled time"
   ]
  },
  {
   "cell_type": "markdown",
   "id": "bd880702",
   "metadata": {},
   "source": [
    "We check the analytics also work with $\\tau$ the resampled time, this in principle should be exactly identical"
   ]
  },
  {
   "cell_type": "code",
   "execution_count": 62,
   "id": "36f01301",
   "metadata": {},
   "outputs": [],
   "source": [
    "# These are just the same expressions written in different ways\n",
    "\n",
    "def g(tau, beta, delta_beta):\n",
    "    A = 3**(8/5)*5**(-3/5)\n",
    "    B = 3\n",
    "    C = 8\n",
    "    return delta_beta/beta * (A+B*(beta*tau)**(8/5))/(C*(beta*tau)**(8/5))\n",
    "\n",
    "def tau_dephasing(tau, beta, delta_beta):\n",
    "    temp0 = 3*f0*pi*delta_beta*(3**(3/5)*5**(2/5)+5*np.power(beta*tau, 8/5))\n",
    "    temp1 = 20*beta**2*np.power(beta*tau, 3/5)\n",
    "    return temp0/temp1\n",
    "# Be careful with numerical overflow, changing the position of\n",
    "# delta_beta caused big problems "
   ]
  },
  {
   "cell_type": "code",
   "execution_count": 63,
   "id": "375a0281",
   "metadata": {},
   "outputs": [],
   "source": [
    "tau = 3/5*(1-8/3*beta*t)**(5/8)/beta"
   ]
  },
  {
   "cell_type": "code",
   "execution_count": 75,
   "id": "4183015a",
   "metadata": {},
   "outputs": [],
   "source": [
    "# pi/4 is normal phase error condition"
   ]
  },
  {
   "cell_type": "code",
   "execution_count": 64,
   "id": "f31bb574",
   "metadata": {},
   "outputs": [
    {
     "data": {
      "text/plain": [
       "True"
      ]
     },
     "execution_count": 64,
     "metadata": {},
     "output_type": "execute_result"
    }
   ],
   "source": [
    "# First we check all the phase without any error is correct\n",
    "np.allclose(-2*pi*f0*tau, phi_exact) "
   ]
  },
  {
   "cell_type": "code",
   "execution_count": 65,
   "id": "68f15182",
   "metadata": {},
   "outputs": [],
   "source": [
    "tau_dephasing = tau_dephasing(tau, beta, delta_beta)\n",
    "resampled_dephasing = 2*pi*f0*tau*g(tau, beta, delta_beta)"
   ]
  },
  {
   "cell_type": "code",
   "execution_count": 67,
   "id": "1fa2591c",
   "metadata": {},
   "outputs": [
    {
     "data": {
      "text/plain": [
       "True"
      ]
     },
     "execution_count": 67,
     "metadata": {},
     "output_type": "execute_result"
    }
   ],
   "source": [
    "np.allclose(tau_dephasing, resampled_dephasing)\n",
    "# The two expressions are the same as expected"
   ]
  },
  {
   "cell_type": "code",
   "execution_count": 42,
   "id": "adb0f79e",
   "metadata": {},
   "outputs": [
    {
     "data": {
      "text/plain": [
       "[<matplotlib.lines.Line2D at 0x7fc8c7b9d4d0>]"
      ]
     },
     "execution_count": 42,
     "metadata": {},
     "output_type": "execute_result"
    },
    {
     "data": {
      "image/png": "[encoded data removed]",
      "text/plain": [
       "<Figure size 432x288 with 1 Axes>"
      ]
     },
     "metadata": {
      "needs_background": "light"
     },
     "output_type": "display_data"
    }
   ],
   "source": [
    "pl.plot(tau_dephasing)"
   ]
  },
  {
   "cell_type": "code",
   "execution_count": 69,
   "id": "38c733ce",
   "metadata": {},
   "outputs": [
    {
     "data": {
      "text/plain": [
       "True"
      ]
     },
     "execution_count": 69,
     "metadata": {},
     "output_type": "execute_result"
    }
   ],
   "source": [
    "np.allclose(tau_dephasing, approx_dephasing)\n",
    "# And it is also the same as approx_dephasing, \n",
    "# so we understand everything"
   ]
  },
  {
   "cell_type": "markdown",
   "id": "326c54d6",
   "metadata": {},
   "source": [
    "Now we have an understanding of an analytical approximation for the phase error caused by resampling with some error $\\Delta \\beta$. As long as the phase error is less than $\\approx \\pi/4$, the power should be mostly confined into 1 bin"
   ]
  },
  {
   "cell_type": "code",
   "execution_count": null,
   "id": "1732a353",
   "metadata": {},
   "outputs": [],
   "source": []
  }
 ],
 "metadata": {
  "kernelspec": {
   "display_name": "Python 3 (ipykernel)",
   "language": "python",
   "name": "python3"
  },
  "language_info": {
   "codemirror_mode": {
    "name": "ipython",
    "version": 3
   },
   "file_extension": ".py",
   "mimetype": "text/x-python",
   "name": "python",
   "nbconvert_exporter": "python",
   "pygments_lexer": "ipython3",
   "version": "3.7.11"
  }
 },
 "nbformat": 4,
 "nbformat_minor": 5
}
